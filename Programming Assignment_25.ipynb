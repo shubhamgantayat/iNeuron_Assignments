{
 "cells": [
  {
   "cell_type": "markdown",
   "metadata": {},
   "source": [
    "#1 Create a function that takes three integer arguments (a, b, c) and returns the amount of\n",
    "integers which are of equal value.\n",
    "Examples\n",
    "\n",
    "equal(3, 4, 3) ➞ 2\n",
    "\n",
    "equal(1, 1, 1) ➞ 3\n",
    "\n",
    "equal(3, 4, 1) ➞ 0\n",
    "\n",
    "Notes\n",
    "\n",
    "Your function must return 0, 2 or 3."
   ]
  },
  {
   "cell_type": "code",
   "execution_count": 4,
   "metadata": {},
   "outputs": [
    {
     "name": "stdout",
     "output_type": "stream",
     "text": [
      "2\n"
     ]
    }
   ],
   "source": [
    "class number_func:\n",
    "    \n",
    "    def equal(self,a,b,c):\n",
    "        if(type(a) == int and type(b) == int and type(c) == int):\n",
    "            if(len({a,b,c}) == 1):\n",
    "                return 3\n",
    "            elif(len({a,b,c}) == 2):\n",
    "                return 2\n",
    "            else:\n",
    "                return 0\n",
    "        else:\n",
    "            raise ValueError('int arguments are required')\n",
    "            \n",
    "try:\n",
    "    print(number_func().equal(3,4,3))\n",
    "except ValueError as e:\n",
    "    print(e)\n",
    "except Exception as e:\n",
    "    print(e)"
   ]
  },
  {
   "cell_type": "markdown",
   "metadata": {},
   "source": [
    "#2 Write a function that converts a dictionary into a list of keys-values tuples.\n",
    "\n",
    "Examples\n",
    "\n",
    "dict_to_list({\n",
    "&quot;D&quot;: 1,\n",
    "&quot;B&quot;: 2,\n",
    "&quot;C&quot;: 3\n",
    "}) ➞ [(&quot;B&quot;, 2), (&quot;C&quot;, 3), (&quot;D&quot;, 1)]\n",
    "\n",
    "dict_to_list({\n",
    "&quot;likes&quot;: 2,\n",
    "&quot;dislikes&quot;: 3,\n",
    "&quot;followers&quot;: 10\n",
    "}) ➞ [(&quot;dislikes&quot;, 3), (&quot;followers&quot;, 10), (&quot;likes&quot;, 2)]\n",
    "\n",
    "Notes\n",
    "\n",
    "Return the elements in the list in alphabetical order."
   ]
  },
  {
   "cell_type": "code",
   "execution_count": 7,
   "metadata": {},
   "outputs": [
    {
     "name": "stdout",
     "output_type": "stream",
     "text": [
      "[('D', 1), ('B', 2), ('C', 3)]\n"
     ]
    }
   ],
   "source": [
    "class dict_func:\n",
    "    \n",
    "    def dict_to_list(self,d):\n",
    "        if(type(d) == dict):\n",
    "            return [(i,j) for i,j in d.items()]\n",
    "        else:\n",
    "            raise ValueError('dict values is required')\n",
    "            \n",
    "try:\n",
    "    print(dict_func().dict_to_list({ \"D\": 1, \"B\": 2, \"C\": 3 }))\n",
    "except ValueError as e:\n",
    "    print(e)\n",
    "except Exception as e:\n",
    "    print(e)"
   ]
  },
  {
   "cell_type": "markdown",
   "metadata": {},
   "source": [
    "#3 Write a function that creates a dictionary with each (key, value) pair being the (lower case,\n",
    "upper case) versions of a letter, respectively.\n",
    "Examples\n",
    "\n",
    "mapping([&quot;p&quot;, &quot;s&quot;]) ➞ { &quot;p&quot;: &quot;P&quot;, &quot;s&quot;: &quot;S&quot; }\n",
    "\n",
    "mapping([&quot;a&quot;, &quot;b&quot;, &quot;c&quot;]) ➞ { &quot;a&quot;: &quot;A&quot;, &quot;b&quot;: &quot;B&quot;, &quot;c&quot;: &quot;C&quot; }\n",
    "\n",
    "mapping([&quot;a&quot;, &quot;v&quot;, &quot;y&quot;, &quot;z&quot;]) ➞ { &quot;a&quot;: &quot;A&quot;, &quot;v&quot;: &quot;V&quot;, &quot;y&quot;: &quot;Y&quot;, &quot;z&quot;: &quot;Z&quot; }\n",
    "\n",
    "Notes\n",
    "\n",
    "All of the letters in the input list will always be lowercase."
   ]
  },
  {
   "cell_type": "code",
   "execution_count": 1,
   "metadata": {},
   "outputs": [
    {
     "name": "stdout",
     "output_type": "stream",
     "text": [
      "{'a': 'A', 'v': 'V', 'y': 'Y', 'z': 'Z'}\n"
     ]
    }
   ],
   "source": [
    "class InvalidListError(Exception):\n",
    "    \n",
    "    def __init__(self,message):\n",
    "        super().__init__(message)\n",
    "\n",
    "class list_func:\n",
    "    \n",
    "    def mapping(self,l):\n",
    "        if(type(l) == list):\n",
    "            d = dict()\n",
    "            for i in l:\n",
    "                if(type(i) == str and len(i) == 1 and 97<=ord(i)<=122):\n",
    "                    d[i] = i.upper()\n",
    "                else:\n",
    "                    raise InvalidListError('Please enter a valid list')\n",
    "            return d\n",
    "        else:\n",
    "            raise ValueError('list expected')\n",
    "            \n",
    "    \n",
    "try:\n",
    "    print(list_func().mapping([\"a\", \"v\", \"y\", \"z\"]))\n",
    "except ValueError as e:\n",
    "    print(e)\n",
    "except InvalidListError as e:\n",
    "    print(e)\n",
    "except Exception as e:\n",
    "    print(e)"
   ]
  },
  {
   "cell_type": "markdown",
   "metadata": {},
   "source": [
    "#4 Write a function, that replaces all vowels in a string with a specified vowel.\n",
    "Examples\n",
    "\n",
    "vow_replace(&quot;apples and bananas&quot;, &quot;u&quot;) ➞ &quot;upplus und bununus&quot;\n",
    "\n",
    "vow_replace(&quot;cheese casserole&quot;, &quot;o&quot;) ➞ &quot;chooso cossorolo&quot;\n",
    "\n",
    "vow_replace(&quot;stuffed jalapeno poppers&quot;, &quot;e&quot;) ➞ &quot;steffed jelepene peppers&quot;\n",
    "\n",
    "Notes\n",
    "\n",
    "All words will be lowercase. Y is not considered a vowel."
   ]
  },
  {
   "cell_type": "code",
   "execution_count": 6,
   "metadata": {},
   "outputs": [
    {
     "name": "stdout",
     "output_type": "stream",
     "text": [
      "upplus und bununus\n"
     ]
    }
   ],
   "source": [
    "class InvalidStringError(Exception):\n",
    "    \n",
    "    def __init__(self,message):\n",
    "        super().__init__(message)\n",
    "\n",
    "class string_func:\n",
    "    \n",
    "    def vow_replace(self,string,char):\n",
    "        if(type(string) == str and type(char) == str) :\n",
    "            if(len(char) == 1 and char.lower() in ['a','e','i','o','u']):\n",
    "                if(string.islower() and char.islower()):\n",
    "                    for i in ['a','e','i','o','u']:\n",
    "                        string = string.replace(i,char)\n",
    "                    return string\n",
    "                else:\n",
    "                    raise InvalidStringError('everything must be in lower case')\n",
    "            else:\n",
    "                raise InvalidStringError('please enter a single vowel as the replacing character')\n",
    "        else:\n",
    "            raise ValueError('str expected')\n",
    "            \n",
    "            \n",
    "try:\n",
    "    print(string_func().vow_replace(\"apples and bananas\", \"u\"))\n",
    "except InvalidStringError as e:\n",
    "    print(e)\n",
    "except ValueError as e:\n",
    "    print(e)\n",
    "except Exception as e:\n",
    "    print(e)"
   ]
  },
  {
   "cell_type": "markdown",
   "metadata": {},
   "source": [
    "#5 Create a function that takes a string as input and capitalizes a letter if its ASCII code is even\n",
    "and returns its lower case version if its ASCII code is odd.\n",
    "Examples\n",
    "\n",
    "ascii_capitalize(&quot;to be or not to be!&quot;) ➞ &quot;To Be oR NoT To Be!&quot;\n",
    "\n",
    "ascii_capitalize(&quot;THE LITTLE MERMAID&quot;) ➞ &quot;THe LiTTLe meRmaiD&quot;\n",
    "\n",
    "ascii_capitalize(&quot;Oh what a beautiful morning.&quot;) ➞ &quot;oH wHaT a BeauTiFuL\n",
    "moRNiNg.&quot;"
   ]
  },
  {
   "cell_type": "code",
   "execution_count": 7,
   "metadata": {},
   "outputs": [
    {
     "name": "stdout",
     "output_type": "stream",
     "text": [
      "THe LiTTLe meRmaiD\n"
     ]
    }
   ],
   "source": [
    "class string_func:\n",
    "    \n",
    "    def ascii_capitalize(self,s):\n",
    "        if(type(s) == str):\n",
    "            s1 = ''\n",
    "            for i in s:\n",
    "                if(ord(i) % 2 == 0):\n",
    "                    s1 += i.upper()\n",
    "                else:\n",
    "                    s1 += i.lower()\n",
    "            return s1\n",
    "        else:\n",
    "            raise ValueError('str expected')\n",
    "            \n",
    "            \n",
    "try:\n",
    "    print(string_func().ascii_capitalize(\"THE LITTLE MERMAID\"))\n",
    "except ValueError as e:\n",
    "    print(e)\n",
    "except Exception as e:\n",
    "    print(e)"
   ]
  },
  {
   "cell_type": "code",
   "execution_count": null,
   "metadata": {},
   "outputs": [],
   "source": []
  }
 ],
 "metadata": {
  "kernelspec": {
   "display_name": "Python 3",
   "language": "python",
   "name": "python3"
  },
  "language_info": {
   "codemirror_mode": {
    "name": "ipython",
    "version": 3
   },
   "file_extension": ".py",
   "mimetype": "text/x-python",
   "name": "python",
   "nbconvert_exporter": "python",
   "pygments_lexer": "ipython3",
   "version": "3.7.6"
  }
 },
 "nbformat": 4,
 "nbformat_minor": 4
}
