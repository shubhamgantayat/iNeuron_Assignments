{
 "cells": [
  {
   "cell_type": "markdown",
   "metadata": {},
   "source": [
    "#1 YouTube offers different playback speed options for users. This allows\n",
    "users to increase or decrease the speed of the video content. Given the\n",
    "actual duration and playback speed of the video, calculate the playback\n",
    "duration of the video.\n",
    "Examples\n",
    "\n",
    "playback_duration(&quot;00:30:00&quot;, 2) ➞ &quot;00:15:00&quot;\n",
    "\n",
    "playback_duration(&quot;01:20:00&quot;, 1.5) ➞ &quot;00:53:20&quot;\n",
    "\n",
    "playback_duration(&quot;51:20:09&quot;, 0.5) ➞ &quot;102:40:18&quot;"
   ]
  },
  {
   "cell_type": "code",
   "execution_count": 11,
   "metadata": {},
   "outputs": [
    {
     "name": "stdout",
     "output_type": "stream",
     "text": [
      "00:15:00\n"
     ]
    }
   ],
   "source": [
    "class youtube:\n",
    "    \n",
    "    def playback_duration(self,s,t):\n",
    "        return self.to_hour_min_sec(self.to_seconds(s) // t)\n",
    "    \n",
    "    def to_seconds(self,s):\n",
    "        h,m,s = [int(i) for i in s.split(':')]\n",
    "        return h * 3600 + m * 60 + s\n",
    "    \n",
    "    def to_hour_min_sec(self,s):\n",
    "        h = s // 3600\n",
    "        s = s % 3600\n",
    "        m = s // 60\n",
    "        s = s % 60\n",
    "        return self.to_string(h) + \":\" + self.to_string(m) + \":\" + self.to_string(s)\n",
    "        \n",
    "            \n",
    "    def to_string(self,h):\n",
    "        string = ''\n",
    "        if(h == 0):\n",
    "            string += '00'\n",
    "        elif(1 <= h <= 9):\n",
    "            string += '0' + str(h)\n",
    "        else:\n",
    "            string += str(h)\n",
    "        return string\n",
    "    \n",
    "    \n",
    "try:\n",
    "    print(youtube().playback_duration(\"00:30:00\", 2))\n",
    "except Exception as e:\n",
    "    print(e)"
   ]
  },
  {
   "cell_type": "markdown",
   "metadata": {},
   "source": [
    "#2 We needs your help to construct a building which will be a pile of n cubes.\n",
    "The cube at the bottom will have a volume of n^3, the cube above will have\n",
    "volume of (n-1)^3 and so on until the top which will have a volume of 1^3.\n",
    "Given the total volume m of the building, can you find the number of cubes n\n",
    "required for the building?\n",
    "In other words, you have to return an integer n such that:\n",
    "\n",
    "n^3 + (n-1)^3 + ... + 1^3 == m\n",
    "\n",
    "Return None if there is no such number.\n",
    "Examples\n",
    "\n",
    "pile_of_cubes(1071225) ➞ 45\n",
    "\n",
    "pile_of_cubes(4183059834009) ➞ 2022\n",
    "\n",
    "pile_of_cubes(16) ➞ None"
   ]
  },
  {
   "cell_type": "code",
   "execution_count": 15,
   "metadata": {},
   "outputs": [
    {
     "name": "stdout",
     "output_type": "stream",
     "text": [
      "2022\n"
     ]
    }
   ],
   "source": [
    "class cube:\n",
    "    \n",
    "    sum_cube = 0\n",
    "    count = 0\n",
    "    \n",
    "    def pile_of_cubes(self,n):\n",
    "        if(self.sum_cube > n):\n",
    "            return None\n",
    "        elif(self.sum_cube == n):\n",
    "            return self.count\n",
    "        else:\n",
    "            self.count += 1\n",
    "            self.sum_cube += self.count ** 3\n",
    "            return self.pile_of_cubes(n)\n",
    "        \n",
    "try:\n",
    "    print(cube().pile_of_cubes(4183059834009))\n",
    "except Exception as e:\n",
    "    print(e)"
   ]
  },
  {
   "cell_type": "markdown",
   "metadata": {},
   "source": [
    "#3 A fulcrum of a list is an integer such that all elements to the left of it and all\n",
    "elements to the right of it sum to the same value. Write a function that finds\n",
    "the fulcrum of a list.\n",
    "To illustrate:\n",
    "find_fulcrum([3, 1, 5, 2, 4, 6, -1]) ➞ 2\n",
    "// Since [3, 1, 5] and [4, 6, -1] both sum to 9\n",
    "Examples\n",
    "\n",
    "find_fulcrum([1, 2, 4, 9, 10, -10, -9, 3]) ➞ 4\n",
    "\n",
    "find_fulcrum([9, 1, 9]) ➞ 1\n",
    "\n",
    "find_fulcrum([7, -1, 0, -1, 1, 1, 2, 3]) ➞ 0\n",
    "\n",
    "find_fulcrum([8, 8, 8, 8]) ➞ -1"
   ]
  },
  {
   "cell_type": "code",
   "execution_count": 23,
   "metadata": {},
   "outputs": [
    {
     "name": "stdout",
     "output_type": "stream",
     "text": [
      "4\n"
     ]
    }
   ],
   "source": [
    "class fulcrum:\n",
    "    \n",
    "    def find_fulcrum(self,l):\n",
    "        for i in range(1,len(l) - 1):\n",
    "            if(sum(l[0:i]) == sum(l[i + 1:])):\n",
    "                return l[i]\n",
    "        return None\n",
    "    \n",
    "try:\n",
    "    print(fulcrum().find_fulcrum([1, 2, 4, 9, 10, -10, -9, 3]))\n",
    "except Exception as e:\n",
    "    print(e)"
   ]
  },
  {
   "cell_type": "markdown",
   "metadata": {},
   "source": [
    "#4 Given a list of integers representing the color of each sock, determine how\n",
    "many pairs of socks with matching colors there are. For example, there are 7\n",
    "socks with colors [1, 2, 1, 2, 1, 3, 2]. There is one pair of color 1 and one of\n",
    "color 2. There are three odd socks left, one of each color. The number of\n",
    "pairs is 2.\n",
    "Create a function that returns an integer representing the number of matching\n",
    "pairs of socks that are available.\n",
    "Examples\n",
    "\n",
    "sock_merchant([10, 20, 20, 10, 10, 30, 50, 10, 20]) ➞ 3\n",
    "\n",
    "sock_merchant([50, 20, 30, 90, 30, 20, 50, 20, 90]) ➞ 4\n",
    "\n",
    "sock_merchant([]) ➞ 0"
   ]
  },
  {
   "cell_type": "code",
   "execution_count": 43,
   "metadata": {},
   "outputs": [
    {
     "name": "stdout",
     "output_type": "stream",
     "text": [
      "3\n"
     ]
    }
   ],
   "source": [
    "class sock:\n",
    "    \n",
    "    def sock_merchant(self,l):\n",
    "        d = dict().fromkeys(set(l),0)\n",
    "        for i in l:\n",
    "            d[i] += 1\n",
    "        l1 = list(map(lambda x:(x-1)//2 if x % 2 != 0 else x//2,list(d.values())))\n",
    "        return sum(l1)\n",
    "    \n",
    "    \n",
    "try:\n",
    "    print(sock().sock_merchant([10, 20, 20, 10, 10, 30, 50, 10, 20]))\n",
    "except Exception as e:\n",
    "    print(e)"
   ]
  },
  {
   "cell_type": "markdown",
   "metadata": {},
   "source": [
    "#5 Create a function that takes a string containing integers as well as other\n",
    "characters and return the sum of the negative integers only.\n",
    "Examples\n",
    "\n",
    "negative_sum(&quot;-12 13%14&amp;-11&quot;) ➞ -23\n",
    "\n",
    "-12 + -11 = -23\n",
    "\n",
    "negative_sum(&quot;22 13%14&amp;-11-22 13 12&quot;) ➞ -33\n",
    "\n",
    "-11 + -22 = -33"
   ]
  },
  {
   "cell_type": "code",
   "execution_count": 3,
   "metadata": {},
   "outputs": [
    {
     "name": "stdout",
     "output_type": "stream",
     "text": [
      "-23\n"
     ]
    }
   ],
   "source": [
    "import re\n",
    "from functools import reduce\n",
    "\n",
    "class string_func:\n",
    "    \n",
    "    def negative_sum(self,s):\n",
    "        return reduce(lambda x,y:int(x) + int(y),re.findall('-[0-9]+',s))\n",
    "    \n",
    "    \n",
    "try:\n",
    "    print(string_func().negative_sum(\"-12 13%14&-11\"))\n",
    "except Exception as e:\n",
    "    print(e)"
   ]
  },
  {
   "cell_type": "code",
   "execution_count": null,
   "metadata": {},
   "outputs": [],
   "source": []
  },
  {
   "cell_type": "code",
   "execution_count": null,
   "metadata": {},
   "outputs": [],
   "source": []
  }
 ],
 "metadata": {
  "kernelspec": {
   "display_name": "Python 3",
   "language": "python",
   "name": "python3"
  },
  "language_info": {
   "codemirror_mode": {
    "name": "ipython",
    "version": 3
   },
   "file_extension": ".py",
   "mimetype": "text/x-python",
   "name": "python",
   "nbconvert_exporter": "python",
   "pygments_lexer": "ipython3",
   "version": "3.7.6"
  }
 },
 "nbformat": 4,
 "nbformat_minor": 4
}
