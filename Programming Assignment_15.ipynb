{
 "cells": [
  {
   "cell_type": "markdown",
   "metadata": {},
   "source": [
    "#1 Please write a program using generator to print the numbers which can be divisible by 5 and\n",
    "7 between 0 and n in comma separated form while n is input by console.\n",
    "Example:\n",
    "If the following n is given as input to the program:\n",
    "100\n",
    "Then, the output of the program should be:\n",
    "0,35,70"
   ]
  },
  {
   "cell_type": "code",
   "execution_count": 11,
   "metadata": {},
   "outputs": [
    {
     "name": "stdin",
     "output_type": "stream",
     "text": [
      "Enter n : 100\n"
     ]
    },
    {
     "name": "stdout",
     "output_type": "stream",
     "text": [
      "[0, 35, 70]\n"
     ]
    }
   ],
   "source": [
    "class div_by_7_and_5:\n",
    "    \n",
    "    def __init__(self,n):\n",
    "        self.__n = n\n",
    "        \n",
    "    def generate(self):\n",
    "        lcm = 7 * 5\n",
    "        for i in range(0,self.__n+1,lcm):\n",
    "            yield i\n",
    "            \n",
    "    def __str__(self):\n",
    "        return 'Returns the numbers divisible by 7 and 5 between 0 to ' + str(self.__n)\n",
    "        \n",
    "obj = div_by_7_and_5(int(input('Enter n :')))\n",
    "print(list(iter(obj.generate())))"
   ]
  },
  {
   "cell_type": "markdown",
   "metadata": {},
   "source": [
    "#2 Please write a program using generator to print the even numbers between 0 and n in comma\n",
    "separated form while n is input by console.\n",
    "Example:\n",
    "If the following n is given as input to the program:\n",
    "10\n",
    "Then, the output of the program should be:\n",
    "0,2,4,6,8,10"
   ]
  },
  {
   "cell_type": "code",
   "execution_count": 12,
   "metadata": {},
   "outputs": [
    {
     "name": "stdin",
     "output_type": "stream",
     "text": [
      "Enter n :  10\n"
     ]
    },
    {
     "name": "stdout",
     "output_type": "stream",
     "text": [
      "[0, 2, 4, 6, 8, 10]\n"
     ]
    }
   ],
   "source": [
    "class even:\n",
    "    \n",
    "    def __init__(self,n):\n",
    "        self.__n = n\n",
    "        \n",
    "    def generate(self):\n",
    "        for i in range(0,self.__n+1,2):\n",
    "            yield i\n",
    "            \n",
    "    def __str__(self):\n",
    "        return 'Returns even numbers between 0 to ' + str(self.__n)\n",
    "    \n",
    "obj = even(int(input('Enter n : ')))\n",
    "print(list(iter(obj.generate())))"
   ]
  },
  {
   "cell_type": "markdown",
   "metadata": {},
   "source": [
    "#3 The Fibonacci Sequence is computed based on the following formula:\n",
    "f(n)=0 if n=0\n",
    "f(n)=1 if n=1\n",
    "f(n)=f(n-1)+f(n-2) if n&gt;1\n",
    "Please write a program using list comprehension to print the Fibonacci Sequence in comma\n",
    "separated form with a given n input by console."
   ]
  },
  {
   "cell_type": "code",
   "execution_count": 34,
   "metadata": {},
   "outputs": [
    {
     "name": "stdout",
     "output_type": "stream",
     "text": [
      "[0, 1, 1, 2, 3, 5, 8, 13]\n"
     ]
    }
   ],
   "source": [
    "class fibonacci:\n",
    "    \n",
    "    def __init__(self,n):\n",
    "        self.__n = n\n",
    "        \n",
    "    def generate(self,a = 0,b = 1,count  = 0):\n",
    "        if(self.__n == 0):\n",
    "            yield self.__n\n",
    "        else:\n",
    "            if(count == 0):\n",
    "                yield a\n",
    "            if(count != self.__n):\n",
    "                yield b\n",
    "                yield from self.generate(b,a+b,count + 1)\n",
    "        \n",
    "    def __str__(self):\n",
    "        return 'Returns fibonacci numbers between 0 to ' + str(self.__n)\n",
    "    \n",
    "    \n",
    "obj = fibonacci(7)\n",
    "print([i for i in iter(obj.generate())])"
   ]
  },
  {
   "cell_type": "markdown",
   "metadata": {},
   "source": [
    "#4 Assuming that we have some email addresses in the &quot;username@companyname.com&quot; format,\n",
    "please write program to print the user name of a given email address. Both user names and\n",
    "company names are composed of letters only.\n",
    "Example:\n",
    "If the following email address is given as input to the program:\n",
    "john@google.com\n",
    "Then, the output of the program should be:\n",
    "john"
   ]
  },
  {
   "cell_type": "code",
   "execution_count": 26,
   "metadata": {},
   "outputs": [
    {
     "name": "stdout",
     "output_type": "stream",
     "text": [
      "john\n"
     ]
    }
   ],
   "source": [
    "class email:\n",
    "    \n",
    "    def __init__(self,s):\n",
    "        self.s = s\n",
    "        \n",
    "    def extractName(self):\n",
    "        return self.s.split('@')[0]\n",
    "    \n",
    "    def __str__(self):\n",
    "        return 'extracts the name from the email'\n",
    "    \n",
    "obj = email('john@google.com')\n",
    "print(obj.extractName())"
   ]
  },
  {
   "cell_type": "markdown",
   "metadata": {},
   "source": [
    "#5 Define a class named Shape and its subclass Square. The Square class has an init function\n",
    "which takes a length as argument. Both classes have a area function which can print the area\n",
    "of the shape where Shape&#39;s area is 0 by default."
   ]
  },
  {
   "cell_type": "code",
   "execution_count": 36,
   "metadata": {},
   "outputs": [
    {
     "name": "stdout",
     "output_type": "stream",
     "text": [
      "16\n"
     ]
    }
   ],
   "source": [
    "class Shape:\n",
    "    \n",
    "    def area(self):\n",
    "        return 0\n",
    "    \n",
    "class Square(Shape):\n",
    "    \n",
    "    def __init__(self,side):\n",
    "        self.__side = side\n",
    "        \n",
    "    def area(self):\n",
    "        return self.__side ** 2\n",
    "    \n",
    "obj = Square(4)\n",
    "print(obj.area())"
   ]
  },
  {
   "cell_type": "code",
   "execution_count": null,
   "metadata": {},
   "outputs": [],
   "source": []
  }
 ],
 "metadata": {
  "kernelspec": {
   "display_name": "Python 3",
   "language": "python",
   "name": "python3"
  },
  "language_info": {
   "codemirror_mode": {
    "name": "ipython",
    "version": 3
   },
   "file_extension": ".py",
   "mimetype": "text/x-python",
   "name": "python",
   "nbconvert_exporter": "python",
   "pygments_lexer": "ipython3",
   "version": "3.7.6"
  }
 },
 "nbformat": 4,
 "nbformat_minor": 4
}
