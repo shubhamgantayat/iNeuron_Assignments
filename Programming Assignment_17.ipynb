{
 "cells": [
  {
   "cell_type": "markdown",
   "metadata": {},
   "source": [
    "#1 Create a function that takes three arguments a, b, c and returns the sum of the\n",
    "numbers that are evenly divided by c from the range a, b inclusive."
   ]
  },
  {
   "cell_type": "code",
   "execution_count": 2,
   "metadata": {},
   "outputs": [
    {
     "name": "stdout",
     "output_type": "stream",
     "text": [
      "30\n"
     ]
    }
   ],
   "source": [
    "class number:\n",
    "    \n",
    "    def __init__(self,a,b,c):\n",
    "        self.a = a\n",
    "        self.b = b\n",
    "        self.c = c\n",
    "        \n",
    "    def generate(self):\n",
    "        l = []\n",
    "        for i in range(self.a,self.b+1):\n",
    "            if(i % self.c == 0):\n",
    "                break\n",
    "        return sum(range(i,self.b+1,self.c))\n",
    "    \n",
    "obj = number(1,10,2)\n",
    "print(obj.generate())"
   ]
  },
  {
   "cell_type": "markdown",
   "metadata": {},
   "source": [
    "#2 Create a function that returns True if a given inequality expression is correct and\n",
    "False otherwise."
   ]
  },
  {
   "cell_type": "code",
   "execution_count": 4,
   "metadata": {},
   "outputs": [
    {
     "name": "stdout",
     "output_type": "stream",
     "text": [
      "False\n"
     ]
    }
   ],
   "source": [
    "class inequality:\n",
    "    \n",
    "    def __init__(self,exp):\n",
    "        self.exp = exp\n",
    "        \n",
    "    def check(self):\n",
    "        return eval(self.exp)\n",
    "    \n",
    "obj = inequality('13 > 44 > 33 > 1')\n",
    "print(obj.check())"
   ]
  },
  {
   "cell_type": "markdown",
   "metadata": {},
   "source": [
    "#3 Create a function that replaces all the vowels in a string with a specified character."
   ]
  },
  {
   "cell_type": "code",
   "execution_count": 5,
   "metadata": {},
   "outputs": [
    {
     "name": "stdout",
     "output_type": "stream",
     "text": [
      "sh@bh@m\n"
     ]
    }
   ],
   "source": [
    "class character:\n",
    "    \n",
    "    def __init__(self,string,char):\n",
    "        self.string = string\n",
    "        self.char = char\n",
    "        \n",
    "    def replace(self):\n",
    "        newString = ''\n",
    "        for i in self.string:\n",
    "            if(i.lower() in ['a','e','i','o','u']):\n",
    "                newString += self.char\n",
    "            else:\n",
    "                newString += i\n",
    "        return newString\n",
    "    \n",
    "obj = character('shubham','@')\n",
    "print(obj.replace())"
   ]
  },
  {
   "cell_type": "markdown",
   "metadata": {},
   "source": [
    "#4 Write a function that calculates the factorial of a number recursively."
   ]
  },
  {
   "cell_type": "code",
   "execution_count": 2,
   "metadata": {},
   "outputs": [
    {
     "name": "stdout",
     "output_type": "stream",
     "text": [
      "120\n"
     ]
    }
   ],
   "source": [
    "class number:\n",
    "    \n",
    "    def __init__(self,n):\n",
    "        self.n = n\n",
    "        \n",
    "    def factorial(self):\n",
    "        if(self.n < 0):\n",
    "            return 'Invalid no.'\n",
    "        elif(self.n == 0 or self.n == 1):\n",
    "            return 1\n",
    "        else:\n",
    "            return self.n * number(self.n-1).factorial()\n",
    "        \n",
    "obj = number(5)\n",
    "print(obj.factorial())"
   ]
  },
  {
   "cell_type": "markdown",
   "metadata": {},
   "source": [
    "#5 Hamming distance is the number of characters that differ between two strings.\n",
    "To illustrate:\n",
    "String1: &quot;abcbba&quot;\n",
    "String2: &quot;abcbda&quot;\n",
    "Hamming Distance: 1 - &quot;b&quot; vs. &quot;d&quot; is the only difference.\n",
    "Create a function that computes the hamming distance between two strings."
   ]
  },
  {
   "cell_type": "code",
   "execution_count": 7,
   "metadata": {},
   "outputs": [
    {
     "name": "stdout",
     "output_type": "stream",
     "text": [
      "1\n"
     ]
    }
   ],
   "source": [
    "class Hamming:\n",
    "    \n",
    "    def __init__(self,str1,str2):\n",
    "        self.str1 = str1\n",
    "        self.str2 = str2\n",
    "        \n",
    "    def calcHammingDistance(self):\n",
    "        if(len(self.str1) != len(self.str2)):\n",
    "            return 'Strings should be of equal length'\n",
    "        else:\n",
    "            c = 0\n",
    "            for i in range(len(self.str1)):\n",
    "                c += (self.str1[i] != self.str2[i])\n",
    "            return c\n",
    "        \n",
    "obj = Hamming('strong','strung')\n",
    "print(obj.calcHammingDistance())"
   ]
  },
  {
   "cell_type": "code",
   "execution_count": null,
   "metadata": {},
   "outputs": [],
   "source": []
  }
 ],
 "metadata": {
  "kernelspec": {
   "display_name": "Python 3",
   "language": "python",
   "name": "python3"
  },
  "language_info": {
   "codemirror_mode": {
    "name": "ipython",
    "version": 3
   },
   "file_extension": ".py",
   "mimetype": "text/x-python",
   "name": "python",
   "nbconvert_exporter": "python",
   "pygments_lexer": "ipython3",
   "version": "3.7.6"
  }
 },
 "nbformat": 4,
 "nbformat_minor": 4
}
