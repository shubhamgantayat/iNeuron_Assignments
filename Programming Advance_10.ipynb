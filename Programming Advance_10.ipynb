{
 "cells": [
  {
   "cell_type": "markdown",
   "metadata": {},
   "source": [
    "#1 Create a function that takes the width, height and character and returns a\n",
    "picture frame as a 2D list.\n",
    "Examples\n",
    "\n",
    "get_frame(4, 5, &quot;#&quot;) ➞ [\n",
    "\n",
    "[&quot;####&quot;],\n",
    "\n",
    "[&quot;# #&quot;],\n",
    "\n",
    "[&quot;# #&quot;],\n",
    "\n",
    "[&quot;# #&quot;],\n",
    "\n",
    "[&quot;####&quot;]\n",
    "\n",
    "]\n",
    "\n",
    "\\# Frame is 4 characters wide and 5 characters tall.\n",
    "\n",
    "get_frame(10, 3, &quot;*&quot;) ➞ [\n",
    "\n",
    "[&quot;\\*\\*\\*\\*\\*\\*\\*\\*\\*\\*&quot;],\n",
    "\n",
    "[&quot;\\* \\*&quot;],\n",
    "\n",
    "[&quot;\\*\\*\\*\\*\\*\\*\\*\\*\\*\\*&quot;]\n",
    "\n",
    "]\n",
    "\n",
    "\\# Frame is 10 characters and wide and 3 characters tall.\n",
    "\n",
    "get_frame(2, 5, &quot;0&quot;) ➞ &quot;invalid&quot;\n",
    "\n",
    "\\# Frame&#39;s width is not more than 2."
   ]
  },
  {
   "cell_type": "code",
   "execution_count": 6,
   "metadata": {},
   "outputs": [
    {
     "name": "stdout",
     "output_type": "stream",
     "text": [
      "['**********']\n",
      "['*        *']\n",
      "['**********']\n"
     ]
    }
   ],
   "source": [
    "class frame:\n",
    "    \n",
    "    def get_frame(self,width,height,char):\n",
    "        if(width <= 2 or height <= 2):\n",
    "            return 'invalid'\n",
    "        l = []\n",
    "        l.append([char * width])\n",
    "        for i in range(height - 2):\n",
    "            l.append([char + (' ' * (width - 2)) + char])\n",
    "        l.append([char * width])\n",
    "        return l\n",
    "    \n",
    "try:\n",
    "    [print(i) for i in frame().get_frame(10,3,'*')]\n",
    "except Exception as e:\n",
    "    print(e)"
   ]
  },
  {
   "cell_type": "markdown",
   "metadata": {},
   "source": [
    "#2 Write three functions:\n",
    "1. boolean_and\n",
    "2. boolean_or\n",
    "3. boolean_xor\n",
    "These functions should evaluate a list of True and False values, starting from\n",
    "the leftmost element and evaluating pairwise.\n",
    "Examples\n",
    "\n",
    "boolean_and([True, True, False, True]) ➞ False\n",
    "\n",
    "\\# [True, True, False, True] =&gt; [True, False, True] =&gt; [False, True] =&gt; False\n",
    "\n",
    "boolean_or([True, True, False, False]) ➞ True\n",
    "\n",
    "\\# [True, True, False, True] =&gt; [True, False, False] =&gt; [True, False] =&gt; True\n",
    "\n",
    "boolean_xor([True, True, False, False]) ➞ False\n",
    "\n",
    "\\# [True, True, False, False] =&gt; [False, False, False] =&gt; [False, False] =&gt;\n",
    "False"
   ]
  },
  {
   "cell_type": "code",
   "execution_count": 7,
   "metadata": {},
   "outputs": [
    {
     "name": "stdout",
     "output_type": "stream",
     "text": [
      "False\n",
      "True\n",
      "False\n"
     ]
    }
   ],
   "source": [
    "class logic_gates:\n",
    "    \n",
    "    def boolean_and(self,l):\n",
    "        if False in l:\n",
    "            return False\n",
    "        return True\n",
    "    \n",
    "    def boolean_or(self,l):\n",
    "        if True in l:\n",
    "            return True\n",
    "        return False\n",
    "    \n",
    "    def boolean_xor(self,l):\n",
    "        if sum(l) % 2 != 0:\n",
    "            return True\n",
    "        return False\n",
    "    \n",
    "    \n",
    "try:\n",
    "    lg = logic_gates()\n",
    "    print(lg.boolean_and([True, True, False, True]))\n",
    "    print(lg.boolean_or([True, True, False, False]))\n",
    "    print(lg.boolean_xor([True, True, False, False]))\n",
    "except Exception as e:\n",
    "    print(e)"
   ]
  },
  {
   "cell_type": "markdown",
   "metadata": {},
   "source": [
    "#3 Create a function that creates a box based on dimension n.\n",
    "Examples\n",
    "\n",
    "make_box(5) ➞ [\n",
    "\n",
    "&quot;#####&quot;,\n",
    "\n",
    "&quot;# #&quot;,\n",
    "\n",
    "&quot;# #&quot;,\n",
    "\n",
    "&quot;# #&quot;,\n",
    "\n",
    "&quot;#####&quot;\n",
    "\n",
    "]\n",
    "\n",
    "make_box(3) ➞ [\n",
    "\n",
    "&quot;###&quot;,\n",
    "\n",
    "&quot;# #&quot;,\n",
    "\n",
    "&quot;###&quot;\n",
    "\n",
    "]\n",
    "\n",
    "make_box(2) ➞ [\n",
    "\n",
    "&quot;##&quot;,\n",
    "\n",
    "&quot;##&quot;\n",
    "\n",
    "]\n",
    "\n",
    "make_box(1) ➞ [\n",
    "\n",
    "&quot;#&quot;\n",
    "\n",
    "]"
   ]
  },
  {
   "cell_type": "code",
   "execution_count": 6,
   "metadata": {},
   "outputs": [
    {
     "name": "stdout",
     "output_type": "stream",
     "text": [
      "###\n",
      "# #\n",
      "###\n"
     ]
    }
   ],
   "source": [
    "class box:\n",
    "    \n",
    "    def make_box(self,n):\n",
    "        if(n > 0):\n",
    "            l = []\n",
    "            c = '#'\n",
    "            l.append(c * n)\n",
    "            if(n == 1):\n",
    "                return l\n",
    "            for i in range(1,n-1):\n",
    "                l.append(c + (' ' * (n - 2)) + c)\n",
    "            l.append(c * n)\n",
    "            return l\n",
    "        else:\n",
    "            raise ValueError('n should be greater than zero')\n",
    "            \n",
    "try:\n",
    "    [print(i) for i in box().make_box(3)]\n",
    "except Exception as e:\n",
    "    print(e)"
   ]
  },
  {
   "cell_type": "markdown",
   "metadata": {},
   "source": [
    "#4 Given a common phrase, return False if any individual word in the phrase\n",
    "contains duplicate letters. Return True otherwise.\n",
    "Examples\n",
    "\n",
    "no_duplicate_letters(&quot;Fortune favours the bold.&quot;) ➞ True\n",
    "\n",
    "no_duplicate_letters(&quot;You can lead a horse to water, but you can&#39;t make him\n",
    "drink.&quot;) ➞ True\n",
    "\n",
    "no_duplicate_letters(&quot;Look before you leap.&quot;) ➞ False\n",
    "\n",
    "\\# Duplicate letters in &quot;Look&quot; and &quot;before&quot;.\n",
    "\n",
    "no_duplicate_letters(&quot;An apple a day keeps the doctor away.&quot;) ➞ False\n",
    "\n",
    "\\# Duplicate letters in &quot;apple&quot;, &quot;keeps&quot;, &quot;doctor&quot;, and &quot;away&quot;."
   ]
  },
  {
   "cell_type": "code",
   "execution_count": 9,
   "metadata": {},
   "outputs": [
    {
     "name": "stdout",
     "output_type": "stream",
     "text": [
      "False\n"
     ]
    }
   ],
   "source": [
    "class string_func:\n",
    "    \n",
    "    def no_duplicate_letters(self,s):\n",
    "        l = s.split()\n",
    "        for i in l:\n",
    "            if(len(set(i)) != len(i)):\n",
    "                return False\n",
    "        return True\n",
    "    \n",
    "try:\n",
    "    print(string_func().no_duplicate_letters(\"Look before you leap.\"))\n",
    "except Exception as e:\n",
    "    print(e)"
   ]
  },
  {
   "cell_type": "markdown",
   "metadata": {},
   "source": [
    "#5 Write a regular expression that will match the states that voted yes to\n",
    "President Trump&#39;s impeachment. You must use RegEx positive lookahead.\n",
    "Example\n",
    "\n",
    "txt = &quot;Texas = no, California = yes, Florida = yes, Michigan = no&quot;\n",
    "\n",
    "pattern = &quot;yourregularexpressionhere&quot;\n",
    "\n",
    "re.findall(pattern, txt) ➞ [&quot;California&quot;, &quot;Florida&quot;]"
   ]
  },
  {
   "cell_type": "code",
   "execution_count": 13,
   "metadata": {},
   "outputs": [
    {
     "name": "stdout",
     "output_type": "stream",
     "text": [
      "['California', 'Florida']\n"
     ]
    }
   ],
   "source": [
    "import re\n",
    "\n",
    "txt = \"Texas = no, California = yes, Florida = yes, Michigan = no\"\n",
    "print(re.findall('\\w+(?= \\= yes)',txt))"
   ]
  },
  {
   "cell_type": "code",
   "execution_count": null,
   "metadata": {},
   "outputs": [],
   "source": []
  }
 ],
 "metadata": {
  "kernelspec": {
   "display_name": "Python 3",
   "language": "python",
   "name": "python3"
  },
  "language_info": {
   "codemirror_mode": {
    "name": "ipython",
    "version": 3
   },
   "file_extension": ".py",
   "mimetype": "text/x-python",
   "name": "python",
   "nbconvert_exporter": "python",
   "pygments_lexer": "ipython3",
   "version": "3.7.6"
  }
 },
 "nbformat": 4,
 "nbformat_minor": 4
}
