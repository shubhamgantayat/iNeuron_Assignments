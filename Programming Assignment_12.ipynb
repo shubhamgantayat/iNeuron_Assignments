{
 "cells": [
  {
   "cell_type": "markdown",
   "metadata": {},
   "source": [
    "#1 Write a Python program to Extract Unique values dictionary values?"
   ]
  },
  {
   "cell_type": "code",
   "execution_count": 33,
   "metadata": {},
   "outputs": [
    {
     "name": "stdout",
     "output_type": "stream",
     "text": [
      "[1, 2, 5, 6, 8, 9, 11]\n"
     ]
    }
   ],
   "source": [
    "def extract_unique(d):\n",
    "    s = set()\n",
    "    for i in d.values():\n",
    "        s = s.symmetric_difference(set(list(i)))\n",
    "    return list(s)\n",
    "\n",
    "d = {'one' : [1,2,3,4],\n",
    "     'two' : [3,4,5,6,7],\n",
    "     'three' : [7,8,9,10],\n",
    "     'four' : [10,11]\n",
    "    }\n",
    "\n",
    "print(extract_unique(d))"
   ]
  },
  {
   "cell_type": "markdown",
   "metadata": {},
   "source": [
    "#2 Write a Python program to find the sum of all items in a dictionary?"
   ]
  },
  {
   "cell_type": "code",
   "execution_count": 41,
   "metadata": {},
   "outputs": [
    {
     "name": "stdout",
     "output_type": "stream",
     "text": [
      "267\n"
     ]
    }
   ],
   "source": [
    "from functools import reduce\n",
    "\n",
    "def sum_items(d):\n",
    "    return reduce(lambda x,y:x+y,d.values())\n",
    "\n",
    "d = {'one' : 83,\n",
    "     'two' : 91,\n",
    "     'three' : 72,\n",
    "     'four' : 21\n",
    "    }\n",
    "\n",
    "print(sum_items(d))"
   ]
  },
  {
   "cell_type": "markdown",
   "metadata": {},
   "source": [
    "#3 Write a Python program to Merging two Dictionaries?"
   ]
  },
  {
   "cell_type": "code",
   "execution_count": 50,
   "metadata": {},
   "outputs": [
    {
     "name": "stdout",
     "output_type": "stream",
     "text": [
      "{'one': 83, 'two': 91, 'three': 72, 'four': 21, 'five': 33, 'six': 42}\n"
     ]
    }
   ],
   "source": [
    "def merge_dict(d1,d2):\n",
    "    for key,value in d2.items():\n",
    "        d1[key] = value\n",
    "    return d1\n",
    "\n",
    "d1 = {\n",
    "    'one' : 83,\n",
    "    'two' : 91,\n",
    "    'three' : 72,\n",
    "    'four' : 21\n",
    "}\n",
    "\n",
    "d2 = {\n",
    "    'five' : 33,\n",
    "    'six' : 42\n",
    "}\n",
    "\n",
    "print(merge_dict(d1,d2))"
   ]
  },
  {
   "cell_type": "markdown",
   "metadata": {},
   "source": [
    "#4 Write a Python program to convert key-values list to flat dictionary?"
   ]
  },
  {
   "cell_type": "code",
   "execution_count": 38,
   "metadata": {},
   "outputs": [
    {
     "name": "stdout",
     "output_type": "stream",
     "text": [
      "{'bihar': 1, 'odisha': 2, 'maharashtra': 3, 'karnataka': 4}\n"
     ]
    }
   ],
   "source": [
    "def conv_flat_dict(d) :\n",
    "    if len(d) == 2:\n",
    "        return dict(zip(d[list(d.keys())[0]],d[list(d.keys())[1]]))\n",
    "    else:\n",
    "        return 'Invalid dict passed'\n",
    "        \n",
    "            \n",
    "\n",
    "d = {'states' : ['bihar','odisha','maharashtra','karnataka'],'state_code' : [1,2,3,4]}\n",
    "print(conv_flat_dict(d))"
   ]
  },
  {
   "cell_type": "markdown",
   "metadata": {},
   "source": [
    "#5 Write a Python program to insertion at the beginning in OrderedDict?"
   ]
  },
  {
   "cell_type": "code",
   "execution_count": 39,
   "metadata": {},
   "outputs": [
    {
     "name": "stdout",
     "output_type": "stream",
     "text": [
      "Before Insertion : \n",
      "OrderedDict([('One', 1), ('Two', 2), ('Three', 3), ('Four', 4)])\n",
      "After insertion\n",
      "OrderedDict([('Zero', 0), ('One', 1), ('Two', 2), ('Three', 3), ('Four', 4)])\n"
     ]
    }
   ],
   "source": [
    "from collections import OrderedDict\n",
    "\n",
    "def insert_at_beg(d,key,value):\n",
    "    new_d = OrderedDict()\n",
    "    new_d[key] = value\n",
    "    for k,v in d.items():\n",
    "        new_d[k] = v\n",
    "    return new_d\n",
    "\n",
    "d = OrderedDict()\n",
    "d['One'] = 1\n",
    "d['Two'] = 2\n",
    "d['Three'] = 3\n",
    "d['Four'] = 4\n",
    "print('Before Insertion : ')\n",
    "print(d)\n",
    "d = insert_at_beg(d,'Zero',0)\n",
    "print('After insertion')\n",
    "print(d)"
   ]
  },
  {
   "cell_type": "markdown",
   "metadata": {},
   "source": [
    "#6 Write a Python program to check order of character in string using OrderedDict()?"
   ]
  },
  {
   "cell_type": "code",
   "execution_count": 40,
   "metadata": {},
   "outputs": [
    {
     "name": "stdout",
     "output_type": "stream",
     "text": [
      "OrderedDict([('s', 115), ('h', 104), ('u', 117), ('b', 98), ('a', 97), ('m', 109)])\n"
     ]
    }
   ],
   "source": [
    "from collections import OrderedDict\n",
    "\n",
    "def order(string):\n",
    "    return OrderedDict(zip(string,list(map(lambda x:ord(x),string))))\n",
    "\n",
    "string = 'shubham'\n",
    "print(order(string))"
   ]
  },
  {
   "cell_type": "markdown",
   "metadata": {},
   "source": [
    "#7 Write a Python program to sort Python Dictionaries by Key or Value?"
   ]
  },
  {
   "cell_type": "code",
   "execution_count": 48,
   "metadata": {},
   "outputs": [
    {
     "name": "stdout",
     "output_type": "stream",
     "text": [
      "{6: 1, 1: 2, 10: 2, 5: 3, 2: 4, 3: 9}\n"
     ]
    }
   ],
   "source": [
    "def sort_dict(d,sort_by = 'key') :\n",
    "    if(sort_by == 'key'):\n",
    "        return dict(sorted(d.items(),key = lambda item : item[0]))\n",
    "    else:\n",
    "        return dict(sorted(d.items(),key = lambda item : item[1]))\n",
    "    \n",
    "d = {1:2,2:4,5:3,3:9,10:2,6:1}\n",
    "print(sort_dict(d,'value'))"
   ]
  },
  {
   "cell_type": "code",
   "execution_count": null,
   "metadata": {},
   "outputs": [],
   "source": []
  }
 ],
 "metadata": {
  "kernelspec": {
   "display_name": "Python 3",
   "language": "python",
   "name": "python3"
  },
  "language_info": {
   "codemirror_mode": {
    "name": "ipython",
    "version": 3
   },
   "file_extension": ".py",
   "mimetype": "text/x-python",
   "name": "python",
   "nbconvert_exporter": "python",
   "pygments_lexer": "ipython3",
   "version": "3.7.6"
  }
 },
 "nbformat": 4,
 "nbformat_minor": 4
}
