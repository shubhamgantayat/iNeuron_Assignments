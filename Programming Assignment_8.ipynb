{
 "cells": [
  {
   "cell_type": "markdown",
   "metadata": {},
   "source": [
    "The following function has been used in the given assignment for taking matrix inputs."
   ]
  },
  {
   "cell_type": "code",
   "execution_count": 1,
   "metadata": {},
   "outputs": [],
   "source": [
    "def mat_input():\n",
    "    p = int(input(\"Enter no. of rows : \"))\n",
    "    q = int(input(\"Enter no. of columns : \"))\n",
    "    mat = []\n",
    "    for i in range(p):\n",
    "        mat.append(list(map(lambda x:int(x),input().split())))\n",
    "        assert len(mat[i]) == q,'No. of elements is not what was specified'\n",
    "    return mat"
   ]
  },
  {
   "cell_type": "markdown",
   "metadata": {},
   "source": [
    "#1 Write a Python Program to Add Two Matrices?"
   ]
  },
  {
   "cell_type": "code",
   "execution_count": 3,
   "metadata": {},
   "outputs": [
    {
     "name": "stdin",
     "output_type": "stream",
     "text": [
      "Enter no. of rows :  2\n",
      "Enter no. of columns :  2\n",
      " 1 2\n",
      " 3 4\n",
      "Enter no. of rows :  2\n",
      "Enter no. of columns :  2\n",
      " 5 6\n",
      " 7 8\n"
     ]
    },
    {
     "name": "stdout",
     "output_type": "stream",
     "text": [
      "[[6, 8], [10, 12]]\n"
     ]
    }
   ],
   "source": [
    "def add_matrices(mat1,mat2):\n",
    "    if((len(mat1) == len(mat2)) and (len(mat1[0]) == len(mat2[0]))):\n",
    "        mat3 = []\n",
    "        for i in range(len(mat1)):\n",
    "            mat3.append(list(map(lambda x,y:x+y,mat1[i],mat2[i])))\n",
    "        return mat3\n",
    "    else:\n",
    "        return 'Matrices cannot be added'\n",
    "    \n",
    "mat1 = mat_input()\n",
    "mat2 = mat_input()\n",
    "print(add_matrices(mat1,mat2))"
   ]
  },
  {
   "cell_type": "markdown",
   "metadata": {},
   "source": [
    "#2 Write a Python Program to Multiply Two Matrices?"
   ]
  },
  {
   "cell_type": "code",
   "execution_count": 21,
   "metadata": {},
   "outputs": [
    {
     "name": "stdin",
     "output_type": "stream",
     "text": [
      "Enter no. of rows :  2\n",
      "Enter no. of columns :  2\n",
      " 1 2\n",
      " 3 4\n",
      "Enter no. of rows :  2\n",
      "Enter no. of columns :  2\n",
      " 5 6\n",
      " 7 8\n"
     ]
    },
    {
     "name": "stdout",
     "output_type": "stream",
     "text": [
      "[[19, 22], [43, 50]]\n"
     ]
    }
   ],
   "source": [
    "def multiply_matrices(mat1,mat2):\n",
    "    if(len(mat1[0]) == len(mat2)):\n",
    "        mat3 = []\n",
    "        for i in range(len(mat1)):\n",
    "            l = []\n",
    "            for j in range(len(mat2[0])):\n",
    "                c = 0\n",
    "                for k in range(len(mat2)):\n",
    "                    c += mat1[i][k] * mat2[k][j]\n",
    "                l.append(c)\n",
    "            mat3.append(l)\n",
    "        return mat3\n",
    "    else:\n",
    "        return 'Matrices cannot be multiplied'\n",
    "    \n",
    "mat1 = mat_input()\n",
    "mat2 = mat_input()\n",
    "print(multiply_matrices(mat1,mat2))"
   ]
  },
  {
   "cell_type": "markdown",
   "metadata": {},
   "source": [
    "#3 Write a Python Program to Transpose a Matrix?"
   ]
  },
  {
   "cell_type": "code",
   "execution_count": 4,
   "metadata": {},
   "outputs": [
    {
     "name": "stdin",
     "output_type": "stream",
     "text": [
      "Enter no. of rows :  2\n",
      "Enter no. of columns :  3\n",
      " 1 2 3\n",
      " 4 5 6\n"
     ]
    },
    {
     "name": "stdout",
     "output_type": "stream",
     "text": [
      "[[1, 4], [2, 5], [3, 6]]\n"
     ]
    }
   ],
   "source": [
    "def mat_transpose(mat):\n",
    "    p = len(mat)\n",
    "    q = len(mat[0])\n",
    "    mat1 = [[0 for i in range(p)] for j in range(q)]\n",
    "    for i in range(p):\n",
    "        for j in range(q):\n",
    "            mat1[j][i] = mat[i][j]\n",
    "    return mat1\n",
    "\n",
    "mat = mat_input()\n",
    "print(mat_transpose(mat))"
   ]
  },
  {
   "cell_type": "markdown",
   "metadata": {},
   "source": [
    "#4 Write a Python Program to Sort Words in Alphabetic Order?"
   ]
  },
  {
   "cell_type": "code",
   "execution_count": 11,
   "metadata": {},
   "outputs": [
    {
     "name": "stdin",
     "output_type": "stream",
     "text": [
      " dsfsdfadsf\n"
     ]
    },
    {
     "name": "stdout",
     "output_type": "stream",
     "text": [
      "adddfffsss\n"
     ]
    }
   ],
   "source": [
    "def sort_alpha(string):\n",
    "    string = list(string)\n",
    "    for i in range(0,len(string)-1):\n",
    "        pos = i\n",
    "        for j in range(i,len(string)):\n",
    "            if string[pos] > string[j]:\n",
    "                pos = j\n",
    "        if(pos != i):\n",
    "            string[pos], string[i] = string[i], string[pos]\n",
    "    return ''.join(string)\n",
    "\n",
    "string = input()\n",
    "print(sort_alpha(string))"
   ]
  },
  {
   "cell_type": "markdown",
   "metadata": {},
   "source": [
    "#5 Write a Python Program to Remove Punctuation From a String?"
   ]
  },
  {
   "cell_type": "code",
   "execution_count": 8,
   "metadata": {},
   "outputs": [
    {
     "name": "stdin",
     "output_type": "stream",
     "text": [
      " hello? world!\n"
     ]
    },
    {
     "name": "stdout",
     "output_type": "stream",
     "text": [
      "hello world\n"
     ]
    }
   ],
   "source": [
    "def remove_punctuation(string):\n",
    "    l = ['.','?','!',':',';','-','_','(',')','[',']',\"'\",'\"','/',',']\n",
    "    return ''.join(list(filter(lambda x:x not in l,list(string))))\n",
    "\n",
    "string = input()\n",
    "print(remove_punctuation(string))"
   ]
  },
  {
   "cell_type": "code",
   "execution_count": null,
   "metadata": {},
   "outputs": [],
   "source": []
  },
  {
   "cell_type": "code",
   "execution_count": null,
   "metadata": {},
   "outputs": [],
   "source": []
  }
 ],
 "metadata": {
  "kernelspec": {
   "display_name": "Python 3",
   "language": "python",
   "name": "python3"
  },
  "language_info": {
   "codemirror_mode": {
    "name": "ipython",
    "version": 3
   },
   "file_extension": ".py",
   "mimetype": "text/x-python",
   "name": "python",
   "nbconvert_exporter": "python",
   "pygments_lexer": "ipython3",
   "version": "3.7.6"
  }
 },
 "nbformat": 4,
 "nbformat_minor": 4
}
