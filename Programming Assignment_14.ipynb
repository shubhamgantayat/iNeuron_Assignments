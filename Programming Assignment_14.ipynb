{
 "cells": [
  {
   "cell_type": "markdown",
   "metadata": {},
   "source": [
    "#1 Define a class with a generator which can iterate the numbers, which are divisible by\n",
    "7, between a given range 0 and n."
   ]
  },
  {
   "cell_type": "code",
   "execution_count": 5,
   "metadata": {},
   "outputs": [
    {
     "name": "stdout",
     "output_type": "stream",
     "text": [
      "This is a object that generates the multiples of 7 between 0 to 50\n",
      "[0, 7, 14, 21, 28, 35, 42, 49]\n"
     ]
    }
   ],
   "source": [
    "class div_by_7:\n",
    "    \n",
    "    def __init__(self,n):\n",
    "        self.n = n\n",
    "        \n",
    "    def generate(self):\n",
    "        for i in range(0,self.n + 1,7):\n",
    "            yield i\n",
    "            \n",
    "    def __str__(self):\n",
    "        return 'This is a object that generates the multiples of 7 between 0 to ' + str(self.n)\n",
    "        \n",
    "\n",
    "obj = div_by_7(50)\n",
    "print(obj)\n",
    "print(list(iter(obj.generate())))"
   ]
  },
  {
   "cell_type": "markdown",
   "metadata": {},
   "source": [
    "#2 Write a program to compute the frequency of the words from the input. The output\n",
    "should output after sorting the key alphanumerically.\n",
    "Suppose the following input is supplied to the program:\n",
    "New to Python or choosing between Python 2 and Python 3? Read Python 2 or\n",
    "Python 3.\n",
    "Then, the output should be:\n",
    "2:2\n",
    "3.:1\n",
    "3?:1\n",
    "New:1\n",
    "Python:5\n",
    "Read:1\n",
    "and:1\n",
    "between:1\n",
    "choosing:1\n",
    "or:2\n",
    "to:1"
   ]
  },
  {
   "cell_type": "code",
   "execution_count": 11,
   "metadata": {},
   "outputs": [
    {
     "name": "stdout",
     "output_type": "stream",
     "text": [
      "Computes the frequency of words from the input.\n",
      "{'2': 2, '3': 1, '3?': 1, 'New': 1, 'Python': 5, 'Read': 1, 'and': 1, 'between': 1, 'choosing': 1, 'or': 2, 'to': 1}\n"
     ]
    }
   ],
   "source": [
    "class frequency:\n",
    "    \n",
    "    def __init__(self,string):\n",
    "        self.string = string\n",
    "        \n",
    "    def compute(self):\n",
    "        d = dict()\n",
    "        for i in sorted(self.string.split()):\n",
    "            if(i not in d):\n",
    "                d[i] = 0\n",
    "            d[i] += 1\n",
    "        return d\n",
    "    \n",
    "    def __str__(self):\n",
    "        return 'Computes the frequency of words from the input.'\n",
    "    \n",
    "string = \"New to Python or choosing between Python 2 and Python 3? Read Python 2 or Python 3\"\n",
    "obj = frequency(string)\n",
    "print(obj)\n",
    "print(obj.compute())"
   ]
  },
  {
   "cell_type": "markdown",
   "metadata": {},
   "source": [
    "#3 Define a class Person and its two child classes: Male and Female. All classes have a\n",
    "method &quot;getGender&quot; which can print &quot;Male&quot; for Male class and &quot;Female&quot; for Female\n",
    "class."
   ]
  },
  {
   "cell_type": "code",
   "execution_count": 13,
   "metadata": {},
   "outputs": [
    {
     "name": "stdout",
     "output_type": "stream",
     "text": [
      "Male\n",
      "Female\n"
     ]
    }
   ],
   "source": [
    "class Person:\n",
    "    \n",
    "    def __init__(self,gender):\n",
    "        self.gender = gender\n",
    "        \n",
    "    def getGender(self):\n",
    "        return self.gender\n",
    "    \n",
    "\n",
    "class Male(Person):\n",
    "    \n",
    "    def __init__(self):\n",
    "        super(Male,self).__init__('Male')\n",
    "        \n",
    "class Female(Person):\n",
    "    \n",
    "    def __init__(self):\n",
    "        super(Female,self).__init__('Female')    \n",
    "        \n",
    "male = Male()\n",
    "female = Female()\n",
    "\n",
    "print(male.getGender())\n",
    "print(female.getGender())"
   ]
  },
  {
   "cell_type": "markdown",
   "metadata": {},
   "source": [
    "#4 Please write a program to generate all sentences where subject is in [&quot;I&quot;, &quot;You&quot;] and\n",
    "verb is in [&quot;Play&quot;, &quot;Love&quot;] and the object is in [&quot;Hockey&quot;,&quot;Football&quot;]."
   ]
  },
  {
   "cell_type": "code",
   "execution_count": 16,
   "metadata": {},
   "outputs": [
    {
     "name": "stdout",
     "output_type": "stream",
     "text": [
      "['I Play Hockey', 'I Play Football', 'I Love Hockey', 'I Love Football', 'You Play Hockey', 'You Play Football', 'You Love Hockey', 'You Love Football']\n"
     ]
    }
   ],
   "source": [
    "class sentence:\n",
    "    \n",
    "    def __init__(self,subject,verb,objects):\n",
    "        self.subject = subject\n",
    "        self.verb = verb\n",
    "        self.objects = objects\n",
    "        \n",
    "    def generate(self):\n",
    "        return [i + ' ' + j + ' ' + k for i in self.subject for j in self.verb for k in self.objects]\n",
    "    \n",
    "s = sentence(['I','You'],['Play','Love'],['Hockey','Football'])\n",
    "print(s.generate())"
   ]
  },
  {
   "cell_type": "markdown",
   "metadata": {},
   "source": [
    "#5 Please write a program to compress and decompress the string &quot;hello world!hello\n",
    "world!hello world!hello world!&quot;."
   ]
  },
  {
   "cell_type": "code",
   "execution_count": 42,
   "metadata": {},
   "outputs": [
    {
     "name": "stdout",
     "output_type": "stream",
     "text": [
      "b'\\x1f\\x8b\\x08\\x00\\xaak\\x99`\\x02\\xff\\xcbH\\xcd\\xc9\\xc9W(\\xcf/\\xcaIQ\\xcc \\x82\\r\\x00\\xd3\\xe6\\xcf\\xae0\\x00\\x00\\x00'\n",
      "b'hello world!hello world!hello world!hello world!'\n"
     ]
    }
   ],
   "source": [
    "import gzip\n",
    "\n",
    "class string:\n",
    "    \n",
    "    def __init__(self,s):\n",
    "        self.s = bytes(s,'utf-8')\n",
    "        \n",
    "    def compress(self):\n",
    "        self.s = gzip.compress(self.s)\n",
    "    \n",
    "    def decompress(self):\n",
    "        self.s = gzip.decompress(self.s)\n",
    "\n",
    "s = string('hello world!hello world!hello world!hello world!')\n",
    "s.compress()\n",
    "print(s.s)\n",
    "s.decompress()\n",
    "print(s.s)"
   ]
  },
  {
   "cell_type": "markdown",
   "metadata": {},
   "source": [
    "#6 Please write a binary search function which searches an item in a sorted list. The\n",
    "function should return the index of element to be searched in the list."
   ]
  },
  {
   "cell_type": "code",
   "execution_count": 45,
   "metadata": {},
   "outputs": [
    {
     "data": {
      "text/plain": [
       "3"
      ]
     },
     "execution_count": 45,
     "metadata": {},
     "output_type": "execute_result"
    }
   ],
   "source": [
    "class items:\n",
    "    \n",
    "    def __init__(self,l):\n",
    "        self.l = l\n",
    "        \n",
    "    def binary_search(self,ele):\n",
    "        beg = 0\n",
    "        last = len(self.l) - 1\n",
    "        while(beg < last):\n",
    "            mid = (beg + last) // 2\n",
    "            if(self.l[mid] == ele):\n",
    "                return mid\n",
    "            elif(self.l[mid] > ele):\n",
    "                last = mid - 1\n",
    "            else:\n",
    "                beg = mid + 1\n",
    "        return -1\n",
    "    \n",
    "    \n",
    "i = items([2,4,8,11,16,21,24,29,33,37,42])\n",
    "i.binary_search(11)"
   ]
  },
  {
   "cell_type": "code",
   "execution_count": null,
   "metadata": {},
   "outputs": [],
   "source": []
  }
 ],
 "metadata": {
  "kernelspec": {
   "display_name": "Python 3",
   "language": "python",
   "name": "python3"
  },
  "language_info": {
   "codemirror_mode": {
    "name": "ipython",
    "version": 3
   },
   "file_extension": ".py",
   "mimetype": "text/x-python",
   "name": "python",
   "nbconvert_exporter": "python",
   "pygments_lexer": "ipython3",
   "version": "3.7.6"
  }
 },
 "nbformat": 4,
 "nbformat_minor": 4
}
