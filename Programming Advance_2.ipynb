{
 "cells": [
  {
   "cell_type": "markdown",
   "metadata": {},
   "source": [
    "#1 Write a function that takes a positive integer num and calculates how many\n",
    "dots exist in a pentagonal shape around the center dot on the Nth iteration.\n",
    "In the image below you can see the first iteration is only a single dot. On the\n",
    "second, there are 6 dots. On the third, there are 16 dots, and on the fourth\n",
    "there are 31 dots.\n",
    "Return the number of dots that exist in the whole pentagon on the Nth\n",
    "iteration.\n",
    "\n",
    "Examples\n",
    "\n",
    "pentagonal(1) ➞ 1\n",
    "\n",
    "pentagonal(2) ➞ 6\n",
    "\n",
    "pentagonal(3) ➞ 16\n",
    "\n",
    "pentagonal(8) ➞ 141"
   ]
  },
  {
   "cell_type": "code",
   "execution_count": 3,
   "metadata": {},
   "outputs": [
    {
     "name": "stdout",
     "output_type": "stream",
     "text": [
      "141\n"
     ]
    }
   ],
   "source": [
    "class polygon:\n",
    "    \n",
    "    def pentagonal(self,n):\n",
    "        if(type(n) == int):\n",
    "            if(n == 1):\n",
    "                return 1\n",
    "            else:\n",
    "                return 5 * (n - 1) + polygon().pentagonal(n - 1)\n",
    "        else:\n",
    "            raise TypeError('int expected')\n",
    "            \n",
    "    \n",
    "try:\n",
    "    print(polygon().pentagonal(8))\n",
    "except TypeError as e:\n",
    "    print(e)\n",
    "except Exception as e:\n",
    "    print(e)"
   ]
  },
  {
   "cell_type": "markdown",
   "metadata": {},
   "source": [
    "#2 Make a function that encrypts a given input with these steps:\n",
    "Input: &quot;apple&quot;\n",
    "    \n",
    "Step 1: Reverse the input: &quot;elppa&quot;\n",
    "        \n",
    "Step 2: Replace all vowels using the following chart:\n",
    "        \n",
    "a =&gt; 0\n",
    "\n",
    "e =&gt; 1\n",
    "\n",
    "i =&gt; 2\n",
    "\n",
    "o =&gt; 2\n",
    "\n",
    "u =&gt; 3\n",
    "\n",
    "&quot;1lpp0&quot;\n",
    "\n",
    "Step 3: Add &quot;aca&quot; to the end of the word: &quot;1lpp0aca&quot;\n",
    "        \n",
    "Output: &quot;1lpp0aca&quot;\n",
    "    \n",
    "Examples\n",
    "\n",
    "encrypt(&quot;banana&quot;) ➞ &quot;0n0n0baca&quot;\n",
    "\n",
    "encrypt(&quot;karaca&quot;) ➞ &quot;0c0r0kaca&quot;\n",
    "\n",
    "encrypt(&quot;burak&quot;) ➞ &quot;k0r3baca&quot;\n",
    "\n",
    "encrypt(&quot;alpaca&quot;) ➞ &quot;0c0pl0aca&quot;"
   ]
  },
  {
   "cell_type": "code",
   "execution_count": 8,
   "metadata": {},
   "outputs": [
    {
     "name": "stdout",
     "output_type": "stream",
     "text": [
      "0n0n0baca\n"
     ]
    }
   ],
   "source": [
    "class encryption:\n",
    "    \n",
    "    d = {'a' : '0','e' : '1','i' : '2','o' : '2','u' : '3'}\n",
    "    \n",
    "    def encrypt(self,s):\n",
    "        if(type(s) == str):\n",
    "            return ''.join(list(map(lambda x:self.d[x] if x in self.d.keys() else x,s[::-1]))) + 'aca'\n",
    "        else:\n",
    "            raise TypeError('str expected')\n",
    "            \n",
    "try:\n",
    "    print(encryption().encrypt('banana'))\n",
    "except TypeError as e:\n",
    "    print(e)\n",
    "except Exception as e:\n",
    "    print(e)"
   ]
  },
  {
   "cell_type": "markdown",
   "metadata": {},
   "source": [
    "#3 Given the month and year as numbers, return whether that month contains\n",
    "a Friday 13th.(i.e You can check Python&#39;s datetime module)\n",
    "Examples\n",
    "\n",
    "has_friday_13(3, 2020) ➞ True\n",
    "\n",
    "has_friday_13(10, 2017) ➞ True\n",
    "\n",
    "has_friday_13(1, 1985) ➞ False"
   ]
  },
  {
   "cell_type": "code",
   "execution_count": 11,
   "metadata": {},
   "outputs": [
    {
     "name": "stdout",
     "output_type": "stream",
     "text": [
      "True\n"
     ]
    }
   ],
   "source": [
    "import datetime\n",
    "\n",
    "class date_func:\n",
    "    \n",
    "    def has_friday_13(self,month,year):\n",
    "        return datetime.date(year,month,13).isoweekday() == 5\n",
    "    \n",
    "try:\n",
    "    print(date_func().has_friday_13(10,2017))\n",
    "except TypeError as e:\n",
    "    print(e)\n",
    "except ValueError as e:\n",
    "    print(e)\n",
    "except Exception as e:\n",
    "    print(e)"
   ]
  },
  {
   "cell_type": "markdown",
   "metadata": {},
   "source": [
    "#4 Write a regular expression that will help us count how many bad cookies\n",
    "are produced every day. You must use RegEx negative lookbehind.\n",
    "Example\n",
    "\n",
    "lst = [&quot;bad cookie&quot;, &quot;good cookie&quot;, &quot;bad cookie&quot;, &quot;good cookie&quot;, &quot;good cookie&quot;]\n",
    "\n",
    "pattern = &quot;yourregularexpressionhere&quot;\n",
    "\n",
    "len(re.findall(pattern, &quot;, &quot;.join(lst))) ➞ 2"
   ]
  },
  {
   "cell_type": "code",
   "execution_count": 14,
   "metadata": {},
   "outputs": [
    {
     "name": "stdout",
     "output_type": "stream",
     "text": [
      "3\n"
     ]
    }
   ],
   "source": [
    "import re \n",
    "\n",
    "class list_func:\n",
    "    \n",
    "    def findGoodCookies(self,l):\n",
    "        if(type(l) == list):\n",
    "            return len(re.findall('(?<![a-z])good cookie',','.join(l)))\n",
    "        else:\n",
    "            raise TypeError('Expected list')\n",
    "\n",
    "\n",
    "try:\n",
    "    lst = [\"bad cookie\", \"good cookie\", \"bad cookie\", \"good cookie\", \"good cookie\"]\n",
    "    print(list_func().findGoodCookies(lst))\n",
    "except TypeError as e:\n",
    "    print(e)\n",
    "except Exception as e:\n",
    "    print(e)"
   ]
  },
  {
   "cell_type": "markdown",
   "metadata": {},
   "source": [
    "#5 Given a list of words in the singular form, return a set of those words in the\n",
    "plural form if they appear more than once in the list.\n",
    "Examples\n",
    "\n",
    "pluralize([&quot;cow&quot;, &quot;pig&quot;, &quot;cow&quot;, &quot;cow&quot;]) ➞ { &quot;cows&quot;, &quot;pig&quot; }\n",
    "\n",
    "pluralize([&quot;table&quot;, &quot;table&quot;, &quot;table&quot;]) ➞ { &quot;tables&quot; }\n",
    "\n",
    "pluralize([&quot;chair&quot;, &quot;pencil&quot;, &quot;arm&quot;]) ➞ { &quot;chair&quot;, &quot;pencil&quot;, &quot;arm&quot; }"
   ]
  },
  {
   "cell_type": "code",
   "execution_count": 16,
   "metadata": {},
   "outputs": [
    {
     "name": "stdout",
     "output_type": "stream",
     "text": [
      "['cows', 'pig']\n"
     ]
    }
   ],
   "source": [
    "class list_func:\n",
    "    \n",
    "    def pluralize(self,l):\n",
    "        if(type(l) == list):\n",
    "            d = dict()\n",
    "            for i in l:\n",
    "                if(type(i) == str):\n",
    "                    if i not in d.keys():\n",
    "                        d[i] = 1\n",
    "                    else:\n",
    "                        d[i] += 1\n",
    "                else:\n",
    "                    raise ValueError('Only str values expected in list')\n",
    "           \n",
    "            lst = []\n",
    "            for key,val in d.items():\n",
    "                if(val > 1):\n",
    "                    lst.append(key + 's')\n",
    "                else:\n",
    "                    lst.append(key)\n",
    "            return lst\n",
    "        else:\n",
    "            raise TypeError('List expected')\n",
    "            \n",
    "\n",
    "try:\n",
    "    print(list_func().pluralize([\"cow\", \"pig\", \"cow\", \"cow\"]))\n",
    "except Exception as e:\n",
    "    print(e)"
   ]
  },
  {
   "cell_type": "code",
   "execution_count": null,
   "metadata": {},
   "outputs": [],
   "source": []
  }
 ],
 "metadata": {
  "kernelspec": {
   "display_name": "Python 3",
   "language": "python",
   "name": "python3"
  },
  "language_info": {
   "codemirror_mode": {
    "name": "ipython",
    "version": 3
   },
   "file_extension": ".py",
   "mimetype": "text/x-python",
   "name": "python",
   "nbconvert_exporter": "python",
   "pygments_lexer": "ipython3",
   "version": "3.7.6"
  }
 },
 "nbformat": 4,
 "nbformat_minor": 4
}
