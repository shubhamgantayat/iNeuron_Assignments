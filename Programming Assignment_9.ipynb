{
 "cells": [
  {
   "cell_type": "markdown",
   "metadata": {},
   "source": [
    "#1 Write a Python program to check if the given number is a Disarium Number?"
   ]
  },
  {
   "cell_type": "code",
   "execution_count": 2,
   "metadata": {},
   "outputs": [
    {
     "name": "stdin",
     "output_type": "stream",
     "text": [
      " 80\n"
     ]
    },
    {
     "name": "stdout",
     "output_type": "stream",
     "text": [
      "Not a disarium number\n"
     ]
    }
   ],
   "source": [
    "from functools import reduce\n",
    "\n",
    "def disarium(n):\n",
    "    l = list(map(lambda x:int(x),list(str(n))))\n",
    "    l1 = [i for i in range(1,len(l) + 1)]\n",
    "    k = reduce(lambda x,y:x+y,list(map(lambda x,y:x**y,l,l1)))\n",
    "    if k == n:\n",
    "        return 'Disarium Number'\n",
    "    else:\n",
    "        return 'Not a disarium number'\n",
    "    \n",
    "n = int(input())\n",
    "print(disarium(n))"
   ]
  },
  {
   "cell_type": "markdown",
   "metadata": {},
   "source": [
    "#2 Write a Python program to print all disarium numbers between 1 to 100?"
   ]
  },
  {
   "cell_type": "code",
   "execution_count": 6,
   "metadata": {},
   "outputs": [
    {
     "name": "stdout",
     "output_type": "stream",
     "text": [
      "[1, 2, 3, 4, 5, 6, 7, 8, 9, 89]\n"
     ]
    }
   ],
   "source": [
    "def disarium(n):\n",
    "    l = list(map(lambda x:int(x),list(str(n))))\n",
    "    l1 = [i for i in range(1,len(l) + 1)]\n",
    "    k = reduce(lambda x,y:x+y,list(map(lambda x,y:x**y,l,l1)))\n",
    "    if k == n:\n",
    "        return True\n",
    "    else:\n",
    "        return False\n",
    "    \n",
    "print(list(filter(lambda x:disarium(x),range(1,101))))"
   ]
  },
  {
   "cell_type": "markdown",
   "metadata": {},
   "source": [
    "#3 Write a Python program to check if the given number is Happy Number?"
   ]
  },
  {
   "cell_type": "code",
   "execution_count": 10,
   "metadata": {},
   "outputs": [
    {
     "name": "stdin",
     "output_type": "stream",
     "text": [
      " 232\n"
     ]
    },
    {
     "name": "stdout",
     "output_type": "stream",
     "text": [
      "Not happy\n"
     ]
    }
   ],
   "source": [
    "def happy(n):\n",
    "    seen = set()\n",
    "    while(n > 1 and n not in seen):\n",
    "        seen.add(n)\n",
    "        Sum = 0\n",
    "        while(n != 0):\n",
    "            d = n % 10\n",
    "            n = n // 10\n",
    "            Sum += d**2\n",
    "        n = Sum\n",
    "    if n==1:\n",
    "        return 'Happy Number'\n",
    "    else:\n",
    "        return 'Not happy'\n",
    "        \n",
    "n = int(input())\n",
    "print(happy(n))"
   ]
  },
  {
   "cell_type": "markdown",
   "metadata": {},
   "source": [
    "#4 Write a Python program to print all happy numbers between 1 and 100?"
   ]
  },
  {
   "cell_type": "code",
   "execution_count": 11,
   "metadata": {},
   "outputs": [
    {
     "name": "stdout",
     "output_type": "stream",
     "text": [
      "[1, 7, 10, 13, 19, 23, 28, 31, 32, 44, 49, 68, 70, 79, 82, 86, 91, 94, 97, 100]\n"
     ]
    }
   ],
   "source": [
    "def happy(n):\n",
    "    seen = set()\n",
    "    while(n > 1 and n not in seen):\n",
    "        seen.add(n)\n",
    "        Sum = 0\n",
    "        while(n != 0):\n",
    "            d = n % 10\n",
    "            n = n // 10\n",
    "            Sum += d**2\n",
    "        n = Sum\n",
    "    if n==1:\n",
    "        return True\n",
    "    else:\n",
    "        return False\n",
    "    \n",
    "print(list(filter(lambda x:happy(x),range(1,101))))"
   ]
  },
  {
   "cell_type": "markdown",
   "metadata": {},
   "source": [
    "#5 Write a Python program to determine whether the given number is a Harshad Number?"
   ]
  },
  {
   "cell_type": "code",
   "execution_count": 13,
   "metadata": {},
   "outputs": [
    {
     "name": "stdin",
     "output_type": "stream",
     "text": [
      " 27\n"
     ]
    },
    {
     "name": "stdout",
     "output_type": "stream",
     "text": [
      "Harshad Number\n"
     ]
    }
   ],
   "source": [
    "def harshad(n):\n",
    "    Sum = 0\n",
    "    k = n\n",
    "    while(n != 0):\n",
    "        d = n % 10\n",
    "        n = n // 10\n",
    "        Sum += d\n",
    "    if(k % Sum == 0):\n",
    "        return 'Harshad Number'\n",
    "    else:\n",
    "        return 'Not a harshad number'\n",
    "    \n",
    "n = int(input())\n",
    "print(harshad(n))"
   ]
  },
  {
   "cell_type": "markdown",
   "metadata": {},
   "source": [
    "#6 Write a Python program to print all pronic numbers between 1 and 100?"
   ]
  },
  {
   "cell_type": "code",
   "execution_count": 18,
   "metadata": {},
   "outputs": [
    {
     "name": "stdout",
     "output_type": "stream",
     "text": [
      "[2, 6, 12, 20, 30, 42, 56, 72, 90]\n"
     ]
    }
   ],
   "source": [
    "def pronic(n):\n",
    "    return n == (int(n ** 0.5) * int(n ** 0.5 + 1))\n",
    "\n",
    "print(list(filter(lambda x:pronic(x),range(1,101))))"
   ]
  },
  {
   "cell_type": "code",
   "execution_count": null,
   "metadata": {},
   "outputs": [],
   "source": []
  }
 ],
 "metadata": {
  "kernelspec": {
   "display_name": "Python 3",
   "language": "python",
   "name": "python3"
  },
  "language_info": {
   "codemirror_mode": {
    "name": "ipython",
    "version": 3
   },
   "file_extension": ".py",
   "mimetype": "text/x-python",
   "name": "python",
   "nbconvert_exporter": "python",
   "pygments_lexer": "ipython3",
   "version": "3.7.6"
  }
 },
 "nbformat": 4,
 "nbformat_minor": 4
}
