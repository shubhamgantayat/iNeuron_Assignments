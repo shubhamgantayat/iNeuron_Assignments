{
 "cells": [
  {
   "cell_type": "markdown",
   "metadata": {},
   "source": [
    "#1 In mathematics, the Fibonacci numbers, commonly denoted Fn, form a\n",
    "sequence, called the Fibonacci sequence, such that each number is the sum\n",
    "of the two preceding ones, starting from 0 and 1:\n",
    "\n",
    "The beginning of the sequence is this:\n",
    "0, 1, 1, 2, 3, 5, 8, 13, 21, 34, 55, 89, 144, ...\n",
    "The function fastFib(num) returns the fibonacci number Fn, of the given num\n",
    "as an argument.\n",
    "Examples\n",
    "\n",
    "fib_fast(5) ➞ 5\n",
    "\n",
    "fib_fast(10) ➞ 55\n",
    "\n",
    "fib_fast(20) ➞ 6765\n",
    "\n",
    "fib_fast(50) ➞ 12586269025"
   ]
  },
  {
   "cell_type": "code",
   "execution_count": 5,
   "metadata": {},
   "outputs": [
    {
     "name": "stdout",
     "output_type": "stream",
     "text": [
      "12586269025\n"
     ]
    }
   ],
   "source": [
    "class number_func:\n",
    "    \n",
    "    def fib_fast(self,n):\n",
    "        if(type(n) == int and n >= 0):\n",
    "            if(n == 0):\n",
    "                return 0\n",
    "            elif(n == 1):\n",
    "                return 1\n",
    "            else:\n",
    "                a = 0\n",
    "                b = 1\n",
    "                k = 1\n",
    "                while(k != n):\n",
    "                    k += 1\n",
    "                    c = a + b\n",
    "                    a = b\n",
    "                    b = c\n",
    "                return b\n",
    "        else:\n",
    "            raise TypeError('int greater than or equal to zero expected')\n",
    "                \n",
    "                \n",
    "try:\n",
    "    print(number_func().fib_fast(50))\n",
    "except Exception as e:\n",
    "    print(e)"
   ]
  },
  {
   "cell_type": "markdown",
   "metadata": {},
   "source": [
    "#2 Create a function that takes a strings characters as ASCII and returns each\n",
    "characters hexadecimal value as a string.\n",
    "Examples\n",
    "\n",
    "convert_to_hex(&quot;hello world&quot;) ➞ &quot;68 65 6c 6c 6f 20 77 6f 72 6c 64&quot;\n",
    "\n",
    "convert_to_hex(&quot;Big Boi&quot;) ➞ &quot;42 69 67 20 42 6f 69&quot;\n",
    "\n",
    "convert_to_hex(&quot;Marty Poppinson&quot;) ➞ &quot;4d 61 72 74 79 20 50 6f 70 70 69 6e\n",
    "73 6f 6e&quot;"
   ]
  },
  {
   "cell_type": "code",
   "execution_count": 13,
   "metadata": {},
   "outputs": [
    {
     "name": "stdout",
     "output_type": "stream",
     "text": [
      "68 65 6c 6c 6f 20 77 6f 72 6c 64\n"
     ]
    }
   ],
   "source": [
    "class string_func:\n",
    "    \n",
    "    def convert_to_hex(self,s):\n",
    "        if(type(s) == str):\n",
    "            return ' '.join(list(map(lambda x:hex(ord(x))[2:],s)))\n",
    "        else:\n",
    "            raise TypeError('str expected')\n",
    "            \n",
    "try:\n",
    "    print(string_func().convert_to_hex('hello world'))\n",
    "except Exception as e:\n",
    "    print(e)"
   ]
  },
  {
   "cell_type": "markdown",
   "metadata": {},
   "source": [
    "#3 Someone has attempted to censor my strings by replacing every vowel\n",
    "with a \\*, l\\*k\\* th\\*s. Luckily, I&#39;ve been able to find the vowels that were\n",
    "removed.\n",
    "Given a censored string and a string of the censored vowels, return the\n",
    "original uncensored string.\n",
    "Example\n",
    "\n",
    "uncensor(&quot;Wh\\*r\\* d\\*d my v\\*w\\*ls g\\*?&quot;, &quot;eeioeo&quot;) ➞ &quot;Where did my vowels go?&quot;\n",
    "\n",
    "uncensor(&quot;abcd&quot;, &quot;&quot;) ➞ &quot;abcd&quot;\n",
    "\n",
    "uncensor(&quot;\\*PP\\*RC\\*S\\*&quot;, &quot;UEAE&quot;) ➞ &quot;UPPERCASE&quot;"
   ]
  },
  {
   "cell_type": "code",
   "execution_count": 23,
   "metadata": {},
   "outputs": [
    {
     "name": "stdout",
     "output_type": "stream",
     "text": [
      "Where did my vowels go?\n"
     ]
    }
   ],
   "source": [
    "class string_func:\n",
    "    \n",
    "    def uncensor(self,censored,missing):\n",
    "        if(type(censored) == str and type(missing) == str):\n",
    "            for i in missing:\n",
    "                censored = censored.replace('*',i,1)\n",
    "            return censored\n",
    "        else:\n",
    "            raise TypeError('str expected')\n",
    "            \n",
    "            \n",
    "try:\n",
    "    print(string_func().uncensor(\"Wh*r* d*d my v*w*ls g*?\", \"eeioeo\"))\n",
    "except Exception as e:\n",
    "    print(e)"
   ]
  },
  {
   "cell_type": "markdown",
   "metadata": {},
   "source": [
    "#4 Write a function that takes an IP address and returns the domain name\n",
    "using PTR DNS records.\n",
    "Example\n",
    "\n",
    "get_domain(&quot;8.8.8.8&quot;) ➞ &quot;dns.google&quot;\n",
    "\n",
    "get_domain(&quot;8.8.4.4&quot;) ➞ &quot;dns.google&quot;"
   ]
  },
  {
   "cell_type": "code",
   "execution_count": 44,
   "metadata": {},
   "outputs": [
    {
     "name": "stdout",
     "output_type": "stream",
     "text": [
      "dns.google.\n"
     ]
    }
   ],
   "source": [
    "from dns.resolver import resolve\n",
    "\n",
    "class dns_ptr:\n",
    "    \n",
    "    def get_domain(self,s):\n",
    "        try:\n",
    "            s = s + '.in-addr.arpa'\n",
    "            res = resolve(s,'PTR')\n",
    "            dom = ''\n",
    "            for val in res:\n",
    "                dom += val.to_text()\n",
    "            return dom\n",
    "        except:\n",
    "            return 'Incorrect Domain'\n",
    "            \n",
    "\n",
    "try:\n",
    "    print(dns_ptr().get_domain('8.8.8.8'))\n",
    "except Exception as e:\n",
    "    print(e)"
   ]
  },
  {
   "cell_type": "markdown",
   "metadata": {},
   "source": [
    "#5 Create a function that takes an integer n and returns the factorial of\n",
    "factorials. See below examples for a better understanding:\n",
    "Examples\n",
    "\n",
    "fact_of_fact(4) ➞ 288\n",
    "\n",
    "4! * 3! * 2! * 1! = 288\n",
    "\n",
    "fact_of_fact(5) ➞ 34560\n",
    "\n",
    "fact_of_fact(6) ➞ 24883200"
   ]
  },
  {
   "cell_type": "code",
   "execution_count": 48,
   "metadata": {},
   "outputs": [
    {
     "name": "stdout",
     "output_type": "stream",
     "text": [
      "24883200\n"
     ]
    }
   ],
   "source": [
    "class number_func:\n",
    "    \n",
    "    def fact_of_fact(self,n):\n",
    "        if(type(n) == int and n >= 0):\n",
    "            if(n == 0 or n == 1):\n",
    "                return 1\n",
    "            else:\n",
    "                return number_func().fact(n) * number_func().fact_of_fact(n - 1)\n",
    "        else:\n",
    "            raise TypeError('int greater than or equal to zero expected')\n",
    "            \n",
    "    def fact(self,n):\n",
    "        if(n < 0):\n",
    "            return 'Invalid no'\n",
    "        elif(n == 0 or n == 1):\n",
    "            return 1\n",
    "        else:\n",
    "            return n * number_func().fact(n - 1)\n",
    "        \n",
    "        \n",
    "try:\n",
    "    print(number_func().fact_of_fact(6))\n",
    "except Exception as e:\n",
    "    print(e)"
   ]
  },
  {
   "cell_type": "code",
   "execution_count": 43,
   "metadata": {},
   "outputs": [],
   "source": []
  },
  {
   "cell_type": "code",
   "execution_count": null,
   "metadata": {},
   "outputs": [],
   "source": []
  }
 ],
 "metadata": {
  "kernelspec": {
   "display_name": "Python 3",
   "language": "python",
   "name": "python3"
  },
  "language_info": {
   "codemirror_mode": {
    "name": "ipython",
    "version": 3
   },
   "file_extension": ".py",
   "mimetype": "text/x-python",
   "name": "python",
   "nbconvert_exporter": "python",
   "pygments_lexer": "ipython3",
   "version": "3.7.6"
  }
 },
 "nbformat": 4,
 "nbformat_minor": 4
}
