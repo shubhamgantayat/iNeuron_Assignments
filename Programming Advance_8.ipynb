{
 "cells": [
  {
   "cell_type": "markdown",
   "metadata": {},
   "source": [
    "#1 Given a sentence as txt, return True if any two adjacent words have this\n",
    "property: One word ends with a vowel, while the word immediately after\n",
    "begins with a vowel (a e i o u).\n",
    "Examples\n",
    "\n",
    "vowel_links(&quot;a very large appliance&quot;) ➞ True\n",
    "\n",
    "vowel_links(&quot;go to edabit&quot;) ➞ True\n",
    "\n",
    "vowel_links(&quot;an open fire&quot;) ➞ False\n",
    "\n",
    "vowel_links(&quot;a sudden applause&quot;) ➞ False"
   ]
  },
  {
   "cell_type": "code",
   "execution_count": 3,
   "metadata": {},
   "outputs": [
    {
     "name": "stdout",
     "output_type": "stream",
     "text": [
      "False\n"
     ]
    }
   ],
   "source": [
    "class string_func:\n",
    "    \n",
    "    def vowel_links(self,s):\n",
    "        if(type(s) == str):\n",
    "            l = s.split()\n",
    "            for i in range(len(l) - 1):\n",
    "                if((self.check(l[i][0]) and self.check(l[i + 1][-1])) or (self.check(l[i][-1]) and self.check(l[i + 1][0]))):\n",
    "                    return True\n",
    "            return False\n",
    "        else:\n",
    "            raise TypeError('str expected')\n",
    "            \n",
    "            \n",
    "    def check(self,c):\n",
    "        if(c.lower() in ['a','e','i','o','u']):\n",
    "            return True\n",
    "        return False\n",
    "    \n",
    "try:\n",
    "    print(string_func().vowel_links(\"a sudden applause\"))\n",
    "except Exception as e:\n",
    "    print(e)"
   ]
  },
  {
   "cell_type": "markdown",
   "metadata": {},
   "source": [
    "#2 You are given three inputs: a string, one letter, and a second letter.\n",
    "Write a function that returns True if every instance of the first letter occurs\n",
    "before every instance of the second letter.\n",
    "Examples\n",
    "\n",
    "first_before_second(&quot;a rabbit jumps joyfully&quot;, &quot;a&quot;, &quot;j&quot;) ➞ True\n",
    "\n",
    "Every instance of &quot;a&quot; occurs before every instance of &quot;j&quot;.\n",
    "\n",
    "first_before_second(&quot;knaves knew about waterfalls&quot;, &quot;k&quot;, &quot;w&quot;) ➞ True\n",
    "\n",
    "first_before_second(&quot;happy birthday&quot;, &quot;a&quot;, &quot;y&quot;) ➞ False\n",
    "\n",
    "The &quot;a&quot; in &quot;birthday&quot; occurs after the &quot;y&quot; in &quot;happy&quot;.\n",
    "\n",
    "first_before_second(&quot;precarious kangaroos&quot;, &quot;k&quot;, &quot;a&quot;) ➞ False"
   ]
  },
  {
   "cell_type": "code",
   "execution_count": 24,
   "metadata": {},
   "outputs": [
    {
     "name": "stdout",
     "output_type": "stream",
     "text": [
      "False\n"
     ]
    }
   ],
   "source": [
    "class string_func:\n",
    "    \n",
    "    def first_before_second(self,s,a,b):\n",
    "        if(type(s) == str and type(a) == str and type(b) == str):\n",
    "            return string[string.find(b):].find(a) == -1\n",
    "        else:\n",
    "            raise TypeError('str expected')\n",
    "            \n",
    "            \n",
    "try:\n",
    "    print(string_func().first_before_second(\"happy birthday\", \"a\", \"y\"))\n",
    "except Exception as e:\n",
    "    print(e)"
   ]
  },
  {
   "cell_type": "markdown",
   "metadata": {},
   "source": [
    "#3 Create a function that returns the characters from a list or string r on odd or\n",
    "even positions, depending on the specifier s. The specifier will be &quot;odd&quot; for\n",
    "items on odd positions (1, 3, 5, ...) and &quot;even&quot; for items on even positions (2,\n",
    "4, 6, ...).\n",
    "Examples\n",
    "\n",
    "char_at_pos([2, 4, 6, 8, 10], &quot;even&quot;) ➞ [4, 8]\n",
    "\n",
    "4 &amp; 8 occupy the 2nd &amp; 4th positions\n",
    "\n",
    "char_at_pos(&quot;EDABIT&quot;, &quot;odd&quot;) ➞ &quot;EAI&quot;\n",
    "\n",
    "&quot;E&quot;, &quot;A&quot; and &quot;I&quot; occupy the 1st, 3rd and 5th positions\n",
    "\n",
    "char_at_pos([&quot;A&quot;, &quot;R&quot;, &quot;B&quot;, &quot;I&quot;, &quot;T&quot;, &quot;R&quot;, &quot;A&quot;, &quot;R&quot;, &quot;I&quot;, &quot;L&quot;, &quot;Y&quot;], &quot;odd&quot;) ➞ [&quot;A&quot;,\n",
    "&quot;B&quot;, &quot;T&quot;, &quot;A&quot;, &quot;I&quot;, &quot;Y&quot;]"
   ]
  },
  {
   "cell_type": "code",
   "execution_count": 26,
   "metadata": {},
   "outputs": [
    {
     "name": "stdout",
     "output_type": "stream",
     "text": [
      "[4, 8]\n"
     ]
    }
   ],
   "source": [
    "class list_func:\n",
    "    \n",
    "    def char_at_pos(self,l,s):\n",
    "        if(type(l) == list and s in ['even','odd']):\n",
    "            return l[0::2] if s == 'odd' else l[1::2]\n",
    "        else:\n",
    "            raise TypeError('list and str expected')\n",
    "            \n",
    "            \n",
    "try:\n",
    "    print(list_func().char_at_pos([2, 4, 6, 8, 10], \"even\"))\n",
    "except Exception as e:\n",
    "    print(e)"
   ]
  },
  {
   "cell_type": "markdown",
   "metadata": {},
   "source": [
    "#4 Write a function that returns the greatest common divisor of all list\n",
    "elements. If the greatest common divisor is 1, return 1.\n",
    "Examples\n",
    "\n",
    "GCD([10, 20, 40]) ➞ 10\n",
    "\n",
    "GCD([1, 2, 3, 100]) ➞ 1\n",
    "\n",
    "GCD([1024, 192, 2048, 512]) ➞ 64"
   ]
  },
  {
   "cell_type": "code",
   "execution_count": 34,
   "metadata": {},
   "outputs": [
    {
     "name": "stdout",
     "output_type": "stream",
     "text": [
      "64\n"
     ]
    }
   ],
   "source": [
    "class list_func:\n",
    "    \n",
    "    def gcd(self,l):\n",
    "        if(type(l) == list):\n",
    "            while(len(l) != 1):\n",
    "                a = l.pop()\n",
    "                b = l.pop()\n",
    "                l.append(self.long_div(a,b))\n",
    "            return l[0]\n",
    "        else:\n",
    "            raise TypeError('list expected')\n",
    "            \n",
    "    def long_div(self,a,b):\n",
    "        m = max(a,b)\n",
    "        mi = min(a,b)\n",
    "        if(m % mi == 0):\n",
    "            return mi\n",
    "        else:\n",
    "            return self.long_div(mi,m % mi)\n",
    "        \n",
    "        \n",
    "try:\n",
    "    print(list_func().gcd([1024, 192, 2048, 512]))\n",
    "except Exception as e:\n",
    "    print(e)"
   ]
  },
  {
   "cell_type": "markdown",
   "metadata": {},
   "source": [
    "#5 A number/string is a palindrome if the digits/characters are the same when\n",
    "read both forward and backward. Examples include &quot;racecar&quot; and 12321.\n",
    "Given a positive number n, check if n or the binary representation of n is\n",
    "palindromic. Return the following:\n",
    "- &quot;Decimal only.&quot; if only n is a palindrome.\n",
    "- &quot;Binary only.&quot; if only the binary representation of n is a palindrome.\n",
    "- &quot;Decimal and binary.&quot; if both are palindromes.\n",
    "- &quot;Neither!&quot; if neither are palindromes.\n",
    "Examples\n",
    "\n",
    "palindrome_type(1306031) ➞ &quot;Decimal only.&quot;\n",
    "\n",
    "decimal = 1306031\n",
    "\n",
    "binary = &quot;100111110110110101111&quot;\n",
    "\n",
    "palindrome_type(427787) ➞ &quot;Binary only.&quot;\n",
    "\n",
    "decimal = 427787\n",
    "\n",
    "binary = &quot;1101000011100001011&quot;\n",
    "\n",
    "palindrome_type(313) ➞ &quot;Decimal and binary.&quot;\n",
    "\n",
    "decimal = 313\n",
    "\n",
    "binary = 100111001\n",
    "\n",
    "palindrome_type(934) ➞ &quot;Neither!&quot;\n",
    "\n",
    "decimal = 934\n",
    "\n",
    "binary = &quot;1110100110&quot;"
   ]
  },
  {
   "cell_type": "code",
   "execution_count": 40,
   "metadata": {},
   "outputs": [
    {
     "name": "stdout",
     "output_type": "stream",
     "text": [
      "Binary only\n"
     ]
    }
   ],
   "source": [
    "class pallindrome:\n",
    "    \n",
    "    def pallindrome_type(self,n):\n",
    "        if(type(n) == int):\n",
    "            if(self.pallindrome_check(n) and self.pallindrome_check(self.to_binary(n))):\n",
    "                return 'Decimal and binary'\n",
    "            elif(self.pallindrome_check(n)):\n",
    "                return 'Decimal only'\n",
    "            elif(self.pallindrome_check(self.to_binary(n))):\n",
    "                return 'Binary only'\n",
    "            else:\n",
    "                return 'Neither!'\n",
    "        else:\n",
    "            raise TypeError('int expected')\n",
    "            \n",
    "    def pallindrome_check(self,n):\n",
    "        k = n\n",
    "        rev = 0\n",
    "        while(k != 0):\n",
    "            d = k % 10\n",
    "            rev = rev * 10 + d\n",
    "            k = k // 10\n",
    "        if(rev == n):\n",
    "            return True\n",
    "        else:\n",
    "            return False\n",
    "    \n",
    "    def to_binary(self,n):\n",
    "        return int(bin(n)[2:])\n",
    "    \n",
    "\n",
    "try:\n",
    "    print(pallindrome().pallindrome_type(427787))\n",
    "except Exception as e:\n",
    "    print(e)"
   ]
  },
  {
   "cell_type": "code",
   "execution_count": null,
   "metadata": {},
   "outputs": [],
   "source": []
  },
  {
   "cell_type": "code",
   "execution_count": null,
   "metadata": {},
   "outputs": [],
   "source": []
  }
 ],
 "metadata": {
  "kernelspec": {
   "display_name": "Python 3",
   "language": "python",
   "name": "python3"
  },
  "language_info": {
   "codemirror_mode": {
    "name": "ipython",
    "version": 3
   },
   "file_extension": ".py",
   "mimetype": "text/x-python",
   "name": "python",
   "nbconvert_exporter": "python",
   "pygments_lexer": "ipython3",
   "version": "3.7.6"
  }
 },
 "nbformat": 4,
 "nbformat_minor": 4
}
