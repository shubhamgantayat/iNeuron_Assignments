{
 "cells": [
  {
   "cell_type": "markdown",
   "metadata": {},
   "source": [
    "#1 Create a function that takes an integer and returns a list from 1 to the given number, where:\n",
    "\n",
    "1. If the number can be divided evenly by 4, amplify it by 10 (i.e. return 10 times the\n",
    "number).\n",
    "\n",
    "2. If the number cannot be divided evenly by 4, simply return the number.\n",
    "\n",
    "Examples\n",
    "\n",
    "amplify(4) ➞ [1, 2, 3, 40]\n",
    "\n",
    "amplify(3) ➞ [1, 2, 3]\n",
    "\n",
    "amplify(25) ➞ [1, 2, 3, 40, 5, 6, 7, 80, 9, 10, 11, 120, 13, 14, 15, 160,\n",
    "17, 18, 19, 200, 21, 22, 23, 240, 25]"
   ]
  },
  {
   "cell_type": "code",
   "execution_count": 2,
   "metadata": {},
   "outputs": [
    {
     "name": "stdout",
     "output_type": "stream",
     "text": [
      "[1, 2, 3, 40, 5, 6, 7, 80, 9, 10, 11, 120, 13, 14, 15, 160, 17, 18, 19, 200, 21, 22, 23, 240, 25]\n"
     ]
    }
   ],
   "source": [
    "class InvalidNumberError(Exception):\n",
    "    \n",
    "    def __init__(self,message):\n",
    "        super().__init__(message)\n",
    "        \n",
    "class number_func:\n",
    "    \n",
    "    def amplify(self,n):\n",
    "        if(type(n) == int):\n",
    "            if(n > 0) :\n",
    "                return [i if i % 4 != 0 else i * 10 for i in range(1,n+1)]\n",
    "            else:\n",
    "                raise InvalidNumberError('Number less than 1')\n",
    "        else:\n",
    "            raise ValueError('int is required')\n",
    "            \n",
    "try:\n",
    "    print(number_func().amplify(25))\n",
    "except ValueError as e:\n",
    "    print(e)\n",
    "except InvalidNumberError as e:\n",
    "    print(e)\n",
    "except Exception as e:\n",
    "    print(e)"
   ]
  },
  {
   "cell_type": "markdown",
   "metadata": {},
   "source": [
    "#2 Create a function that takes a list of numbers and return the number that&#39;s unique.\n",
    "Examples\n",
    "\n",
    "unique([3, 3, 3, 7, 3, 3]) ➞ 7\n",
    "\n",
    "unique([0, 0, 0.77, 0, 0]) ➞ 0.77\n",
    "\n",
    "unique([0, 1, 1, 1, 1, 1, 1, 1]) ➞ 0"
   ]
  },
  {
   "cell_type": "code",
   "execution_count": 18,
   "metadata": {},
   "outputs": [
    {
     "name": "stdout",
     "output_type": "stream",
     "text": [
      "7\n"
     ]
    }
   ],
   "source": [
    "class InvalidListError(Exception):\n",
    "    \n",
    "    def __init__(self,message):\n",
    "        super().__init__(message)\n",
    "        \n",
    "class list_func:\n",
    "    \n",
    "    def unique(self,l):\n",
    "        if(type(l) == list):\n",
    "            if(len(l) != 0):\n",
    "                d = dict()\n",
    "                for i in l:\n",
    "                    if i not in d.keys():\n",
    "                        d[i] = 1\n",
    "                    else:\n",
    "                        d[i] += 1\n",
    "                l = list(filter(lambda x:d[x] == 1,d.keys()))\n",
    "                if(len(l) == 1):\n",
    "                    return l[0]\n",
    "                else:\n",
    "                    raise InvalidListError('only one unique element need to be present')\n",
    "            else:\n",
    "                raise InvalidListError('list is empty')\n",
    "        else:\n",
    "            raise ValueError('list is required')\n",
    "            \n",
    "            \n",
    "try:            \n",
    "    print(list_func().unique([3, 3, 3, 7, 3, 3]))\n",
    "except ValueError as e:\n",
    "    print(e)\n",
    "except InvalidListError as e:\n",
    "    print(e)\n",
    "except Exception as e:\n",
    "    print(e)"
   ]
  },
  {
   "cell_type": "markdown",
   "metadata": {},
   "source": [
    "#3 Your task is to create a Circle constructor that creates a circle with a radius provided by an\n",
    "argument. The circles constructed must have two getters getArea() (PIr^2) and\n",
    "getPerimeter() (2PI*r) which give both respective areas and perimeter (circumference).\n",
    "\n",
    "For help with this class, I have provided you with a Rectangle constructor which you can use\n",
    "as a base example.\n",
    "Examples\n",
    "\n",
    "circy = Circle(11)\n",
    "\n",
    "circy.getArea()\n",
    "\n",
    "Should return 380.132711084365\n",
    "\n",
    "circy = Circle(4.44)\n",
    "\n",
    "circy.getPerimeter()\n",
    "\n",
    "Should return 27.897342763877365\n",
    "\n",
    "Notes\n",
    "\n",
    "Round results up to the nearest integer."
   ]
  },
  {
   "cell_type": "code",
   "execution_count": 20,
   "metadata": {},
   "outputs": [
    {
     "name": "stdout",
     "output_type": "stream",
     "text": [
      "Area :  62\n",
      "Perimeter :  28\n"
     ]
    }
   ],
   "source": [
    "import math\n",
    "\n",
    "class InvalidRadiusError(Exception):\n",
    "    \n",
    "    def __init__(self,message):\n",
    "        super().__init__(message)\n",
    "\n",
    "class Circle:\n",
    "    \n",
    "    def __init__(self,radius):\n",
    "        if(type(radius) == float or type(radius) == int):\n",
    "            if(radius > 0):\n",
    "                self.radius = radius\n",
    "            else:\n",
    "                raise InvalidRadiusError('Radius should be greater than 0')\n",
    "        else:\n",
    "            raise ValueError('int or float required')\n",
    "            \n",
    "    def getArea(self):\n",
    "        return math.pi * (self.radius ** 2)\n",
    "    \n",
    "    def getPerimeter(self):\n",
    "        return 2 * math.pi * self.radius\n",
    "    \n",
    "try:\n",
    "    c = Circle(4.44)\n",
    "    print('Area : ',round(c.getArea()))\n",
    "    print('Perimeter : ',round(c.getPerimeter()))\n",
    "except ValueError as e:\n",
    "    print(e)\n",
    "except InvalidRadiusError as e:\n",
    "    print(e)\n",
    "except Exception as e:\n",
    "    print(e)"
   ]
  },
  {
   "cell_type": "markdown",
   "metadata": {},
   "source": [
    "#4 Create a function that takes a list of strings and return a list, sorted from shortest to longest.\n",
    "Examples\n",
    "\n",
    "sort_by_length([&quot;Google&quot;, &quot;Apple&quot;, &quot;Microsoft&quot;])\n",
    "➞ [&quot;Apple&quot;, &quot;Google&quot;, &quot;Microsoft&quot;]\n",
    "\n",
    "sort_by_length([&quot;Leonardo&quot;, &quot;Michelangelo&quot;, &quot;Raphael&quot;, &quot;Donatello&quot;])\n",
    "➞ [&quot;Raphael&quot;, &quot;Leonardo&quot;, &quot;Donatello&quot;, &quot;Michelangelo&quot;]\n",
    "\n",
    "sort_by_length([&quot;Turing&quot;, &quot;Einstein&quot;, &quot;Jung&quot;])\n",
    "➞ [&quot;Jung&quot;, &quot;Turing&quot;, &quot;Einstein&quot;]\n",
    "\n",
    "Notes\n",
    "\n",
    "All test cases contain lists with strings of different lengths, so you won&#39;t have to deal with\n",
    "multiple strings of the same length."
   ]
  },
  {
   "cell_type": "code",
   "execution_count": 35,
   "metadata": {},
   "outputs": [
    {
     "name": "stdout",
     "output_type": "stream",
     "text": [
      "['Raphael', 'Leonardo', 'Michelangelo', 'Donatello']\n"
     ]
    }
   ],
   "source": [
    "class InvalidListError(Exception):\n",
    "    \n",
    "    def __init__(self,message):\n",
    "        super().__init__(message)\n",
    "        \n",
    "class list_func:\n",
    "    \n",
    "    def sort_by_length(self,l):\n",
    "        if(type(l) == list):\n",
    "            d = dict()\n",
    "            for i in l:\n",
    "                if(type(i) == str):\n",
    "                    d[i] = len(i)\n",
    "                else:\n",
    "                    raise InvalidListError('only str is allowed')\n",
    "            d = sorted(d,key = lambda x:x[1])\n",
    "            return d\n",
    "        else:\n",
    "            raise ValueError('list is required')\n",
    "            \n",
    "            \n",
    "try:\n",
    "    print(list_func().sort_by_length([\"Leonardo\", \"Michelangelo\", \"Raphael\", \"Donatello\"]))\n",
    "except InvalidListError as e:\n",
    "    print(e)\n",
    "except ValueError as e:\n",
    "    print(e)\n",
    "except Exception as e:\n",
    "    print(e)"
   ]
  },
  {
   "cell_type": "markdown",
   "metadata": {},
   "source": [
    "#5 Create a function that validates whether three given integers form a Pythagorean triplet. The\n",
    "sum of the squares of the two smallest integers must equal the square of the largest number to\n",
    "be validated.\n",
    "\n",
    "Examples\n",
    "\n",
    "is_triplet(3, 4, 5) ➞ True\n",
    "\n",
    "3² + 4² = 25\n",
    "\n",
    "5² = 25\n",
    "\n",
    "is_triplet(13, 5, 12) ➞ True\n",
    "\n",
    "5² + 12² = 169\n",
    "\n",
    "13² = 169\n",
    "\n",
    "is_triplet(1, 2, 3) ➞ False\n",
    "\n",
    "1² + 2² = 5\n",
    "\n",
    "3² = 9\n",
    "\n",
    "Notes\n",
    "\n",
    "Numbers may not be given in a sorted order."
   ]
  },
  {
   "cell_type": "code",
   "execution_count": 37,
   "metadata": {},
   "outputs": [
    {
     "name": "stdout",
     "output_type": "stream",
     "text": [
      "True\n"
     ]
    }
   ],
   "source": [
    "class number_func:\n",
    "    \n",
    "    def is_triplet(self,x,y,z):\n",
    "        if(type(x) == int and type(y) == int and type(z) == int):\n",
    "            if(x**2 + y**2 == z**2 or x**2 + z**2 == y**2 or y**2 + z**2 == x**2):\n",
    "                return True\n",
    "            else:\n",
    "                return False\n",
    "        else:\n",
    "            raise ValueError('int is required as argument')\n",
    "    \n",
    "try:\n",
    "    print(number_func().is_triplet(13,5,12))\n",
    "except ValueError as e:\n",
    "    print(e)\n",
    "except Exception as e:\n",
    "    print(e)"
   ]
  },
  {
   "cell_type": "code",
   "execution_count": null,
   "metadata": {},
   "outputs": [],
   "source": []
  }
 ],
 "metadata": {
  "kernelspec": {
   "display_name": "Python 3",
   "language": "python",
   "name": "python3"
  },
  "language_info": {
   "codemirror_mode": {
    "name": "ipython",
    "version": 3
   },
   "file_extension": ".py",
   "mimetype": "text/x-python",
   "name": "python",
   "nbconvert_exporter": "python",
   "pygments_lexer": "ipython3",
   "version": "3.7.6"
  }
 },
 "nbformat": 4,
 "nbformat_minor": 4
}
