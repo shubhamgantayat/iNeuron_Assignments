{
 "cells": [
  {
   "cell_type": "markdown",
   "metadata": {},
   "source": [
    "#1 Create a function to perform basic arithmetic operations that includes\n",
    "addition, subtraction, multiplication and division on a string number (e.g. &quot;12 +\n",
    "24&quot; or &quot;23 - 21&quot; or &quot;12 // 12&quot; or &quot;12 * 21&quot;).\n",
    "Here, we have 1 followed by a space, operator followed by another space\n",
    "and 2. For the challenge, we are going to have only two numbers between 1\n",
    "valid operator. The return value should be a number.\n",
    "eval() is not allowed. In case of division, whenever the second number equals\n",
    "\n",
    "&quot;0&quot; return -1.\n",
    "\n",
    "For example:\n",
    "\n",
    "&quot;15 // 0&quot; ➞ -1\n",
    "\n",
    "Examples\n",
    "\n",
    "arithmetic_operation(&quot;12 + 12&quot;) ➞ 24 // 12 + 12 = 24\n",
    "\n",
    "arithmetic_operation(&quot;12 - 12&quot;) ➞ 24 // 12 - 12 = 0\n",
    "\n",
    "arithmetic_operation(&quot;12 * 12&quot;) ➞ 144 // 12 * 12 = 144\n",
    "\n",
    "arithmetic_operation(&quot;12 // 0&quot;) ➞ -1 // 12 / 0 = -1"
   ]
  },
  {
   "cell_type": "code",
   "execution_count": 1,
   "metadata": {},
   "outputs": [
    {
     "name": "stdout",
     "output_type": "stream",
     "text": [
      "24\n"
     ]
    }
   ],
   "source": [
    "class InvalidExpressionError(Exception):\n",
    "    \n",
    "    def __init__(self,message):\n",
    "        super.__init__(message)\n",
    "\n",
    "class str_func:\n",
    "    \n",
    "    def arithmetic_operation(self,s):\n",
    "        if(type(s) == str):\n",
    "            l = s.split(' ')\n",
    "            if l[1] == '+':\n",
    "                return int(l[0]) + int(l[2])\n",
    "            elif l[1] == '-':\n",
    "                return int(l[0]) - int(l[2])\n",
    "            elif l[1] == '*':\n",
    "                return int(l[0]) * int(l[2])\n",
    "            elif l[1] == '//':\n",
    "                if(int(l[2]) == 0):\n",
    "                    return -1\n",
    "                else:\n",
    "                    return int(l[0]) // int(l[2])\n",
    "            else:\n",
    "                raise InvalidExpressionError('Not an arithmetic exp')\n",
    "        else:\n",
    "            raise TypeError('str expected')\n",
    "            \n",
    "            \n",
    "try:\n",
    "    print(str_func().arithmetic_operation(\"12 + 12\"))\n",
    "except Exception as e:\n",
    "    print(e)"
   ]
  },
  {
   "cell_type": "markdown",
   "metadata": {},
   "source": [
    "#2 Write a function that takes the coordinates of three points in the form of a\n",
    "2d array and returns the perimeter of the triangle. The given points are the\n",
    "vertices of a triangle on a two-dimensional plane.\n",
    "Examples\n",
    "\n",
    "perimeter( [ [15, 7], [5, 22], [11, 1] ] ) ➞ 47.08\n",
    "\n",
    "perimeter( [ [0, 0], [0, 1], [1, 0] ] ) ➞ 3.42\n",
    "\n",
    "perimeter( [ [-10, -10], [10, 10 ], [-10, 10] ] ) ➞ 68.28"
   ]
  },
  {
   "cell_type": "code",
   "execution_count": 7,
   "metadata": {},
   "outputs": [
    {
     "name": "stdout",
     "output_type": "stream",
     "text": [
      "47.08\n"
     ]
    }
   ],
   "source": [
    "class triangle:\n",
    "    \n",
    "    def perimeter(self,l):\n",
    "        if(type(l) == list and len(l) == 3):\n",
    "            try:\n",
    "                return round(triangle().distance(l[0],l[1]) + triangle().distance(l[1],l[2]) + triangle().distance(l[2],l[0]),2)\n",
    "            except:\n",
    "                raise TypeError('Invalid Format')\n",
    "        else:\n",
    "            raise TypeError('List required with 3 coordinates')\n",
    "            \n",
    "    \n",
    "    def distance(self,l1,l2):\n",
    "        return ((l1[0] - l2[0]) ** 2 + (l1[1] - l2[1]) ** 2) ** 0.5\n",
    "    \n",
    "try:\n",
    "    print(triangle().perimeter([[15, 7],[5, 22],[11, 1]]))\n",
    "except Exception as e:\n",
    "    print(e)"
   ]
  },
  {
   "cell_type": "markdown",
   "metadata": {},
   "source": [
    "#3 A city skyline can be represented as a 2-D list with 1s representing\n",
    "buildings. In the example below, the height of the tallest building is 4 (second-\n",
    "most right column).\n",
    "\n",
    "[[0, 0, 0, 0, 0, 0],\n",
    "\n",
    "[0, 0, 0, 0, 1, 0],\n",
    "\n",
    "[0, 0, 1, 0, 1, 0],\n",
    "\n",
    "[0, 1, 1, 1, 1, 0],\n",
    "\n",
    "[1, 1, 1, 1, 1, 1]]\n",
    "\n",
    "Create a function that takes a skyline (2-D list of 0&#39;s and 1&#39;s) and returns the\n",
    "height of the tallest skyscraper."
   ]
  },
  {
   "cell_type": "code",
   "execution_count": 15,
   "metadata": {},
   "outputs": [
    {
     "name": "stdout",
     "output_type": "stream",
     "text": [
      "3\n"
     ]
    }
   ],
   "source": [
    "class city:\n",
    "    \n",
    "    def skyline(self,l):\n",
    "        if(type(l) == list):\n",
    "            try:\n",
    "                l1 = list(map(lambda x:0,l[0]))\n",
    "                for i in l:\n",
    "                    l1 = list(map(lambda x,y:x+y,l1,i))\n",
    "                return max(l1)\n",
    "            except Exception as e:\n",
    "                raise('Invalid input format')\n",
    "        else:\n",
    "            raise TypeError('List of lists required')\n",
    "            \n",
    "\n",
    "try:\n",
    "    print(city().skyline([[0, 0, 0, 0],[0, 1, 0, 0],[0, 1, 1, 0],[1, 1, 1, 1]]))\n",
    "except Exception as e:\n",
    "    print(e)"
   ]
  },
  {
   "cell_type": "markdown",
   "metadata": {},
   "source": [
    "#4 A financial institution provides professional services to banks and claims\n",
    "charges from the customers based on the number of man-days provided.\n",
    "Internally, it has set a scheme to motivate and reward staff to meet and\n",
    "exceed targeted billable utilization and revenues by paying a bonus for each\n",
    "day claimed from customers in excess of a threshold target.\n",
    "This quarterly scheme is calculated with a threshold target of 32 days per\n",
    "quarter, and the incentive payment for each billable day in excess of such\n",
    "threshold target is shown as follows:\n",
    "Days Bonus\n",
    "0 to 32 days Zero\n",
    "33 to 40 days SGD$325 per billable day\n",
    "41 to 48 days SGD$550 per billable day\n",
    "Greater than 48 days SGD$600 per billable day\n",
    "\n",
    "Please note that incentive payment is calculated progressively. As an\n",
    "example, if an employee reached total billable days of 45 in a quarter, his/her\n",
    "incentive payment is computed as follows:\n",
    "32*0 + 8*325 + 5*550 = 5350\n",
    "Write a function to read the billable days of an employee and return the bonus\n",
    "he/she has obtained in that quarter.\n",
    "Examples\n",
    "\n",
    "bonus(15) ➞ 0\n",
    "\n",
    "bonus(37) ➞ 1625\n",
    "\n",
    "bonus(50) ➞ 8200"
   ]
  },
  {
   "cell_type": "code",
   "execution_count": 18,
   "metadata": {},
   "outputs": [
    {
     "name": "stdout",
     "output_type": "stream",
     "text": [
      "8200\n"
     ]
    }
   ],
   "source": [
    "class institution:\n",
    "    \n",
    "    def bonus(self,n):\n",
    "        if(type(n) == int):\n",
    "            if n <= 32:\n",
    "                return 0\n",
    "            elif n <= 40:\n",
    "                return (n - 32) * 325\n",
    "            elif n <= 48:\n",
    "                return (40 - 32) * 325 + (n - 40) * 550\n",
    "            else:\n",
    "                return (40 - 32) * 325 + (48 - 40) * 550 + (n - 48) * 600\n",
    "        else:\n",
    "            raise ValueError('int expected')\n",
    "\n",
    "        \n",
    "try:\n",
    "    print(institution().bonus(50))\n",
    "except Exception as e:\n",
    "    print(e)"
   ]
  },
  {
   "cell_type": "markdown",
   "metadata": {},
   "source": [
    "#5 A number is said to be Disarium if the sum of its digits raised to their\n",
    "respective positions is the number itself.\n",
    "Create a function that determines whether a number is a Disarium or not.\n",
    "Examples\n",
    "\n",
    "is_disarium(75) ➞ False\n",
    "\n",
    "7^1 + 5^2 = 7 + 25 = 32\n",
    "\n",
    "is_disarium(135) ➞ True\n",
    "\n",
    "1^1 + 3^2 + 5^3 = 1 + 9 + 125 = 135\n",
    "\n",
    "is_disarium(544) ➞ False\n",
    "\n",
    "is_disarium(518) ➞ True\n",
    "\n",
    "is_disarium(466) ➞ False\n",
    "\n",
    "is_disarium(8) ➞ True"
   ]
  },
  {
   "cell_type": "code",
   "execution_count": 19,
   "metadata": {},
   "outputs": [
    {
     "name": "stdout",
     "output_type": "stream",
     "text": [
      "True\n"
     ]
    }
   ],
   "source": [
    "class number_func:\n",
    "    \n",
    "    def is_disarium(self,n):\n",
    "        if(type(n) == int):\n",
    "            k = n\n",
    "            count = 0\n",
    "            num = 0\n",
    "            while(k != 0):\n",
    "                k = k // 10\n",
    "                count += 1\n",
    "                \n",
    "            k = n    \n",
    "            while(k != 0):\n",
    "                d = k % 10\n",
    "                num += d ** count\n",
    "                k = k // 10\n",
    "                count -= 1\n",
    "            \n",
    "            if(num == n):\n",
    "                return True\n",
    "            else:\n",
    "                return False\n",
    "        else:\n",
    "            raise TypeError('int expected')\n",
    "            \n",
    "try:\n",
    "    print(number_func().is_disarium(518))\n",
    "except Exception as e:\n",
    "    print(e)"
   ]
  },
  {
   "cell_type": "code",
   "execution_count": null,
   "metadata": {},
   "outputs": [],
   "source": []
  }
 ],
 "metadata": {
  "kernelspec": {
   "display_name": "Python 3",
   "language": "python",
   "name": "python3"
  },
  "language_info": {
   "codemirror_mode": {
    "name": "ipython",
    "version": 3
   },
   "file_extension": ".py",
   "mimetype": "text/x-python",
   "name": "python",
   "nbconvert_exporter": "python",
   "pygments_lexer": "ipython3",
   "version": "3.7.6"
  }
 },
 "nbformat": 4,
 "nbformat_minor": 4
}
