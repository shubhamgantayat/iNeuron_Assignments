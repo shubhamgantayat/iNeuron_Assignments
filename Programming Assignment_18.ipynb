{
 "cells": [
  {
   "cell_type": "markdown",
   "metadata": {},
   "source": [
    "#1 Create a function that takes a list of non-negative integers and strings and return a new list\n",
    "without the strings.\n",
    "Examples\n",
    "filter_list([1, 2, &quot;a&quot;, &quot;b&quot;]) ➞ [1, 2]\n",
    "filter_list([1, &quot;a&quot;, &quot;b&quot;, 0, 15]) ➞ [1, 0, 15]\n",
    "filter_list([1, 2, &quot;aasf&quot;, &quot;1&quot;, &quot;123&quot;, 123]) ➞ [1, 2, 123]"
   ]
  },
  {
   "cell_type": "code",
   "execution_count": 5,
   "metadata": {},
   "outputs": [
    {
     "name": "stdout",
     "output_type": "stream",
     "text": [
      "[1, 2]\n"
     ]
    }
   ],
   "source": [
    "class list_func:\n",
    "    \n",
    "    def __init__(self,l):\n",
    "        self.l = l\n",
    "        \n",
    "    def filter_list(self):\n",
    "        return list(filter(lambda x:type(x) == int,self.l))\n",
    "    \n",
    "print(list_func([1,2,'a','b']).filter_list())"
   ]
  },
  {
   "cell_type": "markdown",
   "metadata": {},
   "source": [
    "#2 The &quot;Reverser&quot; takes a string as input and returns that string in reverse order, with the\n",
    "opposite case.\n",
    "Examples\n",
    "reverse(&quot;Hello World&quot;) ➞ &quot;DLROw OLLEh&quot;\n",
    "reverse(&quot;ReVeRsE&quot;) ➞ &quot;eSrEvEr&quot;\n",
    "reverse(&quot;Radar&quot;) ➞ &quot;RADAr&quot;"
   ]
  },
  {
   "cell_type": "code",
   "execution_count": 8,
   "metadata": {},
   "outputs": [
    {
     "name": "stdout",
     "output_type": "stream",
     "text": [
      "DLROw OLLEh\n"
     ]
    }
   ],
   "source": [
    "class reverser:\n",
    "    \n",
    "    def __init__(self,str1):\n",
    "        self.str1 = str1\n",
    "        \n",
    "    def reverse(self):\n",
    "        str2 = ''\n",
    "        for i in list(self.str1)[::-1]:\n",
    "            if(65<=ord(i)<=97):\n",
    "                str2 += i.lower()\n",
    "            elif(97<=ord(i)<=122):\n",
    "                str2 += i.upper()\n",
    "            else:\n",
    "                str2 += i\n",
    "        return str2\n",
    "    \n",
    "obj = reverser('Hello World')\n",
    "print(obj.reverse())        "
   ]
  },
  {
   "cell_type": "markdown",
   "metadata": {},
   "source": [
    "#3 You can assign variables from lists like this:\n",
    "lst = [1, 2, 3, 4, 5, 6]\n",
    "first = lst[0]\n",
    "middle = lst[1:-1]\n",
    "last = lst[-1]\n",
    "print(first) ➞ outputs 1\n",
    "print(middle) ➞ outputs [2, 3, 4, 5]\n",
    "print(last) ➞ outputs 6\n",
    "With Python 3, you can assign variables from lists in a much more succinct way. Create\n",
    "variables first, middle and last from the given list using destructuring assignment\n",
    "(check the Resources tab for some examples), where:\n",
    "first ➞ 1\n",
    "middle ➞ [2, 3, 4, 5]\n",
    "last ➞ 6\n",
    "\n",
    "Your task is to unpack the list writeyourcodehere into three variables, being first,\n",
    "middle, and last, with middle being everything in between the first and last element. Then\n",
    "print all three variables."
   ]
  },
  {
   "cell_type": "code",
   "execution_count": 1,
   "metadata": {},
   "outputs": [
    {
     "name": "stdout",
     "output_type": "stream",
     "text": [
      "First :  1\n",
      "Middle :  [2, 3, 4, 5]\n",
      "Last :  6\n"
     ]
    }
   ],
   "source": [
    "class list_unpack:\n",
    "    \n",
    "    def __init__(self,l):\n",
    "        self.l = l\n",
    "        \n",
    "    def first(self):\n",
    "        return self.l[0]\n",
    "    \n",
    "    def middle(self):\n",
    "        return self.l[1:-1]\n",
    "    \n",
    "    def last(self):\n",
    "        return self.l[-1]\n",
    "    \n",
    "l = [1,2,3,4,5,6]\n",
    "obj = list_unpack(l)\n",
    "print('First : ', obj.first())\n",
    "print('Middle : ',obj.middle())\n",
    "print('Last : ',obj.last())"
   ]
  },
  {
   "cell_type": "markdown",
   "metadata": {},
   "source": [
    "#4 Write a function that calculates the factorial of a number recursively.\n",
    "Examples\n",
    "factorial(5) ➞ 120\n",
    "factorial(3) ➞ 6\n",
    "factorial(1) ➞ 1\n",
    "factorial(0) ➞ 1"
   ]
  },
  {
   "cell_type": "code",
   "execution_count": 2,
   "metadata": {},
   "outputs": [
    {
     "name": "stdout",
     "output_type": "stream",
     "text": [
      "120\n"
     ]
    }
   ],
   "source": [
    "class number:\n",
    "    \n",
    "    def __init__(self,n):\n",
    "        self.n = n\n",
    "        \n",
    "    def factorial(self):\n",
    "        if(self.n < 0):\n",
    "            return 'Invalid no.'\n",
    "        elif(self.n == 0 or self.n == 1):\n",
    "            return 1\n",
    "        else:\n",
    "            return self.n * number(self.n-1).factorial()\n",
    "        \n",
    "obj = number(5)\n",
    "print(obj.factorial())"
   ]
  },
  {
   "cell_type": "markdown",
   "metadata": {},
   "source": [
    "#5 Write a function that moves all elements of one type to the end of the list."
   ]
  },
  {
   "cell_type": "code",
   "execution_count": 11,
   "metadata": {},
   "outputs": [
    {
     "name": "stdout",
     "output_type": "stream",
     "text": [
      "['b', 'a', 'a', 'a', 'a']\n"
     ]
    }
   ],
   "source": [
    "class list_func:\n",
    "    \n",
    "    def __init__(self,l):\n",
    "        self.l = l\n",
    "        \n",
    "    def move_to_end(self,char):\n",
    "        l = self.l\n",
    "        k = 0\n",
    "        try:\n",
    "            while(True):\n",
    "                l.remove(char)\n",
    "                k += 1\n",
    "        except ValueError:\n",
    "            pass\n",
    "        finally:\n",
    "            for i in range(k+1):\n",
    "                l.append(char)\n",
    "        return l\n",
    "    \n",
    "obj = list_func(['a','a','a','b'])\n",
    "print(obj.move_to_end('a'))"
   ]
  },
  {
   "cell_type": "code",
   "execution_count": null,
   "metadata": {},
   "outputs": [],
   "source": []
  },
  {
   "cell_type": "code",
   "execution_count": null,
   "metadata": {},
   "outputs": [],
   "source": []
  },
  {
   "cell_type": "code",
   "execution_count": null,
   "metadata": {},
   "outputs": [],
   "source": []
  }
 ],
 "metadata": {
  "kernelspec": {
   "display_name": "Python 3",
   "language": "python",
   "name": "python3"
  },
  "language_info": {
   "codemirror_mode": {
    "name": "ipython",
    "version": 3
   },
   "file_extension": ".py",
   "mimetype": "text/x-python",
   "name": "python",
   "nbconvert_exporter": "python",
   "pygments_lexer": "ipython3",
   "version": "3.7.6"
  }
 },
 "nbformat": 4,
 "nbformat_minor": 4
}
