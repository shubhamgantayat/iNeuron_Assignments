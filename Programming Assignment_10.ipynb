{
 "cells": [
  {
   "cell_type": "markdown",
   "metadata": {},
   "source": [
    "#1 Write a Python program to find sum of elements in list?"
   ]
  },
  {
   "cell_type": "code",
   "execution_count": 1,
   "metadata": {},
   "outputs": [
    {
     "name": "stdout",
     "output_type": "stream",
     "text": [
      "15\n"
     ]
    }
   ],
   "source": [
    "from functools import reduce\n",
    "\n",
    "l = [1,2,3,4,5]\n",
    "print(reduce(lambda x,y:x+y,l))"
   ]
  },
  {
   "cell_type": "markdown",
   "metadata": {},
   "source": [
    "#2 Write a Python program to Multiply all numbers in the list?"
   ]
  },
  {
   "cell_type": "code",
   "execution_count": 2,
   "metadata": {},
   "outputs": [
    {
     "name": "stdout",
     "output_type": "stream",
     "text": [
      "120\n"
     ]
    }
   ],
   "source": [
    "from functools import reduce\n",
    "\n",
    "l = [1,2,3,4,5]\n",
    "print(reduce(lambda x,y:x*y,l))"
   ]
  },
  {
   "cell_type": "markdown",
   "metadata": {},
   "source": [
    "#3 Write a Python program to find smallest number in a list?"
   ]
  },
  {
   "cell_type": "code",
   "execution_count": 4,
   "metadata": {},
   "outputs": [
    {
     "name": "stdout",
     "output_type": "stream",
     "text": [
      "1\n"
     ]
    }
   ],
   "source": [
    "def minimum(l):\n",
    "    Min = l[0]\n",
    "    for i in l[1:]:\n",
    "        Min = i if i < Min else Min\n",
    "    return Min\n",
    "\n",
    "l = [2,5,1,12,53,12,33,9,67,32,21,75,54,93,63,51,83,20]\n",
    "print(minimum(l))"
   ]
  },
  {
   "cell_type": "markdown",
   "metadata": {},
   "source": [
    "#4 Write a Python program to find largest number in a list?"
   ]
  },
  {
   "cell_type": "code",
   "execution_count": 5,
   "metadata": {},
   "outputs": [
    {
     "name": "stdout",
     "output_type": "stream",
     "text": [
      "93\n"
     ]
    }
   ],
   "source": [
    "def maximum(l):\n",
    "    Max = l[0]\n",
    "    for i in l[1:]:\n",
    "        Max = i if i > Max else Max\n",
    "    return Max\n",
    "\n",
    "l = [2,5,1,12,53,12,33,9,67,32,21,75,54,93,63,51,83,20]\n",
    "print(maximum(l))"
   ]
  },
  {
   "cell_type": "markdown",
   "metadata": {},
   "source": [
    "#5 Write a Python program to find second largest number in a list?"
   ]
  },
  {
   "cell_type": "code",
   "execution_count": 6,
   "metadata": {},
   "outputs": [
    {
     "name": "stdout",
     "output_type": "stream",
     "text": [
      "83\n"
     ]
    }
   ],
   "source": [
    "def maximum(l):\n",
    "    Max = l[0]\n",
    "    for i in l[1:]:\n",
    "        Max = i if i > Max else Max\n",
    "    return Max\n",
    "\n",
    "def second_max(l):\n",
    "    Max = maximum(l)\n",
    "    l = list(filter(lambda x:x != Max,l))\n",
    "    return maximum(l)\n",
    "\n",
    "l = [2,5,1,12,53,12,33,9,67,32,21,75,54,93,63,51,83,20]\n",
    "print(second_max(l))"
   ]
  },
  {
   "cell_type": "markdown",
   "metadata": {},
   "source": [
    "#6 Write a Python program to find N largest elements from a list?"
   ]
  },
  {
   "cell_type": "code",
   "execution_count": 8,
   "metadata": {},
   "outputs": [
    {
     "name": "stdout",
     "output_type": "stream",
     "text": [
      "[93, 83, 75, 67, 63]\n"
     ]
    }
   ],
   "source": [
    "def maximum(l):\n",
    "    Max = l[0]\n",
    "    for i in l[1:]:\n",
    "        Max = i if i > Max else Max\n",
    "    return Max\n",
    "\n",
    "def n_max(l,n):\n",
    "    if(n >= 2):\n",
    "        Max = maximum(l)\n",
    "        l = list(filter(lambda x:x != Max,l))\n",
    "        yield Max\n",
    "        yield from n_max(l,n-1)\n",
    "    else:\n",
    "        yield maximum(l)\n",
    "\n",
    "l = [2,5,1,12,53,12,33,9,67,32,21,75,54,93,63,51,83,20]\n",
    "print(list(iter(n_max(l,5))))"
   ]
  },
  {
   "cell_type": "markdown",
   "metadata": {},
   "source": [
    "#7 Write a Python program to print even numbers in a list?"
   ]
  },
  {
   "cell_type": "code",
   "execution_count": 9,
   "metadata": {},
   "outputs": [
    {
     "name": "stdout",
     "output_type": "stream",
     "text": [
      "[2, 12, 12, 32, 54, 20]\n"
     ]
    }
   ],
   "source": [
    "def even(l):\n",
    "    return list(filter(lambda x:x%2 == 0,l))\n",
    "\n",
    "l = [2,5,1,12,53,12,33,9,67,32,21,75,54,93,63,51,83,20]\n",
    "print(even(l))"
   ]
  },
  {
   "cell_type": "markdown",
   "metadata": {},
   "source": [
    "#8 Write a Python program to print odd numbers in a List?"
   ]
  },
  {
   "cell_type": "code",
   "execution_count": 10,
   "metadata": {},
   "outputs": [
    {
     "name": "stdout",
     "output_type": "stream",
     "text": [
      "[5, 1, 53, 33, 9, 67, 21, 75, 93, 63, 51, 83]\n"
     ]
    }
   ],
   "source": [
    "def odd(l):\n",
    "    return list(filter(lambda x:x%2 != 0,l))\n",
    "\n",
    "l = [2,5,1,12,53,12,33,9,67,32,21,75,54,93,63,51,83,20]\n",
    "print(odd(l))"
   ]
  },
  {
   "cell_type": "markdown",
   "metadata": {},
   "source": [
    "#9 Write a Python program to Remove empty List from List?"
   ]
  },
  {
   "cell_type": "code",
   "execution_count": 17,
   "metadata": {},
   "outputs": [
    {
     "name": "stdout",
     "output_type": "stream",
     "text": [
      "[3, 5, 6, [4, 5, 6], [3], 4, ['abc'], 'cda']\n"
     ]
    }
   ],
   "source": [
    "def remove_empty_list(l):\n",
    "    return list(filter(lambda x:x != [],l))\n",
    "\n",
    "l = [3,5,6,[],[4,5,6],[3],4,[],['abc'],'cda']\n",
    "print(remove_empty_list(l))"
   ]
  },
  {
   "cell_type": "markdown",
   "metadata": {},
   "source": [
    "#10 Write a Python program to Cloning or Copying a list?"
   ]
  },
  {
   "cell_type": "code",
   "execution_count": 33,
   "metadata": {},
   "outputs": [
    {
     "name": "stdout",
     "output_type": "stream",
     "text": [
      "[2, 5, 1, 12, 53, 12, 33, 9, 67, 32, 21, 75, 54, 93, 63, 51, 83, 20]\n"
     ]
    }
   ],
   "source": [
    "def clone_list(original):\n",
    "    new = []\n",
    "    new.extend(original)\n",
    "    return new\n",
    "    \n",
    "l = [2,5,1,12,53,12,33,9,67,32,21,75,54,93,63,51,83,20]\n",
    "print(clone_list(l))"
   ]
  },
  {
   "cell_type": "markdown",
   "metadata": {},
   "source": [
    "#11 Write a Python program to Count occurrences of an element in a list?"
   ]
  },
  {
   "cell_type": "code",
   "execution_count": 36,
   "metadata": {},
   "outputs": [
    {
     "name": "stdout",
     "output_type": "stream",
     "text": [
      "{2: 3, 3: 2, 4: 2, 5: 2, 1: 3}\n"
     ]
    }
   ],
   "source": [
    "def occur(l):\n",
    "    d = dict()\n",
    "    for i in l:\n",
    "        if(i not in d.keys()):\n",
    "            d[i] = 0\n",
    "        d[i] += 1\n",
    "    return d\n",
    "\n",
    "l = [2,2,3,4,5,5,1,1,1,3,4,2]\n",
    "print(occur(l))"
   ]
  },
  {
   "cell_type": "code",
   "execution_count": null,
   "metadata": {},
   "outputs": [],
   "source": []
  }
 ],
 "metadata": {
  "kernelspec": {
   "display_name": "Python 3",
   "language": "python",
   "name": "python3"
  },
  "language_info": {
   "codemirror_mode": {
    "name": "ipython",
    "version": 3
   },
   "file_extension": ".py",
   "mimetype": "text/x-python",
   "name": "python",
   "nbconvert_exporter": "python",
   "pygments_lexer": "ipython3",
   "version": "3.7.6"
  }
 },
 "nbformat": 4,
 "nbformat_minor": 4
}
