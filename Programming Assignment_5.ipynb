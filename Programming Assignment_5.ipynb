{
 "cells": [
  {
   "cell_type": "markdown",
   "metadata": {},
   "source": [
    "#1 Write a Python Program to Find LCM?"
   ]
  },
  {
   "cell_type": "code",
   "execution_count": 3,
   "metadata": {},
   "outputs": [
    {
     "name": "stdin",
     "output_type": "stream",
     "text": [
      "Enter two nos. :  7 5\n"
     ]
    },
    {
     "name": "stdout",
     "output_type": "stream",
     "text": [
      "35\n"
     ]
    }
   ],
   "source": [
    "def lcm(x,y):\n",
    "    Max = max(x,y)\n",
    "    Min = min(x,y)\n",
    "    for i in range(Max,Max*Min + 1,Max):\n",
    "        if(i % Min == 0):\n",
    "            return i\n",
    "\n",
    "x,y = [int(i) for i in input(\"Enter two nos. : \").split()]\n",
    "print(lcm(x,y))"
   ]
  },
  {
   "cell_type": "markdown",
   "metadata": {},
   "source": [
    "#2 Write a Python Program to Find HCF?"
   ]
  },
  {
   "cell_type": "code",
   "execution_count": 20,
   "metadata": {},
   "outputs": [
    {
     "name": "stdin",
     "output_type": "stream",
     "text": [
      "Enter two nos. :  20 30\n"
     ]
    },
    {
     "name": "stdout",
     "output_type": "stream",
     "text": [
      "10\n"
     ]
    }
   ],
   "source": [
    "def hcf(x,y):\n",
    "    Max = max(x,y)\n",
    "    Min = min(x,y)\n",
    "    while(Min):\n",
    "        Max , Min = Min , Max % Min\n",
    "    return Max\n",
    "\n",
    "x,y = [int(i) for i in input(\"Enter two nos. : \").split()]\n",
    "print(hcf(x,y))             "
   ]
  },
  {
   "cell_type": "markdown",
   "metadata": {},
   "source": [
    "#3 Write a Python Program to Convert Decimal to Binary, Octal and Hexadecimal?"
   ]
  },
  {
   "cell_type": "code",
   "execution_count": 36,
   "metadata": {},
   "outputs": [
    {
     "name": "stdin",
     "output_type": "stream",
     "text": [
      "Enter decimal :  81\n",
      "Enter conversion type (binary/octal/hexadecimal) :  hexadecimal\n"
     ]
    },
    {
     "name": "stdout",
     "output_type": "stream",
     "text": [
      "51\n"
     ]
    }
   ],
   "source": [
    "from functools import reduce \n",
    "\n",
    "def conv(number,conv_type):\n",
    "    if(conv_type == 'binary'):\n",
    "        k = 2\n",
    "    elif(conv_type == 'octal'):\n",
    "        k = 8\n",
    "    elif(conv_type == 'hexadecimal'):\n",
    "        k = 16\n",
    "    else:\n",
    "        return 'Invalid conversion type'\n",
    "    l = []\n",
    "    while(number != 0):\n",
    "        s = number % k\n",
    "        if(s > 9):\n",
    "            s = chr(65 + (s-10))\n",
    "        else:\n",
    "            s = str(s)\n",
    "        l.insert(0,s)\n",
    "        number = number // k\n",
    "    return reduce(lambda x,y:x+y,l)\n",
    "\n",
    "n = int(input(\"Enter decimal : \"))\n",
    "conv_type = input(\"Enter conversion type (binary/octal/hexadecimal) : \")\n",
    "print(conv(n,conv_type))"
   ]
  },
  {
   "cell_type": "markdown",
   "metadata": {},
   "source": [
    "#4 Write a Python Program To Find ASCII value of a character?"
   ]
  },
  {
   "cell_type": "code",
   "execution_count": 38,
   "metadata": {},
   "outputs": [
    {
     "name": "stdin",
     "output_type": "stream",
     "text": [
      " a\n"
     ]
    },
    {
     "name": "stdout",
     "output_type": "stream",
     "text": [
      "97\n"
     ]
    }
   ],
   "source": [
    "def ascii_code(c):\n",
    "    if(len(c) == 1):\n",
    "        return ord(c)\n",
    "    else:\n",
    "        return 'Invalid Input'\n",
    "\n",
    "n = input()\n",
    "print(ascii_code(n))"
   ]
  },
  {
   "cell_type": "markdown",
   "metadata": {},
   "source": [
    "#5 Write a Python Program to Make a Simple Calculator with 4 basic mathematical operations? "
   ]
  },
  {
   "cell_type": "code",
   "execution_count": null,
   "metadata": {},
   "outputs": [],
   "source": [
    "def calculator(x,y,operation):\n",
    "    if(operation == '+'):\n",
    "        return x + y\n",
    "    elif(operation == '-'):\n",
    "        return x - y\n",
    "    elif(operation == '*'):\n",
    "        return x * y\n",
    "    elif(operation == '/'):\n",
    "        return x / y\n",
    "    else:\n",
    "        return 'Invalid operation'\n",
    "    \n",
    "x = int(input(\"Enter x : \"))\n",
    "y = int(input(\"Enter y : \"))\n",
    "operat\n",
    "print(calculator(x,y,operation))"
   ]
  },
  {
   "cell_type": "code",
   "execution_count": null,
   "metadata": {},
   "outputs": [],
   "source": []
  },
  {
   "cell_type": "code",
   "execution_count": null,
   "metadata": {},
   "outputs": [],
   "source": []
  },
  {
   "cell_type": "code",
   "execution_count": null,
   "metadata": {},
   "outputs": [],
   "source": []
  }
 ],
 "metadata": {
  "kernelspec": {
   "display_name": "Python 3",
   "language": "python",
   "name": "python3"
  },
  "language_info": {
   "codemirror_mode": {
    "name": "ipython",
    "version": 3
   },
   "file_extension": ".py",
   "mimetype": "text/x-python",
   "name": "python",
   "nbconvert_exporter": "python",
   "pygments_lexer": "ipython3",
   "version": "3.7.6"
  }
 },
 "nbformat": 4,
 "nbformat_minor": 4
}
