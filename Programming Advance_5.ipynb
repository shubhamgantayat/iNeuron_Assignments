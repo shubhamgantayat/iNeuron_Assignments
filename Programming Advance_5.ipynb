{
 "cells": [
  {
   "cell_type": "markdown",
   "metadata": {},
   "source": [
    "#1 Create a function that takes a number n (integer greater than zero) as an\n",
    "argument, and returns 2 if n is odd and 8 if n is even.\n",
    "You can only use the following arithmetic operators: addition of numbers +,\n",
    "subtraction of numbers -, multiplication of number \\*, division of number /, and\n",
    "exponentiation \\**.\n",
    "You are not allowed to use any other methods in this challenge (i.e. no if\n",
    "statements, comparison operators, etc).\n",
    "Examples\n",
    "\n",
    "f(1) ➞ 2\n",
    "\n",
    "f(2) ➞ 8\n",
    "\n",
    "f(3) ➞ 2"
   ]
  },
  {
   "cell_type": "code",
   "execution_count": 7,
   "metadata": {},
   "outputs": [
    {
     "name": "stdout",
     "output_type": "stream",
     "text": [
      "8\n"
     ]
    }
   ],
   "source": [
    "class number_func:\n",
    "    \n",
    "    def f(self,n):\n",
    "        n = n + 1\n",
    "        div = n / 2\n",
    "        res1 = div - int(div)\n",
    "        res2 = res1 * 4 + 1\n",
    "        return int(2 ** res2)\n",
    "    \n",
    "try:\n",
    "    print(number_func().f(98))\n",
    "except Exception as e:\n",
    "    print(e)"
   ]
  },
  {
   "cell_type": "markdown",
   "metadata": {},
   "source": [
    "#2 Create a function that returns the majority vote in a list. A majority vote is\n",
    "an element that occurs &gt; N/2 times in a list (where N is the length of the list).\n",
    "Examples\n",
    "\n",
    "majority_vote([&quot;A&quot;, &quot;A&quot;, &quot;B&quot;]) ➞ &quot;A&quot;\n",
    "\n",
    "majority_vote([&quot;A&quot;, &quot;A&quot;, &quot;A&quot;, &quot;B&quot;, &quot;C&quot;, &quot;A&quot;]) ➞ &quot;A&quot;\n",
    "\n",
    "majority_vote([&quot;A&quot;, &quot;B&quot;, &quot;B&quot;, &quot;A&quot;, &quot;C&quot;, &quot;C&quot;]) ➞ None"
   ]
  },
  {
   "cell_type": "code",
   "execution_count": 20,
   "metadata": {},
   "outputs": [
    {
     "name": "stdout",
     "output_type": "stream",
     "text": [
      "A\n"
     ]
    }
   ],
   "source": [
    "class election:\n",
    "    \n",
    "    def majority_vote(self,l):\n",
    "        if(type(l) == list):\n",
    "            d = dict()\n",
    "            n = len(l)\n",
    "            for i in l:\n",
    "                if i not in d.keys():\n",
    "                    d[i] = 1\n",
    "                else:\n",
    "                    d[i] += 1\n",
    "            win = max(d.items(),key = lambda x:x[1])\n",
    "            if(win[1] > n/2):\n",
    "                return win[0]\n",
    "            else:\n",
    "                return None\n",
    "        else:\n",
    "            raise TypeError('list expected')\n",
    "            \n",
    "            \n",
    "try:\n",
    "    print(election().majority_vote([\"A\", \"A\", \"B\"]))\n",
    "except Exception as e:\n",
    "    print(e)"
   ]
  },
  {
   "cell_type": "markdown",
   "metadata": {},
   "source": [
    "#3 Create a function that takes a string txt and censors any word from a given\n",
    "list lst. The text removed must be replaced by the given character char.\n",
    "Examples\n",
    "\n",
    "censor_string(&quot;Today is a Wednesday!&quot;, [&quot;Today&quot;, &quot;a&quot;], &quot;-&quot;) ➞ &quot;----- is -\n",
    "Wednesday!&quot;\n",
    "\n",
    "censor_string(&quot;The cow jumped over the moon.&quot;, [&quot;cow&quot;, &quot;over&quot;], &quot;\\*&quot;), &quot;The \\***\n",
    "jumped \\**** the moon.&quot;)\n",
    "\n",
    "censor_string(&quot;Why did the chicken cross the road?&quot;, [&quot;Did&quot;, &quot;chicken&quot;,\n",
    "&quot;road&quot;], &quot;\\*&quot;) ➞ &quot;Why \\*** the \\******* cross the \\****?&quot;"
   ]
  },
  {
   "cell_type": "code",
   "execution_count": 21,
   "metadata": {},
   "outputs": [
    {
     "name": "stdout",
     "output_type": "stream",
     "text": [
      "----- is - Wednesday!\n"
     ]
    }
   ],
   "source": [
    "class string_func:\n",
    "    \n",
    "    def censor_string(self,string,words,char):\n",
    "        if(type(string) == str and type(words) == list and type(char) == str):\n",
    "            l = string.split(' ')\n",
    "            l1 = []\n",
    "            for i in l:\n",
    "                if i in words:\n",
    "                    l1.append(len(i) * char)\n",
    "                else:\n",
    "                    l1.append(i)\n",
    "            return ' '.join(l1)\n",
    "        else:\n",
    "            raise TypeError('Wrong arguments passed')\n",
    "            \n",
    "            \n",
    "try:\n",
    "    print(string_func().censor_string(\"Today is a Wednesday!\", [\"Today\", \"a\"], \"-\"))\n",
    "except Exception as e:\n",
    "    print(e)"
   ]
  },
  {
   "cell_type": "markdown",
   "metadata": {},
   "source": [
    "#4 In mathematics a Polydivisible Number (or magic number) is a number in a\n",
    "given number base with digits abcde... that has the following properties:\n",
    "- Its first digit a is not 0.\n",
    "- The number formed by its first two digits ab is a multiple of 2.\n",
    "- The number formed by its first three digits abc is a multiple of 3.\n",
    "- The number formed by its first four digits abcd is a multiple of 4.\n",
    "Create a function which takes an integer n and returns True if the given\n",
    "number is a Polydivisible Number and False otherwise.\n",
    "Examples\n",
    "\n",
    "is_polydivisible(1232) ➞ True\n",
    "\n",
    "1 / 1 = 1\n",
    "\n",
    "12 / 2 = 6\n",
    "\n",
    "123 / 3 = 41\n",
    "\n",
    "1232 / 4 = 308\n",
    "\n",
    "is_polydivisible(123220 ) ➞ False\n",
    "\n",
    "1 / 1 = 1\n",
    "\n",
    "12 / 2 = 6\n",
    "\n",
    "123 / 3 = 41\n",
    "\n",
    "1232 / 4 = 308\n",
    "\n",
    "12322 / 5 = 2464.4 Not a Whole Number\n",
    "\n",
    "123220 /6 = 220536.333... Not a Whole Number"
   ]
  },
  {
   "cell_type": "code",
   "execution_count": 32,
   "metadata": {},
   "outputs": [
    {
     "name": "stdout",
     "output_type": "stream",
     "text": [
      "True\n"
     ]
    }
   ],
   "source": [
    "class number_func:\n",
    "    \n",
    "    def is_polydivisible(self,n):\n",
    "        if(type(n) == int and n > 0):\n",
    "            k = n\n",
    "            num = 0\n",
    "            count = 0\n",
    "            while(k != 0):\n",
    "                k = k // 10\n",
    "                count += 1\n",
    "                \n",
    "            num = n\n",
    "            while(count != 0):\n",
    "                s = num / count\n",
    "                if(s - int(s) != 0):\n",
    "                    return False\n",
    "                count -= 1\n",
    "                num = num // 10\n",
    "            return True\n",
    "        else:\n",
    "            raise TypeError('int greater than zero expected')\n",
    "            \n",
    "            \n",
    "try:\n",
    "    print(number_func().is_polydivisible(1232))\n",
    "except Exception as e:\n",
    "    print(e)"
   ]
  },
  {
   "cell_type": "markdown",
   "metadata": {},
   "source": [
    "#5 Create a function that takes a list of numbers and returns the sum of all\n",
    "prime numbers in the list.\n",
    "Examples\n",
    "\n",
    "sum_primes([1, 2, 3, 4, 5, 6, 7, 8, 9, 10]) ➞ 17\n",
    "\n",
    "sum_primes([2, 3, 4, 11, 20, 50, 71]) ➞ 87\n",
    "\n",
    "sum_primes([]) ➞ None"
   ]
  },
  {
   "cell_type": "code",
   "execution_count": 35,
   "metadata": {},
   "outputs": [
    {
     "name": "stdout",
     "output_type": "stream",
     "text": [
      "17\n"
     ]
    }
   ],
   "source": [
    "class list_func:\n",
    "    \n",
    "    def sum_primes(self,l):\n",
    "        if(type(l) == list):\n",
    "            l1 = []\n",
    "            for i in l:\n",
    "                if(list_func().prime(i)):\n",
    "                    l1.append(i)\n",
    "            if(len(l1) == 0):\n",
    "                return None\n",
    "            else:\n",
    "                return sum(l1)\n",
    "        else:\n",
    "            raise TypeError('list expected')\n",
    "            \n",
    "            \n",
    "    def prime(self,n):\n",
    "        if(n == 1):\n",
    "            return False\n",
    "        for i in range(2,int(n ** 0.5) + 1):\n",
    "            if(n % i == 0):\n",
    "                return False\n",
    "        return True\n",
    "    \n",
    "\n",
    "try:\n",
    "    print(list_func().sum_primes([1, 2, 3, 4, 5, 6, 7, 8, 9, 10]))\n",
    "except Exception as e:\n",
    "    print(e)"
   ]
  },
  {
   "cell_type": "code",
   "execution_count": null,
   "metadata": {},
   "outputs": [],
   "source": []
  }
 ],
 "metadata": {
  "kernelspec": {
   "display_name": "Python 3",
   "language": "python",
   "name": "python3"
  },
  "language_info": {
   "codemirror_mode": {
    "name": "ipython",
    "version": 3
   },
   "file_extension": ".py",
   "mimetype": "text/x-python",
   "name": "python",
   "nbconvert_exporter": "python",
   "pygments_lexer": "ipython3",
   "version": "3.7.6"
  }
 },
 "nbformat": 4,
 "nbformat_minor": 4
}
