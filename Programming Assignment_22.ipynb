{
 "cells": [
  {
   "cell_type": "markdown",
   "metadata": {},
   "source": [
    "#1 Create a function that takes three parameters where:\n",
    " x is the start of the range (inclusive).\n",
    " y is the end of the range (inclusive).\n",
    " n is the divisor to be checked against.\n",
    "Return an ordered list with numbers in the range that are divisible by the third parameter n.\n",
    "Return an empty list if there are no numbers that are divisible by n.\n",
    "Examples\n",
    "\n",
    "list_operation(1, 10, 3) ➞ [3, 6, 9]\n",
    "\n",
    "list_operation(7, 9, 2) ➞ [8]\n",
    "\n",
    "list_operation(15, 20, 7) ➞ []"
   ]
  },
  {
   "cell_type": "code",
   "execution_count": 3,
   "metadata": {},
   "outputs": [
    {
     "name": "stdout",
     "output_type": "stream",
     "text": [
      "[3, 6, 9]\n"
     ]
    }
   ],
   "source": [
    "class list_func:\n",
    "    \n",
    "    def list_operation(self,start,end,divisor):\n",
    "        if(type(start) == int and type(end) == int and type(divisor) == int):\n",
    "            for i in range(start,end + 1):\n",
    "                if i % divisor == 0:\n",
    "                    break\n",
    "            return list(range(i,end+1,divisor))\n",
    "        else:\n",
    "            raise ValueError('int values should only be passed as arguments')\n",
    "    \n",
    "try:\n",
    "    print(list_func().list_operation(1,10,3))\n",
    "except ValueError as e:\n",
    "    print(e)\n",
    "except Exception as e:\n",
    "    print(e)"
   ]
  },
  {
   "cell_type": "markdown",
   "metadata": {},
   "source": [
    "#2 Create a function that takes in two lists and returns True if the second list follows the first list\n",
    "by one element, and False otherwise. In other words, determine if the second list is the first\n",
    "list shifted to the right by 1.\n",
    "Examples\n",
    "\n",
    "simon_says([1, 2], [5, 1]) ➞ True\n",
    "\n",
    "simon_says([1, 2], [5, 5]) ➞ False\n",
    "\n",
    "simon_says([1, 2, 3, 4, 5], [0, 1, 2, 3, 4]) ➞ True\n",
    "\n",
    "simon_says([1, 2, 3, 4, 5], [5, 5, 1, 2, 3]) ➞ False"
   ]
  },
  {
   "cell_type": "code",
   "execution_count": 8,
   "metadata": {},
   "outputs": [
    {
     "name": "stdout",
     "output_type": "stream",
     "text": [
      "True\n"
     ]
    }
   ],
   "source": [
    "class list_func:\n",
    "    \n",
    "    def simon_says(self,l1,l2):\n",
    "        if(type(l1) == list and type(l2) == list):\n",
    "            if(len(l1) != len(l2)):\n",
    "                return False\n",
    "            else:\n",
    "                for i in range(len(l1) - 1):\n",
    "                    if(l1[i] != l2[i+1]):\n",
    "                        return False\n",
    "                return True\n",
    "        else:\n",
    "            raise ValueError('List arguments should be passed only')\n",
    "            \n",
    "try:\n",
    "    print(list_func().simon_says([1, 2, 3, 4, 5], [0, 1, 2, 3, 4]))\n",
    "except ValueError as e:\n",
    "    print(e)\n",
    "except Exception as e:\n",
    "    print(e)"
   ]
  },
  {
   "cell_type": "markdown",
   "metadata": {},
   "source": [
    "#3 A group of friends have decided to start a secret society. The name will be the first letter of\n",
    "each of their names, sorted in alphabetical order.\n",
    "Create a function that takes in a list of names and returns the name of the secret society.\n",
    "\n",
    "Examples\n",
    "\n",
    "society_name([&quot;Adam&quot;, &quot;Sarah&quot;, &quot;Malcolm&quot;]) ➞ &quot;AMS&quot;\n",
    "\n",
    "society_name([&quot;Harry&quot;, &quot;Newt&quot;, &quot;Luna&quot;, &quot;Cho&quot;]) ➞ &quot;CHLN&quot;\n",
    "\n",
    "society_name([&quot;Phoebe&quot;, &quot;Chandler&quot;, &quot;Rachel&quot;, &quot;Ross&quot;, &quot;Monica&quot;, &quot;Joey&quot;])"
   ]
  },
  {
   "cell_type": "code",
   "execution_count": 17,
   "metadata": {},
   "outputs": [
    {
     "name": "stdout",
     "output_type": "stream",
     "text": [
      "CJMPRR\n"
     ]
    }
   ],
   "source": [
    "class InvalidElementError(Exception):\n",
    "    \n",
    "    def __init__(self,message):\n",
    "        super().__init__(message)\n",
    "\n",
    "class list_func:\n",
    "    \n",
    "    def society_name(self,l):\n",
    "        if(type(l) == list):\n",
    "            string = ''\n",
    "            for i in l:\n",
    "                if(type(i) != str):\n",
    "                    raise InvalidElementError('List containing str elements required.')\n",
    "                else:\n",
    "                    string += i[0]\n",
    "            return ''.join(sorted(string))\n",
    "        else:\n",
    "            raise ValueError('List is required')\n",
    "\n",
    "try:\n",
    "    print(list_func().society_name([\"Phoebe\", \"Chandler\", \"Rachel\", \"Ross\", \"Monica\", \"Joey\"]))\n",
    "except ValueError as e:\n",
    "    print(e)\n",
    "except InvalidElementError as e:\n",
    "    print(e)\n",
    "except Exception as e:\n",
    "    print(e)"
   ]
  },
  {
   "cell_type": "markdown",
   "metadata": {},
   "source": [
    "#4 An isogram is a word that has no duplicate letters. Create a function that takes a string and\n",
    "returns either True or False depending on whether or not it&#39;s an &quot;isogram&quot;.\n",
    "Examples\n",
    "\n",
    "is_isogram(&quot;Algorism&quot;) ➞ True\n",
    "\n",
    "is_isogram(&quot;PasSword&quot;) ➞ False\n",
    "\n",
    "is_isogram(&quot;Consecutive&quot;) ➞ False\n",
    "\n",
    "Notes\n",
    "\n",
    " Ignore letter case (should not be case sensitive).\n",
    "\n",
    " All test cases contain valid one word strings."
   ]
  },
  {
   "cell_type": "code",
   "execution_count": 20,
   "metadata": {},
   "outputs": [
    {
     "name": "stdout",
     "output_type": "stream",
     "text": [
      "False\n"
     ]
    }
   ],
   "source": [
    "class EmptyStringError(Exception):\n",
    "    \n",
    "    def __init__(self,message):\n",
    "        super().__init__(message)\n",
    "\n",
    "class string_func:\n",
    "    \n",
    "    def is_isogram(self,s):\n",
    "        if(type(s) == str):\n",
    "            if(s == ''):\n",
    "                raise EmptyStringError('Need atleast a one word string')\n",
    "            string = s.upper()\n",
    "            d = dict()\n",
    "            for i in string:\n",
    "                if i not in d.keys():\n",
    "                    d[i] = 1\n",
    "                else:\n",
    "                    return False\n",
    "            return True\n",
    "        else:\n",
    "            raise ValueError('String is required as argument')\n",
    "            \n",
    "            \n",
    "try:\n",
    "    print(string_func().is_isogram('PaSsword'))\n",
    "except ValueError as e:\n",
    "    print(e)\n",
    "except EmptyStringError as e:\n",
    "    print(e)\n",
    "except Exception as e:\n",
    "    print(e)"
   ]
  },
  {
   "cell_type": "markdown",
   "metadata": {},
   "source": [
    "#5 Create a function that takes a string and returns True or False, depending on whether the\n",
    "characters are in order or not.\n",
    "Examples\n",
    "\n",
    "is_in_order(&quot;abc&quot;) ➞ True\n",
    "\n",
    "is_in_order(&quot;edabit&quot;) ➞ False\n",
    "\n",
    "is_in_order(&quot;123&quot;) ➞ True\n",
    "\n",
    "is_in_order(&quot;xyzz&quot;) ➞ True"
   ]
  },
  {
   "cell_type": "code",
   "execution_count": 22,
   "metadata": {},
   "outputs": [
    {
     "name": "stdout",
     "output_type": "stream",
     "text": [
      "True\n"
     ]
    }
   ],
   "source": [
    "class string_func:\n",
    "    \n",
    "    def is_in_order(self,s):\n",
    "        if(type(s) == str):\n",
    "            for i in range(len(s) - 1):\n",
    "                if(s[i] > s[i+1]):\n",
    "                    return False\n",
    "            return True\n",
    "        else:\n",
    "            raise ValueError('str is required')\n",
    "            \n",
    "try:\n",
    "    print(string_func().is_in_order('xyzz'))\n",
    "except ValueError as e:\n",
    "    print(e)\n",
    "except Exception as e:\n",
    "    print(e)"
   ]
  },
  {
   "cell_type": "code",
   "execution_count": null,
   "metadata": {},
   "outputs": [],
   "source": []
  }
 ],
 "metadata": {
  "kernelspec": {
   "display_name": "Python 3",
   "language": "python",
   "name": "python3"
  },
  "language_info": {
   "codemirror_mode": {
    "name": "ipython",
    "version": 3
   },
   "file_extension": ".py",
   "mimetype": "text/x-python",
   "name": "python",
   "nbconvert_exporter": "python",
   "pygments_lexer": "ipython3",
   "version": "3.7.6"
  }
 },
 "nbformat": 4,
 "nbformat_minor": 4
}
