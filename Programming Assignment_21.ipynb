{
 "cells": [
  {
   "cell_type": "markdown",
   "metadata": {},
   "source": [
    "#1 Write a function that takes a list and a number as arguments. Add the number to the end of\n",
    "the list, then remove the first element of the list. The function should then return the updated\n",
    "list.\n",
    "Examples\n",
    "\n",
    "next_in_line([5, 6, 7, 8, 9], 1) ➞ [6, 7, 8, 9, 1]\n",
    "\n",
    "next_in_line([7, 6, 3, 23, 17], 10) ➞ [6, 3, 23, 17, 10]\n",
    "\n",
    "next_in_line([1, 10, 20, 42 ], 6) ➞ [10, 20, 42, 6]\n",
    "\n",
    "next_in_line([], 6) ➞ &quot;No list has been selected&quot;"
   ]
  },
  {
   "cell_type": "code",
   "execution_count": 19,
   "metadata": {},
   "outputs": [
    {
     "name": "stdout",
     "output_type": "stream",
     "text": [
      "[6, 7, 8, 9, 10]\n"
     ]
    }
   ],
   "source": [
    "class list_func:\n",
    "    \n",
    "    def __init__(self,l):\n",
    "        if(type(l) == list):\n",
    "            self.l = l\n",
    "        else:\n",
    "            raise ValueError('Expected List')\n",
    "        \n",
    "    def next_in_line(self,n):\n",
    "        if(len(self.l) == 0):\n",
    "            return 'No list has been selected'\n",
    "        else:\n",
    "            l = self.l\n",
    "            l.pop(0)\n",
    "            l.append(n)\n",
    "            return l\n",
    "            \n",
    "try:    \n",
    "    obj = list_func([5,6,7,8,9])\n",
    "    print(obj.next_in_line(10))\n",
    "except ValueError as e:\n",
    "    print(e)\n",
    "except Exception as e:\n",
    "    print(e)"
   ]
  },
  {
   "cell_type": "markdown",
   "metadata": {},
   "source": [
    "#2 Create the function that takes a list of dictionaries and returns the sum of people&#39;s budgets.\n",
    "Examples\n",
    "\n",
    "get_budgets([\n",
    "{ &quot;name&quot;: &quot;John&quot;, &quot;age&quot;: 21, &quot;budget&quot;: 23000 },\n",
    "{ &quot;name&quot;: &quot;Steve&quot;, &quot;age&quot;: 32, &quot;budget&quot;: 40000 },\n",
    "{ &quot;name&quot;: &quot;Martin&quot;, &quot;age&quot;: 16, &quot;budget&quot;: 2700 }\n",
    "]) ➞ 65700\n",
    "\n",
    "get_budgets([\n",
    "{ &quot;name&quot;: &quot;John&quot;, &quot;age&quot;: 21, &quot;budget&quot;: 29000 },\n",
    "{ &quot;name&quot;: &quot;Steve&quot;, &quot;age&quot;: 32, &quot;budget&quot;: 32000 },\n",
    "{ &quot;name&quot;: &quot;Martin&quot;, &quot;age&quot;: 16, &quot;budget&quot;: 1600 }\n",
    "]) ➞ 62600"
   ]
  },
  {
   "cell_type": "code",
   "execution_count": 20,
   "metadata": {},
   "outputs": [
    {
     "name": "stdout",
     "output_type": "stream",
     "text": [
      "65700\n"
     ]
    }
   ],
   "source": [
    "class InavlidInfoException(Exception):\n",
    "    \n",
    "    def __init__(self,s):\n",
    "        super().__init__(s)\n",
    "\n",
    "class people:\n",
    "    \n",
    "    def __init__(self,l):\n",
    "        for i in l:\n",
    "            if(type(i) != dict):\n",
    "                raise ValueError('A list of dictionaries need to be passed')\n",
    "            if 'budget' not in i.keys():\n",
    "                raise InavlidInfoException('Please pass a valid dictionary')\n",
    "        self.l = l\n",
    "    \n",
    "    def getBudgets(self):\n",
    "        budget = 0\n",
    "        for i in self.l:\n",
    "            budget += i['budget']\n",
    "        return budget\n",
    "\n",
    "    \n",
    "try:    \n",
    "    l = [ { \"name\": \"John\", \"age\": 21, \"budget\": 23000 }, \n",
    "         { \"name\": \"Steve\", \"age\": 32, \"budget\": 40000 }, \n",
    "         { \"name\": \"Martin\", \"age\": 16, \"budget\": 2700 } ]\n",
    "    obj = people(l)\n",
    "    print(obj.getBudgets())   \n",
    "except ValueError as e:\n",
    "    print(e)\n",
    "except InavlidInfoException as e:\n",
    "    print(e)\n",
    "except Exception as e:\n",
    "    print(e)"
   ]
  },
  {
   "cell_type": "markdown",
   "metadata": {},
   "source": [
    "#3 Create a function that takes a string and returns a string with its letters in alphabetical order.\n",
    "Examples\n",
    "\n",
    "alphabet_soup(&quot;hello&quot;) ➞ &quot;ehllo&quot;\n",
    "\n",
    "alphabet_soup(&quot;edabit&quot;) ➞ &quot;abdeit&quot;\n",
    "\n",
    "alphabet_soup(&quot;hacker&quot;) ➞ &quot;acehkr&quot;\n",
    "\n",
    "alphabet_soup(&quot;geek&quot;) ➞ &quot;eegk&quot;\n",
    "\n",
    "alphabet_soup(&quot;javascript&quot;) ➞ &quot;aacijprstv&quot;"
   ]
  },
  {
   "cell_type": "code",
   "execution_count": 23,
   "metadata": {},
   "outputs": [
    {
     "name": "stdout",
     "output_type": "stream",
     "text": [
      "ehllo\n"
     ]
    }
   ],
   "source": [
    "class string_func:\n",
    "    \n",
    "    def __init__(self,s):\n",
    "        if(type(s) != str):\n",
    "            raise ValueError('str expected got' + str(type(s)) + ' instead')\n",
    "        else:\n",
    "            self.s = s\n",
    "            \n",
    "    def alphabet_soup(self):\n",
    "        s = self.s\n",
    "        return ''.join(sorted(s))\n",
    "            \n",
    "try:\n",
    "    obj = string_func('hello')\n",
    "    print(obj.alphabet_soup())\n",
    "except ValueError as e:\n",
    "    print(e)\n",
    "except Exception as e:\n",
    "    print(e)"
   ]
  },
  {
   "cell_type": "markdown",
   "metadata": {},
   "source": [
    "#4 Suppose that you invest $10,000 for 10 years at an interest rate of 6% compounded monthly.\n",
    "What will be the value of your investment at the end of the 10 year period?\n",
    "Create a function that accepts the principal p, the term in years t, the interest rate r, and the\n",
    "number of compounding periods per year n. The function returns the value at the end of term\n",
    "rounded to the nearest cent.\n",
    "For the example above:\n",
    "\n",
    "compound_interest(10000, 10, 0.06, 12) ➞ 18193.97"
   ]
  },
  {
   "cell_type": "code",
   "execution_count": 11,
   "metadata": {},
   "outputs": [
    {
     "name": "stdout",
     "output_type": "stream",
     "text": [
      "18193.97\n"
     ]
    }
   ],
   "source": [
    "class InvalidInput(Exception):\n",
    "    \n",
    "    def __init__(self,message):\n",
    "        super().__init__(message)\n",
    "\n",
    "class account:\n",
    "    \n",
    "    def compound_interest(self,p,t,r,n):\n",
    "        if(p > 0 and t > 0 and r > 0 and n > 0):\n",
    "            rate  = (1 + (r/n)) ** n - 1\n",
    "            amount = p * ((1 + rate) ** t)\n",
    "            return round(amount,2)\n",
    "        else:\n",
    "            raise InvalidInput('All values should be greater than zero')\n",
    "\n",
    "            \n",
    "try:\n",
    "    print(account().compound_interest(10000,10,0.06,12))\n",
    "except InvalidInput as e:\n",
    "    print(e)\n",
    "except Exception as e:\n",
    "    print(e)"
   ]
  },
  {
   "cell_type": "markdown",
   "metadata": {},
   "source": [
    "#5 Write a function that takes a list of elements and returns only the integers.\n",
    "Examples\n",
    "\n",
    "return_only_integer([9, 2, &quot;space&quot;, &quot;car&quot;, &quot;lion&quot;, 16]) ➞ [9, 2, 16]\n",
    "\n",
    "return_only_integer([&quot;hello&quot;, 81, &quot;basketball&quot;, 123, &quot;fox&quot;]) ➞ [81, 123]\n",
    "\n",
    "return_only_integer([10, &quot;121&quot;, 56, 20, &quot;car&quot;, 3, &quot;lion&quot;]) ➞ [10, 56, 20,\n",
    "3]\n",
    "\n",
    "return_only_integer([&quot;String&quot;, True, 3.3, 1]) ➞ [1]"
   ]
  },
  {
   "cell_type": "code",
   "execution_count": 12,
   "metadata": {},
   "outputs": [
    {
     "name": "stdout",
     "output_type": "stream",
     "text": [
      "[9, 2, 16]\n"
     ]
    }
   ],
   "source": [
    "class InvalidInput(Exception):\n",
    "    \n",
    "    def __init__(self,message):\n",
    "        super().__init__(message)\n",
    "        \n",
    "class list_func:\n",
    "    \n",
    "    def __init__(self,l):\n",
    "        if(type(l) == list):\n",
    "            self.l = l\n",
    "        else:\n",
    "            raise InvalidInput('List is required')\n",
    "    \n",
    "    def return_only_integer(self):\n",
    "        l = []\n",
    "        for i in self.l:\n",
    "            if(type(i) == int):\n",
    "                l.append(i)\n",
    "        return l\n",
    "    \n",
    "print(list_func([9, 2, \"space\", \"car\", \"lion\", 16]).return_only_integer())"
   ]
  },
  {
   "cell_type": "code",
   "execution_count": null,
   "metadata": {},
   "outputs": [],
   "source": []
  }
 ],
 "metadata": {
  "kernelspec": {
   "display_name": "Python 3",
   "language": "python",
   "name": "python3"
  },
  "language_info": {
   "codemirror_mode": {
    "name": "ipython",
    "version": 3
   },
   "file_extension": ".py",
   "mimetype": "text/x-python",
   "name": "python",
   "nbconvert_exporter": "python",
   "pygments_lexer": "ipython3",
   "version": "3.7.6"
  }
 },
 "nbformat": 4,
 "nbformat_minor": 4
}
