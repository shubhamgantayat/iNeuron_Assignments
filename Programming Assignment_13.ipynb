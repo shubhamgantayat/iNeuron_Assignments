{
 "cells": [
  {
   "cell_type": "markdown",
   "metadata": {},
   "source": [
    "#1 Write a program that calculates and prints the value according to the given formula:\n",
    "Q = Square root of [(2 * C * D)/H].\n",
    "Following are the fixed values of C and H:\n",
    "C is 50. H is 30.\n",
    "D is the variable whose values should be input to your program in a comma-separated\n",
    "sequence.\n",
    "Example\n",
    "Let us assume the following comma separated input sequence is given to the program:\n",
    "100,150,180\n",
    "The output of the program should be:\n",
    "18,22,24"
   ]
  },
  {
   "cell_type": "code",
   "execution_count": 8,
   "metadata": {},
   "outputs": [
    {
     "name": "stdout",
     "output_type": "stream",
     "text": [
      "18,22,24\n"
     ]
    }
   ],
   "source": [
    "def calculate(D,C = 50,H = 30):\n",
    "    return ','.join(list(map(lambda x:str(int((((2 * C * int(x)) / H)**0.5))),D.split(','))))\n",
    "\n",
    "n = '100,150,180'\n",
    "print(calculate(n))"
   ]
  },
  {
   "cell_type": "markdown",
   "metadata": {},
   "source": [
    "#2 Write a program which takes 2 digits, X,Y as input and generates a 2-dimensional array. The\n",
    "element value in the i-th row and j-th column of the array should be i*j.\n",
    "Note: i=0,1.., X-1; j=0,1,¡Y-1.\n",
    "Example\n",
    "Suppose the following inputs are given to the program:\n",
    "3,5\n",
    "Then, the output of the program should be:\n",
    "[[0, 0, 0, 0, 0], [0, 1, 2, 3, 4], [0, 2, 4, 6, 8]]"
   ]
  },
  {
   "cell_type": "code",
   "execution_count": 9,
   "metadata": {},
   "outputs": [
    {
     "name": "stdout",
     "output_type": "stream",
     "text": [
      "[[0, 0, 0, 0, 0], [0, 1, 2, 3, 4], [0, 2, 4, 6, 8]]\n"
     ]
    }
   ],
   "source": [
    "def mat_gen(X,Y):\n",
    "    l = []\n",
    "    for i in range(X):\n",
    "        l.append(list(map(lambda x:x*i,range(Y))))\n",
    "    return l\n",
    "\n",
    "print(mat_gen(3,5))"
   ]
  },
  {
   "cell_type": "markdown",
   "metadata": {},
   "source": [
    "#3 Write a program that accepts a comma separated sequence of words as input and prints the\n",
    "words in a comma-separated sequence after sorting them alphabetically.\n",
    "Suppose the following input is supplied to the program:\n",
    "without,hello,bag,world\n",
    "Then, the output should be:\n",
    "bag,hello,without,world"
   ]
  },
  {
   "cell_type": "code",
   "execution_count": 18,
   "metadata": {},
   "outputs": [
    {
     "name": "stdout",
     "output_type": "stream",
     "text": [
      "bag,hello,without,world\n"
     ]
    }
   ],
   "source": [
    "def sort(n):\n",
    "    return ','.join(sorted(n.split(',')))\n",
    "\n",
    "n = 'without,hello,bag,world'\n",
    "print(sort(n))"
   ]
  },
  {
   "cell_type": "markdown",
   "metadata": {},
   "source": [
    "#4 Write a program that accepts a sequence of whitespace separated words as input and prints\n",
    "the words after removing all duplicate words and sorting them alphanumerically.\n",
    "Suppose the following input is supplied to the program:\n",
    "hello world and practice makes perfect and hello world again\n",
    "Then, the output should be:\n",
    "again and hello makes perfect practice world"
   ]
  },
  {
   "cell_type": "code",
   "execution_count": 20,
   "metadata": {},
   "outputs": [
    {
     "name": "stdout",
     "output_type": "stream",
     "text": [
      "again and hello makes perfect practice world\n"
     ]
    }
   ],
   "source": [
    "def remove_dup_and_sort(n):\n",
    "    return ' '.join(sorted(list(set(n.split(' ')))))\n",
    "\n",
    "n = 'hello world and practice makes perfect and hello world again'\n",
    "print(remove_dup_and_sort(n))"
   ]
  },
  {
   "cell_type": "markdown",
   "metadata": {},
   "source": [
    "#5 Write a program that accepts a sentence and calculate the number of letters and digits.\n",
    "Suppose the following input is supplied to the program:\n",
    "hello world! 123\n",
    "Then, the output should be:\n",
    "LETTERS 10\n",
    "DIGITS 3"
   ]
  },
  {
   "cell_type": "code",
   "execution_count": 23,
   "metadata": {},
   "outputs": [
    {
     "name": "stdout",
     "output_type": "stream",
     "text": [
      "{'LETTERS': 10, 'DIGITS': 3}\n"
     ]
    }
   ],
   "source": [
    "def letters_digits(n):\n",
    "    d = dict()\n",
    "    d['LETTERS'] = 0\n",
    "    d['DIGITS'] = 0\n",
    "    for i in n:\n",
    "        if i.isalpha():\n",
    "            d['LETTERS'] += 1\n",
    "        elif i.isdigit():\n",
    "            d['DIGITS'] += 1\n",
    "    return d\n",
    "\n",
    "n = 'hello world! 123'\n",
    "print(letters_digits(n))"
   ]
  },
  {
   "cell_type": "markdown",
   "metadata": {},
   "source": [
    "#6 A website requires the users to input username and password to register. Write a program to\n",
    "check the validity of password input by users.\n",
    "Following are the criteria for checking the password:\n",
    "1. At least 1 letter between [a-z]\n",
    "2. At least 1 number between [0-9]\n",
    "1. At least 1 letter between [A-Z]\n",
    "3. At least 1 character from [$#@]\n",
    "4. Minimum length of transaction password: 6\n",
    "5. Maximum length of transaction password: 12\n",
    "Your program should accept a sequence of comma separated passwords and will check them\n",
    "according to the above criteria. Passwords that match the criteria are to be printed, each\n",
    "separated by a comma.\n",
    "Example\n",
    "If the following passwords are given as input to the program:\n",
    "ABd1234@1,a F1#,2w3E*,2We3345\n",
    "Then, the output of the program should be:\n",
    "ABd1234@1"
   ]
  },
  {
   "cell_type": "code",
   "execution_count": 34,
   "metadata": {},
   "outputs": [
    {
     "name": "stdout",
     "output_type": "stream",
     "text": [
      "['ABd1234@1']\n"
     ]
    }
   ],
   "source": [
    "def check_pass(n):\n",
    "    if(6 <= len(n) <= 12):\n",
    "        d = dict()\n",
    "        d['lower_alpha'] = False\n",
    "        d['upper_alpha'] = False\n",
    "        d['number'] = False\n",
    "        d['sp_char'] = False\n",
    "        count = 0\n",
    "        for i in n:\n",
    "            if(65 <= ord(i) <= 95 and d['upper_alpha'] == False):\n",
    "                count += 1\n",
    "                d['upper_alpha'] = True\n",
    "            elif(97 <= ord(i) <= 122 and d['lower_alpha'] == False):\n",
    "                count += 1\n",
    "                d['lower_alpha'] = True\n",
    "            elif(i.isdigit() and d['number'] == False):\n",
    "                count += 1\n",
    "                d['number'] = True\n",
    "            elif(i in list('$#@') and d['sp_char'] == False):\n",
    "                count += 1\n",
    "                d['sp_char'] = True\n",
    "            if(count == 4):\n",
    "                return True\n",
    "    \n",
    "n = 'ABd1234@1,a F1#,2w3E*,2We3345'\n",
    "print(list(filter(lambda x:check_pass(x),n.split(','))))"
   ]
  },
  {
   "cell_type": "code",
   "execution_count": 31,
   "metadata": {},
   "outputs": [],
   "source": []
  },
  {
   "cell_type": "code",
   "execution_count": null,
   "metadata": {},
   "outputs": [],
   "source": []
  },
  {
   "cell_type": "code",
   "execution_count": null,
   "metadata": {},
   "outputs": [],
   "source": []
  }
 ],
 "metadata": {
  "kernelspec": {
   "display_name": "Python 3",
   "language": "python",
   "name": "python3"
  },
  "language_info": {
   "codemirror_mode": {
    "name": "ipython",
    "version": 3
   },
   "file_extension": ".py",
   "mimetype": "text/x-python",
   "name": "python",
   "nbconvert_exporter": "python",
   "pygments_lexer": "ipython3",
   "version": "3.7.6"
  }
 },
 "nbformat": 4,
 "nbformat_minor": 4
}
