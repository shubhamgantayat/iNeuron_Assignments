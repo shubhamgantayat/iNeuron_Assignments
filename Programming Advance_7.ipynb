{
 "cells": [
  {
   "cell_type": "markdown",
   "metadata": {},
   "source": [
    "#1 Write a function that counts how many concentric layers a rug.\n",
    "Examples\n",
    "\n",
    "count_layers([\n",
    "\n",
    "&quot;AAAA&quot;,\n",
    "\n",
    "&quot;ABBA&quot;,\n",
    "\n",
    "&quot;AAAA&quot;\n",
    "]) ➞ 2\n",
    "\n",
    "count_layers([\n",
    "\n",
    "&quot;AAAAAAAAA&quot;,\n",
    "\n",
    "&quot;ABBBBBBBA&quot;,\n",
    "\n",
    "&quot;ABBAAABBA&quot;,\n",
    "\n",
    "&quot;ABBBBBBBA&quot;,\n",
    "\n",
    "&quot;AAAAAAAAA&quot;\n",
    "]) ➞ 3\n",
    "\n",
    "count_layers([\n",
    "\n",
    "&quot;AAAAAAAAAAA&quot;,\n",
    "\n",
    "&quot;AABBBBBBBAA&quot;,\n",
    "\n",
    "&quot;AABCCCCCBAA&quot;,\n",
    "\n",
    "&quot;AABCAAACBAA&quot;,\n",
    "\n",
    "&quot;AABCADACBAA&quot;,\n",
    "\n",
    "&quot;AABCAAACBAA&quot;,\n",
    "\n",
    "&quot;AABCCCCCBAA&quot;,\n",
    "\n",
    "&quot;AABBBBBBBAA&quot;,\n",
    "\n",
    "&quot;AAAAAAAAAAA&quot;\n",
    "]) ➞ 5"
   ]
  },
  {
   "cell_type": "code",
   "execution_count": 14,
   "metadata": {},
   "outputs": [
    {
     "name": "stdout",
     "output_type": "stream",
     "text": [
      "3\n"
     ]
    }
   ],
   "source": [
    "# The following program has been implemented by using backtracking.\n",
    "\n",
    "class pattern:\n",
    "    \n",
    "    def count_layers(self,l):\n",
    "        if(type(l) == list):\n",
    "            return self.count(l,0,len(l) - 1,0,len(l[0]) - 1)\n",
    "        else:\n",
    "            raise TypeError('list expected')\n",
    "            \n",
    "    def count(self,l,row_s,row_e,col_s,col_e):\n",
    "        if(row_s > row_e or col_s > col_e):\n",
    "            return 0\n",
    "        k = l[row_s][col_s]\n",
    "        flag = 1\n",
    "        for i in range(col_s,col_e + 1):\n",
    "            if(k != l[row_s][i]):\n",
    "                flag = 0\n",
    "                break\n",
    "            if(k != l[row_e][i]):\n",
    "                flag = 0\n",
    "                break\n",
    "        for i in range(row_s,row_e + 1):\n",
    "            if(k != l[i][col_s]):\n",
    "                flag = 0\n",
    "                break\n",
    "            if(k != l[i][col_e]):\n",
    "                flag = 0\n",
    "                break\n",
    "        if flag == 1:\n",
    "            return 1 + self.count(l,row_s + 1,row_e - 1,col_s + 1,col_e - 1)\n",
    "        else:\n",
    "            return max(self.count(l,row_s + 1,row_e - 1,col_s + 1,col_e - 1) , self.count(l,row_s + 1,row_e - 1,col_s,col_e) , self.count(l,row_s,row_e,col_s + 1,col_e - 1))\n",
    "        \n",
    " \n",
    "\n",
    "\n",
    "  \n",
    "try:\n",
    "    print(pattern().count_layers([\"AAAAAAAAA\",\"ABBBBBBBA\",\"ABBAAABBA\",\"ABBBBBBBA\",\"AAAAAAAAA\" ]))\n",
    "except Exception as e:\n",
    "    print(e)"
   ]
  },
  {
   "cell_type": "markdown",
   "metadata": {},
   "source": [
    "#2 There are many different styles of music and many albums exhibit multiple\n",
    "styles. Create a function that takes a list of musical styles from albums and\n",
    "returns how many styles are unique.\n",
    "Examples\n",
    "\n",
    "unique_styles([\n",
    "&quot;Dub,Dancehall&quot;,\n",
    "&quot;Industrial,Heavy Metal&quot;,\n",
    "&quot;Techno,Dubstep&quot;,\n",
    "&quot;Synth-pop,Euro-Disco&quot;,\n",
    "&quot;Industrial,Techno,Minimal&quot;\n",
    "]) ➞ 9\n",
    "\n",
    "unique_styles([\n",
    "&quot;Soul&quot;,\n",
    "&quot;House,Folk&quot;,\n",
    "&quot;Trance,Downtempo,Big Beat,House&quot;,\n",
    "&quot;Deep House&quot;,\n",
    "&quot;Soul&quot;\n",
    "]) ➞ 7"
   ]
  },
  {
   "cell_type": "code",
   "execution_count": 19,
   "metadata": {},
   "outputs": [
    {
     "name": "stdout",
     "output_type": "stream",
     "text": [
      "9\n"
     ]
    }
   ],
   "source": [
    "from functools import reduce\n",
    "\n",
    "class list_func:\n",
    "    \n",
    "    def unique_styles(self,l):\n",
    "        if(type(l) == list):\n",
    "            l = [i.split(',') for i in l]\n",
    "            return len(set(reduce(lambda x,y:x+y,l)))\n",
    "        else:\n",
    "            raise TypeError('list expected')\n",
    "    \n",
    "try:\n",
    "    print(list_func().unique_styles([ \"Dub,Dancehall\", \"Industrial,Heavy Metal\", \"Techno,Dubstep\", \"Synth-pop,Euro-Disco\", \"Industrial,Techno,Minimal\" ]))\n",
    "except Exception as e:\n",
    "    print(e)"
   ]
  },
  {
   "cell_type": "markdown",
   "metadata": {},
   "source": [
    "#3 Create a function that finds a target number in a list of prime numbers.\n",
    "Implement a binary search algorithm in your function. The target number will\n",
    "be from 2 through 97. If the target is prime then return &quot;yes&quot; else return &quot;no&quot;.\n",
    "Examples\n",
    "\n",
    "primes = [2, 3, 5, 7, 11, 13, 17, 19, 23, 29, 31, 37, 41, 43, 47, 53, 59, 61, 67,\n",
    "71, 73, 79, 83, 89, 97]\n",
    "\n",
    "is_prime(primes, 3) ➞ &quot;yes&quot;\n",
    "\n",
    "is_prime(primes, 4) ➞ &quot;no&quot;\n",
    "\n",
    "is_prime(primes, 67) ➞ &quot;yes&quot;\n",
    "\n",
    "is_prime(primes, 36) ➞ &quot;no&quot;"
   ]
  },
  {
   "cell_type": "code",
   "execution_count": 21,
   "metadata": {},
   "outputs": [
    {
     "name": "stdout",
     "output_type": "stream",
     "text": [
      "True\n"
     ]
    }
   ],
   "source": [
    "class prime:\n",
    "    \n",
    "    primes = [2, 3, 5, 7, 11, 13, 17, 19, 23, 29, 31, 37, 41, 43, 47, 53, 59, 61, 67, 71, 73, 79, 83, 89, 97]\n",
    "    \n",
    "    def is_prime(self,n):\n",
    "        if(type(n) == int and 2 <= n <= 97):\n",
    "            return self.binary_search(n)\n",
    "        else:\n",
    "            raise TypeError('int expected between 2 and 97')\n",
    "            \n",
    "    def binary_search(self,n):\n",
    "        beg = 0\n",
    "        last = len(self.primes) - 1\n",
    "        while(beg < last):\n",
    "            mid = (beg + last) // 2\n",
    "            if(self.primes[mid] == n):\n",
    "                return True\n",
    "            elif(self.primes[mid] > n):\n",
    "                last = mid - 1\n",
    "            else:\n",
    "                beg = mid + 1\n",
    "        return False\n",
    "    \n",
    "    \n",
    "try:\n",
    "    print(prime().is_prime(67))\n",
    "except Exception as e:\n",
    "    print(e)"
   ]
  },
  {
   "cell_type": "markdown",
   "metadata": {},
   "source": [
    "#4 Create a function that takes in n, a, b and returns the number of positive\n",
    "values raised to the nth power that lie in the range [a, b], inclusive.\n",
    "Examples\n",
    "\n",
    "power_ranger(2, 49, 65) ➞ 2\n",
    "\n",
    "2 squares (n^2) lie between 49 and 65, 49 (7^2) and 64 (8^2)\n",
    "\n",
    "power_ranger(3, 1, 27) ➞ 3\n",
    "\n",
    "3 cubes (n^3) lie between 1 and 27, 1 (1^3), 8 (2^3) and 27 (3^3)\n",
    "\n",
    "power_ranger(10, 1, 5) ➞ 1\n",
    "\n",
    "1 value raised to the 10th power lies between 1 and 5, 1 (1^10)\n",
    "\n",
    "power_ranger(5, 31, 33) ➞ 1\n",
    "\n",
    "power_ranger(4, 250, 1300) ➞ 3"
   ]
  },
  {
   "cell_type": "code",
   "execution_count": 31,
   "metadata": {},
   "outputs": [
    {
     "data": {
      "text/plain": [
       "3"
      ]
     },
     "execution_count": 31,
     "metadata": {},
     "output_type": "execute_result"
    }
   ],
   "source": [
    "def power_ranger(n,a,b):\n",
    "    return len(range(int(a ** (n ** -1)),int(b ** (n ** -1)) + 1))\n",
    "\n",
    "power_ranger(3,1,27)"
   ]
  },
  {
   "cell_type": "markdown",
   "metadata": {},
   "source": [
    "#5 Given a number, return the difference between the maximum and minimum\n",
    "numbers that can be formed when the digits are rearranged.\n",
    "Examples\n",
    "\n",
    "rearranged_difference(972882) ➞ 760833\n",
    "\n",
    "988722 - 227889 = 760833\n",
    "\n",
    "rearranged_difference(3320707) ➞ 7709823\n",
    "\n",
    "7733200 - 23377 = 7709823\n",
    "\n",
    "rearranged_difference(90010) ➞ 90981\n",
    "\n",
    "91000 - 19 = 90981"
   ]
  },
  {
   "cell_type": "code",
   "execution_count": 34,
   "metadata": {},
   "outputs": [
    {
     "name": "stdout",
     "output_type": "stream",
     "text": [
      "7709823\n"
     ]
    }
   ],
   "source": [
    "from functools import reduce\n",
    "\n",
    "class number_func:\n",
    "    \n",
    "    def rearranged_difference(self,n):\n",
    "        if(type(n) == int and n > 0):\n",
    "            k = n\n",
    "            l = []\n",
    "            while(k != 0):\n",
    "                l.append(k % 10)\n",
    "                k = k // 10\n",
    "            l = sorted(l,reverse=True)\n",
    "            max_n = reduce(lambda x,y:x*10 + y,l)\n",
    "            return max_n - self.reverse(max_n)\n",
    "        else:\n",
    "            raise TypeError('int expected')\n",
    "            \n",
    "            \n",
    "    def reverse(self,n):\n",
    "        k = n\n",
    "        rev = 0\n",
    "        while(k != 0):\n",
    "            d = k % 10\n",
    "            rev = rev*10 + d\n",
    "            k = k // 10\n",
    "        return rev\n",
    "    \n",
    "    \n",
    "try:\n",
    "    print(number_func().rearranged_difference(3320707))\n",
    "except Exception as e:\n",
    "    print(e)"
   ]
  },
  {
   "cell_type": "code",
   "execution_count": null,
   "metadata": {},
   "outputs": [],
   "source": []
  }
 ],
 "metadata": {
  "kernelspec": {
   "display_name": "Python 3",
   "language": "python",
   "name": "python3"
  },
  "language_info": {
   "codemirror_mode": {
    "name": "ipython",
    "version": 3
   },
   "file_extension": ".py",
   "mimetype": "text/x-python",
   "name": "python",
   "nbconvert_exporter": "python",
   "pygments_lexer": "ipython3",
   "version": "3.7.6"
  }
 },
 "nbformat": 4,
 "nbformat_minor": 4
}
