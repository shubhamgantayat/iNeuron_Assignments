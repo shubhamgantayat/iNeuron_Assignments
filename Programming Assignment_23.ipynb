{
 "cells": [
  {
   "cell_type": "markdown",
   "metadata": {},
   "source": [
    "#1 Create a function that takes a number as an argument and returns True or False depending\n",
    "on whether the number is symmetrical or not. A number is symmetrical when it is the same as\n",
    "its reverse.\n",
    "Examples\n",
    "\n",
    "is_symmetrical(7227) ➞ True\n",
    "\n",
    "is_symmetrical(12567) ➞ False\n",
    "\n",
    "is_symmetrical(44444444) ➞ True\n",
    "\n",
    "is_symmetrical(9939) ➞ False\n",
    "\n",
    "is_symmetrical(1112111) ➞ True"
   ]
  },
  {
   "cell_type": "code",
   "execution_count": 1,
   "metadata": {},
   "outputs": [
    {
     "name": "stdout",
     "output_type": "stream",
     "text": [
      "True\n"
     ]
    }
   ],
   "source": [
    "class number_func:\n",
    "    \n",
    "    def is_symmetrical(self,n):\n",
    "        if(type(n) != int):\n",
    "            raise ValueError('int type required')\n",
    "        rev = 0\n",
    "        k = n\n",
    "        while(k != 0):\n",
    "            d = k % 10\n",
    "            rev = rev*10 + d\n",
    "            k = k // 10\n",
    "        if(rev == n):\n",
    "            return True\n",
    "        else:\n",
    "            return False\n",
    "        \n",
    "try:\n",
    "    print(number_func().is_symmetrical(1112111))\n",
    "except ValueError as e:\n",
    "    print(e)\n",
    "except Exception as e:\n",
    "    print(e)"
   ]
  },
  {
   "cell_type": "markdown",
   "metadata": {},
   "source": [
    "#2 Given a string of numbers separated by a comma and space, return the product of the\n",
    "numbers.\n",
    "Examples\n",
    "\n",
    "multiply_nums(&quot;2, 3&quot;) ➞ 6\n",
    "\n",
    "multiply_nums(&quot;1, 2, 3, 4&quot;) ➞ 24\n",
    "\n",
    "multiply_nums(&quot;54, 75, 453, 0&quot;) ➞ 0\n",
    "\n",
    "multiply_nums(&quot;10, -2&quot;) ➞ -20"
   ]
  },
  {
   "cell_type": "code",
   "execution_count": 16,
   "metadata": {},
   "outputs": [
    {
     "name": "stdout",
     "output_type": "stream",
     "text": [
      "-20\n"
     ]
    }
   ],
   "source": [
    "class InvalidStringError(Exception):\n",
    "    \n",
    "    def __init__(self,message):\n",
    "        super().__init__(message)\n",
    "\n",
    "class string_func:\n",
    "    \n",
    "    def multiply_nums(self,s):\n",
    "        if(type(s) == str):\n",
    "            l = s.split(', ')\n",
    "            prod = 1\n",
    "            for i in l:\n",
    "                try:\n",
    "                    prod = prod * int(i)\n",
    "                except ValueError as e:\n",
    "                    raise InvalidStringError('Please enter a valid string')\n",
    "            return prod\n",
    "        else:\n",
    "            raise ValueError('str is required as argument')\n",
    "            \n",
    "            \n",
    "try:\n",
    "    print(string_func().multiply_nums(\"10, -2\"))\n",
    "except InvalidStringError as e:\n",
    "    print(e)\n",
    "except ValueError as e:\n",
    "    print(e)\n",
    "except Exception as e:\n",
    "    print(e)"
   ]
  },
  {
   "cell_type": "markdown",
   "metadata": {},
   "source": [
    "#3 Create a function that squares every digit of a number.\n",
    "Examples\n",
    "\n",
    "square_digits(9119) ➞ 811181\n",
    "\n",
    "square_digits(2483) ➞ 416649\n",
    "\n",
    "square_digits(3212) ➞ 9414"
   ]
  },
  {
   "cell_type": "code",
   "execution_count": 17,
   "metadata": {},
   "outputs": [
    {
     "name": "stdout",
     "output_type": "stream",
     "text": [
      "811181\n"
     ]
    }
   ],
   "source": [
    "class number_func:\n",
    "    \n",
    "    def square_digits(self,n):\n",
    "        if(type(n) == int):\n",
    "            k = n\n",
    "            num = 0\n",
    "            while(k != 0) :\n",
    "                d = k%10\n",
    "                if d < 4:\n",
    "                    num = num * 10 + (d ** 2)\n",
    "                else:\n",
    "                    num = num * 100 + (d ** 2)\n",
    "                k = k // 10\n",
    "            return num\n",
    "        else:\n",
    "            raise ValueError('int is required')\n",
    "            \n",
    "try:\n",
    "    print(number_func().square_digits(9119))\n",
    "except ValueError as e:\n",
    "    print(e)\n",
    "except Exception as e:\n",
    "    print(e)"
   ]
  },
  {
   "cell_type": "markdown",
   "metadata": {},
   "source": [
    "#4 Create a function that sorts a list and removes all duplicate items from it.\n",
    "Examples\n",
    "\n",
    "setify([1, 3, 3, 5, 5]) ➞ [1, 3, 5]\n",
    "\n",
    "setify([4, 4, 4, 4]) ➞ [4]\n",
    "\n",
    "setify([5, 7, 8, 9, 10, 15]) ➞ [5, 7, 8, 9, 10, 15]\n",
    "\n",
    "setify([3, 3, 3, 2, 1]) ➞ [1, 2, 3]"
   ]
  },
  {
   "cell_type": "code",
   "execution_count": 19,
   "metadata": {},
   "outputs": [
    {
     "name": "stdout",
     "output_type": "stream",
     "text": [
      "[1, 2, 3]\n"
     ]
    }
   ],
   "source": [
    "class list_func:\n",
    "    \n",
    "    def setify(self,l):\n",
    "        if(type(l) == list):\n",
    "            return list(set(l))\n",
    "        else:\n",
    "            raise ValueError('list is required')\n",
    "            \n",
    "try:\n",
    "    print(list_func().setify([3,3,3,2,1]))\n",
    "except ValueError as e:\n",
    "    print(e)\n",
    "except Exception as e:\n",
    "    print(e)"
   ]
  },
  {
   "cell_type": "markdown",
   "metadata": {},
   "source": [
    "#5 Create a function that returns the mean of all digits.\n",
    "Examples\n",
    "\n",
    "mean(42) ➞ 3\n",
    "\n",
    "mean(12345) ➞ 3\n",
    "\n",
    "mean(666) ➞ 6"
   ]
  },
  {
   "cell_type": "code",
   "execution_count": 20,
   "metadata": {},
   "outputs": [
    {
     "name": "stdout",
     "output_type": "stream",
     "text": [
      "3.0\n"
     ]
    }
   ],
   "source": [
    "class number_func:\n",
    "    \n",
    "    def mean(self,n):\n",
    "        if(type(n) == int):\n",
    "            k = n\n",
    "            m = 0\n",
    "            count = 0\n",
    "            while(k != 0):\n",
    "                d = k % 10\n",
    "                m += d\n",
    "                count += 1\n",
    "                k = k // 10\n",
    "            return m/count\n",
    "        else:\n",
    "            raise ValueError('int is required')\n",
    "    \n",
    "try:\n",
    "    print(number_func().mean(12345))\n",
    "except ValueError as e:\n",
    "    print(e)\n",
    "except Exception as e:\n",
    "    print(e)"
   ]
  },
  {
   "cell_type": "code",
   "execution_count": null,
   "metadata": {},
   "outputs": [],
   "source": []
  }
 ],
 "metadata": {
  "kernelspec": {
   "display_name": "Python 3",
   "language": "python",
   "name": "python3"
  },
  "language_info": {
   "codemirror_mode": {
    "name": "ipython",
    "version": 3
   },
   "file_extension": ".py",
   "mimetype": "text/x-python",
   "name": "python",
   "nbconvert_exporter": "python",
   "pygments_lexer": "ipython3",
   "version": "3.7.6"
  }
 },
 "nbformat": 4,
 "nbformat_minor": 4
}
