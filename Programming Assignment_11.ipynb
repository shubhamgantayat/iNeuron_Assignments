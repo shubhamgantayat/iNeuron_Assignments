{
 "cells": [
  {
   "cell_type": "markdown",
   "metadata": {},
   "source": [
    "#1 Write a Python program to find words which are greater than given length k?"
   ]
  },
  {
   "cell_type": "code",
   "execution_count": 2,
   "metadata": {},
   "outputs": [
    {
     "name": "stdout",
     "output_type": "stream",
     "text": [
      "['asdjksadj', 'dsdfrfer', 'ffefsdff', 'fewfef', 'fefeds']\n"
     ]
    }
   ],
   "source": [
    "def word_filter(string,k):\n",
    "    return len(string) > k\n",
    "    \n",
    "l = ['asdjksadj','sdds','sds','dsdfrfer','ffefsdff','fewfef','fefe','fefeds']\n",
    "k = 5\n",
    "print(list(filter(lambda x:word_filter(x,k),l)))"
   ]
  },
  {
   "cell_type": "markdown",
   "metadata": {},
   "source": [
    "#2 Write a Python program for removing i-th character from a string?"
   ]
  },
  {
   "cell_type": "code",
   "execution_count": 3,
   "metadata": {},
   "outputs": [
    {
     "name": "stdout",
     "output_type": "stream",
     "text": [
      "['helo', 'word', 'thi', 'is', 'shuham', 'wriing', 'a', 'borng', 'proram']\n"
     ]
    }
   ],
   "source": [
    "def remove_char(string,k):\n",
    "    return string[:k] + string[k+1:]\n",
    "\n",
    "l = ['hello','world','this','is','shubham','writing','a','boring','program']\n",
    "k = 3\n",
    "print(list(map(lambda x:remove_char(x,k),l)))"
   ]
  },
  {
   "cell_type": "markdown",
   "metadata": {},
   "source": [
    "#3 Write a Python program to split and join a string?"
   ]
  },
  {
   "cell_type": "code",
   "execution_count": 4,
   "metadata": {},
   "outputs": [
    {
     "name": "stdout",
     "output_type": "stream",
     "text": [
      "hello*world\n"
     ]
    }
   ],
   "source": [
    "def split_and_join(string,old_delimeter,new_delimeter):\n",
    "    return new_delimeter.join(string.split(old_delimeter))\n",
    "\n",
    "s = 'hello world'\n",
    "print(split_and_join(s,' ','*'))"
   ]
  },
  {
   "cell_type": "markdown",
   "metadata": {},
   "source": [
    "#4 Write a Python to check if a given string is binary string or not?"
   ]
  },
  {
   "cell_type": "code",
   "execution_count": 15,
   "metadata": {},
   "outputs": [
    {
     "name": "stdout",
     "output_type": "stream",
     "text": [
      "True\n"
     ]
    }
   ],
   "source": [
    "def check_binary(string):\n",
    "    for i in string:\n",
    "        if(i != '1' and i != '0'):\n",
    "            return False\n",
    "    return True\n",
    "\n",
    "n = '1000100011'\n",
    "print(check_binary(n))"
   ]
  },
  {
   "cell_type": "markdown",
   "metadata": {},
   "source": [
    "#5 Write a Python program to find uncommon words from two Strings? "
   ]
  },
  {
   "cell_type": "code",
   "execution_count": 25,
   "metadata": {},
   "outputs": [
    {
     "name": "stdout",
     "output_type": "stream",
     "text": [
      "['h', 'd', 'w', 'r', 'e']\n"
     ]
    }
   ],
   "source": [
    "def uncommon(str1,str2):\n",
    "    s1 = set(str1)\n",
    "    s2 = set(str2)\n",
    "    return list(set(str1).symmetric_difference(str2))\n",
    "\n",
    "str1 = 'hello'\n",
    "str2 = 'world'\n",
    "print(uncommon(str1,str2))"
   ]
  },
  {
   "cell_type": "markdown",
   "metadata": {},
   "source": [
    "#6 Write a Python to find all duplicate characters in string?"
   ]
  },
  {
   "cell_type": "code",
   "execution_count": 31,
   "metadata": {},
   "outputs": [
    {
     "name": "stdout",
     "output_type": "stream",
     "text": [
      "['l', 'o']\n"
     ]
    }
   ],
   "source": [
    "def duplicate(str1):\n",
    "    d = dict()\n",
    "    for i in str1:\n",
    "        if(i not in d.keys()):\n",
    "            d[i] = 0\n",
    "        d[i] += 1\n",
    "    return list(filter(lambda x:d[x] > 1,d))\n",
    "\n",
    "str1 = 'hello world'\n",
    "print(duplicate(str1))"
   ]
  },
  {
   "cell_type": "markdown",
   "metadata": {},
   "source": [
    "#7 Write a Python Program to check if a string contains any special character?"
   ]
  },
  {
   "cell_type": "code",
   "execution_count": 35,
   "metadata": {},
   "outputs": [
    {
     "name": "stdout",
     "output_type": "stream",
     "text": [
      "hello world\n"
     ]
    }
   ],
   "source": [
    "def check_special(string):\n",
    "    return ''.join(list(filter(lambda x:x.isspace() or x.isalnum(),list(string))))\n",
    "\n",
    "str1 = 'hello%&* worl*^@*@(d'\n",
    "print(check_special(str1))"
   ]
  },
  {
   "cell_type": "code",
   "execution_count": null,
   "metadata": {},
   "outputs": [],
   "source": []
  }
 ],
 "metadata": {
  "kernelspec": {
   "display_name": "Python 3",
   "language": "python",
   "name": "python3"
  },
  "language_info": {
   "codemirror_mode": {
    "name": "ipython",
    "version": 3
   },
   "file_extension": ".py",
   "mimetype": "text/x-python",
   "name": "python",
   "nbconvert_exporter": "python",
   "pygments_lexer": "ipython3",
   "version": "3.7.6"
  }
 },
 "nbformat": 4,
 "nbformat_minor": 4
}
